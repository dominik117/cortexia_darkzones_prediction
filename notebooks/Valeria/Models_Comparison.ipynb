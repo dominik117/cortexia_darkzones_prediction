{
  "cells": [
    {
      "cell_type": "markdown",
      "source": [
        "In this notebook we tried different models in gridsearch:\n",
        "- HistGradientBoostingRegressor\n",
        "- Poisson\n",
        "- Linear Regression\n",
        "- KNRegressor\n",
        "- Random Forest\n",
        "- Decision Tree"
      ],
      "metadata": {
        "id": "4Z3XQD_DUO8l"
      }
    },
    {
      "cell_type": "code",
      "source": [
        "# Install OSMNX only if working on Google Colab\n",
        "import sys\n",
        "IN_COLAB = 'google.colab' in sys.modules\n",
        "if IN_COLAB:\n",
        "    !pip install osmnx\n",
        "    !pip install matplotlib==3.1.1 "
      ],
      "metadata": {
        "id": "0zIfZ38S7RM9"
      },
      "execution_count": null,
      "outputs": []
    },
    {
      "cell_type": "code",
      "execution_count": null,
      "metadata": {
        "id": "otnO4nVddKib"
      },
      "outputs": [],
      "source": [
        "import pandas as pd\n",
        "import numpy as np\n",
        "import matplotlib.pyplot as plt\n",
        "import seaborn as sns\n",
        "\n",
        "from sklearn.pipeline import Pipeline\n",
        "from sklearn.model_selection import train_test_split\n",
        "from sklearn import linear_model\n",
        "from sklearn.compose import ColumnTransformer\n",
        "from sklearn.preprocessing import RobustScaler, OneHotEncoder, OrdinalEncoder\n",
        "\n",
        "from sklearn.model_selection import GridSearchCV\n",
        "\n",
        "from sklearn.linear_model import LinearRegression\n",
        "from sklearn.linear_model import PoissonRegressor\n",
        "from sklearn.neighbors import KNeighborsRegressor\n",
        "from sklearn.ensemble import RandomForestRegressor\n",
        "from sklearn.tree import DecisionTreeRegressor\n",
        "from sklearn.ensemble import HistGradientBoostingRegressor\n",
        "\n",
        "import sklearn\n",
        "import requests"
      ]
    },
    {
      "cell_type": "code",
      "source": [
        "# Load datasets if working on Google Colab\n",
        "import sys\n",
        "IN_COLAB = 'google.colab' in sys.modules\n",
        "if IN_COLAB:\n",
        "    from pydrive.auth import GoogleAuth\n",
        "    from pydrive.drive import GoogleDrive\n",
        "    from google.colab import auth\n",
        "    from oauth2client.client import GoogleCredentials\n",
        "    auth.authenticate_user()\n",
        "    gauth = GoogleAuth()\n",
        "    gauth.credentials = GoogleCredentials.get_application_default()\n",
        "    drive = GoogleDrive(gauth)\n",
        "    file_id = '1tfAjKLhhl3lteqf_EkFoyIPY2IdBJFVn'\n",
        "    downloaded = drive.CreateFile({'id':file_id})\n",
        "    downloaded.FetchMetadata(fetch_all=True)\n",
        "    downloaded.GetContentFile(downloaded.metadata['title'])\n",
        "    f = open(\"V2data_6mounts2022.csv.zip\", \"wb\")\n",
        "    f.write(downloaded.content.getbuffer())\n",
        "    f.close()\n",
        "    !unzip V2data_6mounts2022.csv.zip"
      ],
      "metadata": {
        "id": "5Nw5KiaK7SDn"
      },
      "execution_count": null,
      "outputs": []
    },
    {
      "cell_type": "code",
      "source": [
        "IN_COLAB = 'google.colab' in sys.modules\n",
        "if IN_COLAB:\n",
        "    r = requests.get('https://raw.githubusercontent.com/dominik117/data-science-toolkit/main/helper_notebooks/data_processor.py')\n",
        "    with open('data_processor.py', 'w') as f:\n",
        "        f.write(r.text)\n",
        "    r = requests.get('https://raw.githubusercontent.com/dominik117/data-science-toolkit/main/helper_notebooks/darkzone_creator.py')\n",
        "    with open('darkzone_creator.py', 'w') as f:\n",
        "        f.write(r.text)\n",
        "\n",
        "import data_processor \n",
        "import darkzone_creator"
      ],
      "metadata": {
        "id": "24TqFiUJ40vh"
      },
      "execution_count": null,
      "outputs": []
    },
    {
      "cell_type": "code",
      "source": [
        "IN_COLAB = 'google.colab' in sys.modules\n",
        "if IN_COLAB: df_main_url = '/content/data.csv'\n",
        "else: df_main_url = '../../../Information/output/datav2.csv'\n",
        "amenities_df = pd.read_csv(df_main_url, dtype = {'place.id': object})\n",
        "amenities_df.drop('Unnamed: 0', axis=1, inplace=True, errors='ignore')\n",
        "amenities_df = data_processor.clean_df(amenities_df)\n",
        "amenities_df = data_processor.aggregate_df(amenities_df)\n",
        "amenities_df['row_type'] = \"ground truth\"\n",
        "amenities_df = data_processor.make_date_features(amenities_df)\n",
        "amenities_df = data_processor.make_coordinates_features(amenities_df)\n",
        "amenities_df = data_processor.make_edge_length_feature(amenities_df)\n",
        "amenities_df = data_processor.make_weather_features(amenities_df)\n",
        "amenities_df, osm_columns = data_processor.make_osm_features(amenities_df)"
      ],
      "metadata": {
        "id": "ZqJOgou76DP4"
      },
      "execution_count": null,
      "outputs": []
    },
    {
      "cell_type": "code",
      "source": [
        "amenities_df.info()"
      ],
      "metadata": {
        "colab": {
          "base_uri": "https://localhost:8080/",
          "height": 169
        },
        "id": "pVpr50VtSnn2",
        "outputId": "62785770-a9ee-45dd-908d-900e18a63cc2"
      },
      "execution_count": 1,
      "outputs": [
        {
          "output_type": "error",
          "ename": "NameError",
          "evalue": "ignored",
          "traceback": [
            "\u001b[0;31m---------------------------------------------------------------------------\u001b[0m",
            "\u001b[0;31mNameError\u001b[0m                                 Traceback (most recent call last)",
            "\u001b[0;32m<ipython-input-1-14dbe4e1a88b>\u001b[0m in \u001b[0;36m<module>\u001b[0;34m\u001b[0m\n\u001b[0;32m----> 1\u001b[0;31m \u001b[0mamenities_df\u001b[0m\u001b[0;34m.\u001b[0m\u001b[0minfo\u001b[0m\u001b[0;34m(\u001b[0m\u001b[0;34m)\u001b[0m\u001b[0;34m\u001b[0m\u001b[0;34m\u001b[0m\u001b[0m\n\u001b[0m",
            "\u001b[0;31mNameError\u001b[0m: name 'amenities_df' is not defined"
          ]
        }
      ]
    },
    {
      "cell_type": "code",
      "source": [
        "cat_features_lst = ['date_utc', 'edge_id', 'edge_osmid', 'osm_highway', \n",
        "                              'month', 'day', 'weekday', 'holiday', 'atm', 'bar', \n",
        "                              'bench', 'childcare', 'cinema', 'clinic', 'fast_food', \n",
        "                              'fountain', 'fuel', 'ice_cream', 'kindergarten', \n",
        "                              'marketplace', 'nightclub', 'parking', 'recycling', \n",
        "                              'school', 'taxi', 'toilets', 'vending_machine', \n",
        "                              'waste_basket', 'waste_disposal']"
      ],
      "metadata": {
        "id": "nPnNPLN8VpOQ"
      },
      "execution_count": null,
      "outputs": []
    },
    {
      "cell_type": "code",
      "source": [
        "num_features_lst = ['lat_north', 'lat_south', 'lon_east', 'lon_west', \n",
        "                          'edge_length', 'temperature_max', 'temperature_min', \n",
        "                          'temperature_mean', 'precipitation', 'snowfall', \n",
        "                          'humidity_max', 'humidity_min', 'humidity_mean', \n",
        "                          'cloud_coverage', 'wind_speed_max', 'wind_speed_min', \n",
        "                          'wind_speed_mean']"
      ],
      "metadata": {
        "id": "T4hLv9xIVzD3"
      },
      "execution_count": null,
      "outputs": []
    },
    {
      "cell_type": "code",
      "execution_count": null,
      "metadata": {
        "id": "grIkiZqnCLTo"
      },
      "outputs": [],
      "source": [
        "df_log = pd.DataFrame(columns = ['model', 'features', 'litter', 'score'])"
      ]
    },
    {
      "cell_type": "markdown",
      "metadata": {
        "id": "NZvTU_Bzn188"
      },
      "source": [
        "# HistGradientBoostingRegressor"
      ]
    },
    {
      "cell_type": "code",
      "execution_count": null,
      "metadata": {
        "id": "0pSfsH6vbTvk"
      },
      "outputs": [],
      "source": [
        "def grid_for_hist_gb_regressor(lit, df):\n",
        "  # Splitting\n",
        "  X_train, X_test, y_train, y_test = train_test_split(df.drop(df.iloc[:, 4:36], axis = 1), df[lit], test_size=0.2)\n",
        "  # Categorical & numeric\n",
        "  all_categorical_features = cat_features_lst\n",
        "  all_numeric_features = num_features_lst\n",
        "  categorical_features = X_train[[i for i in X_train.columns if i in all_categorical_features]].columns.tolist()\n",
        "  numeric_features = X_train[[i for i in X_train.columns if i in all_numeric_features]].columns.tolist()\n",
        "  #Categorical and numeric transformer\n",
        "  categorical_transformer = Pipeline(steps=[(\"ordinal\", OrdinalEncoder(handle_unknown=\"use_encoded_value\", unknown_value=np.nan))])\n",
        "  #Preprocessor\n",
        "  preprocessor = ColumnTransformer(transformers=[(\"num\", \"passthrough\",\n",
        "                                                       numeric_features),\n",
        "                                                 (\"cat\", categorical_transformer,\n",
        "                                                       categorical_features)]\n",
        "                                   )\n",
        "  #Model\n",
        "  hgb_poisson_model = HistGradientBoostingRegressor(learning_rate=0.01)\n",
        "\n",
        "  hgb_pipeline_poisson = Pipeline(steps=[\n",
        "                              (\"pre_process\", preprocessor),\n",
        "                              (\"hgb_poisson_model\", hgb_poisson_model)\n",
        "                              ])\n",
        "  \n",
        "  grid_search = {'hgb_poisson_model__loss': [\"poisson\"], \n",
        "                 'hgb_poisson_model__learning_rate': [2e-2],\n",
        "                 'hgb_poisson_model__max_iter':[1000, 10000], \n",
        "                 'hgb_poisson_model__l2_regularization':[2e-2]\n",
        "               }\n",
        "               \n",
        "  print(hgb_poisson_model.get_params(), '\\n')\n",
        "  print(hgb_pipeline_poisson.get_params().keys(), '\\n')\n",
        "  print(sorted(sklearn.metrics.SCORERS.keys()))\n",
        "\n",
        "  model = GridSearchCV(estimator=hgb_pipeline_poisson, param_grid=grid_search,\n",
        "                     scoring='neg_mean_poisson_deviance', verbose=5, n_jobs=-1)\n",
        "  \n",
        "  model.fit(X_train, y_train)\n",
        "\n",
        "  # prediction = model.best_estimator_.predict(X_test)\n",
        "\n",
        "  best_model = model.best_estimator_\n",
        "\n",
        "  score = best_model.score(X_test, y_test)\n",
        "\n",
        "  cols = list(X_test.columns)\n",
        "  model = best_model[1]\n",
        "  print(cols)\n",
        "  print(model)\n",
        "  print('\\n')\n",
        "  return score, cols, model\n"
      ]
    },
    {
      "cell_type": "markdown",
      "metadata": {
        "id": "C5xvhj-s7WX1"
      },
      "source": [
        "### Model"
      ]
    },
    {
      "cell_type": "code",
      "execution_count": null,
      "metadata": {
        "colab": {
          "base_uri": "https://localhost:8080/"
        },
        "id": "VToN8iEwZPQQ",
        "outputId": "dc62d2fe-f25c-4cb3-d75c-52663a225f1f"
      },
      "outputs": [
        {
          "output_type": "stream",
          "name": "stdout",
          "text": [
            "{'categorical_features': None, 'early_stopping': 'auto', 'l2_regularization': 0.0, 'learning_rate': 0.01, 'loss': 'squared_error', 'max_bins': 255, 'max_depth': None, 'max_iter': 100, 'max_leaf_nodes': 31, 'min_samples_leaf': 20, 'monotonic_cst': None, 'n_iter_no_change': 10, 'random_state': None, 'scoring': 'loss', 'tol': 1e-07, 'validation_fraction': 0.1, 'verbose': 0, 'warm_start': False} \n",
            "\n",
            "dict_keys(['memory', 'steps', 'verbose', 'pre_process', 'hgb_poisson_model', 'pre_process__n_jobs', 'pre_process__remainder', 'pre_process__sparse_threshold', 'pre_process__transformer_weights', 'pre_process__transformers', 'pre_process__verbose', 'pre_process__verbose_feature_names_out', 'pre_process__num', 'pre_process__cat', 'pre_process__cat__memory', 'pre_process__cat__steps', 'pre_process__cat__verbose', 'pre_process__cat__ordinal', 'pre_process__cat__ordinal__categories', 'pre_process__cat__ordinal__dtype', 'pre_process__cat__ordinal__handle_unknown', 'pre_process__cat__ordinal__unknown_value', 'hgb_poisson_model__categorical_features', 'hgb_poisson_model__early_stopping', 'hgb_poisson_model__l2_regularization', 'hgb_poisson_model__learning_rate', 'hgb_poisson_model__loss', 'hgb_poisson_model__max_bins', 'hgb_poisson_model__max_depth', 'hgb_poisson_model__max_iter', 'hgb_poisson_model__max_leaf_nodes', 'hgb_poisson_model__min_samples_leaf', 'hgb_poisson_model__monotonic_cst', 'hgb_poisson_model__n_iter_no_change', 'hgb_poisson_model__random_state', 'hgb_poisson_model__scoring', 'hgb_poisson_model__tol', 'hgb_poisson_model__validation_fraction', 'hgb_poisson_model__verbose', 'hgb_poisson_model__warm_start']) \n",
            "\n",
            "['accuracy', 'adjusted_mutual_info_score', 'adjusted_rand_score', 'average_precision', 'balanced_accuracy', 'completeness_score', 'explained_variance', 'f1', 'f1_macro', 'f1_micro', 'f1_samples', 'f1_weighted', 'fowlkes_mallows_score', 'homogeneity_score', 'jaccard', 'jaccard_macro', 'jaccard_micro', 'jaccard_samples', 'jaccard_weighted', 'max_error', 'mutual_info_score', 'neg_brier_score', 'neg_log_loss', 'neg_mean_absolute_error', 'neg_mean_absolute_percentage_error', 'neg_mean_gamma_deviance', 'neg_mean_poisson_deviance', 'neg_mean_squared_error', 'neg_mean_squared_log_error', 'neg_median_absolute_error', 'neg_root_mean_squared_error', 'normalized_mutual_info_score', 'precision', 'precision_macro', 'precision_micro', 'precision_samples', 'precision_weighted', 'r2', 'rand_score', 'recall', 'recall_macro', 'recall_micro', 'recall_samples', 'recall_weighted', 'roc_auc', 'roc_auc_ovo', 'roc_auc_ovo_weighted', 'roc_auc_ovr', 'roc_auc_ovr_weighted', 'top_k_accuracy', 'v_measure_score']\n",
            "Fitting 5 folds for each of 2 candidates, totalling 10 fits\n",
            "['date_utc', 'edge_id', 'edge_osmid', 'osm_highway', 'month', 'day', 'weekday', 'holiday', 'lat_north', 'lat_south', 'lon_east', 'lon_west', 'edge_length', 'temperature_max', 'temperature_min', 'temperature_mean', 'precipitation', 'snowfall', 'humidity_max', 'humidity_min', 'humidity_mean', 'cloud_coverage', 'wind_speed_max', 'wind_speed_min', 'wind_speed_mean', 'atm', 'bar', 'bench', 'childcare', 'cinema', 'clinic', 'fast_food', 'fountain', 'fuel', 'ice_cream', 'kindergarten', 'marketplace', 'nightclub', 'parking', 'recycling', 'school', 'taxi', 'toilets', 'vending_machine', 'waste_basket', 'waste_disposal']\n",
            "HistGradientBoostingRegressor(l2_regularization=0.02, learning_rate=0.02,\n",
            "                              loss='poisson', max_iter=10000)\n",
            "\n",
            "\n",
            "hgb with poisson score for total litter: 0.5283004110405255\n"
          ]
        }
      ],
      "source": [
        "lit = 'total_litter'\n",
        "score, cols, model = grid_for_hist_gb_regressor(lit, amenities_df)\n",
        "df_log = df_log.append({'model':model, 'features': cols, 'litter':lit, 'score': score}, ignore_index=True)\n",
        "print(f'hgb with poisson score for total litter: {score}')"
      ]
    },
    {
      "cell_type": "code",
      "execution_count": null,
      "metadata": {
        "colab": {
          "base_uri": "https://localhost:8080/",
          "height": 81
        },
        "id": "sRgahGjWYNdw",
        "outputId": "db2cc454-b527-48d5-df1c-07be8a44359b"
      },
      "outputs": [
        {
          "output_type": "execute_result",
          "data": {
            "text/plain": [
              "                                               model  \\\n",
              "0  HistGradientBoostingRegressor(l2_regularizatio...   \n",
              "\n",
              "                                            features        litter   score  \n",
              "0  [date_utc, edge_id, edge_osmid, osm_highway, m...  total_litter  0.5283  "
            ],
            "text/html": [
              "\n",
              "  <div id=\"df-c89a354e-7d0b-430c-a47c-ab73fd8580e7\">\n",
              "    <div class=\"colab-df-container\">\n",
              "      <div>\n",
              "<style scoped>\n",
              "    .dataframe tbody tr th:only-of-type {\n",
              "        vertical-align: middle;\n",
              "    }\n",
              "\n",
              "    .dataframe tbody tr th {\n",
              "        vertical-align: top;\n",
              "    }\n",
              "\n",
              "    .dataframe thead th {\n",
              "        text-align: right;\n",
              "    }\n",
              "</style>\n",
              "<table border=\"1\" class=\"dataframe\">\n",
              "  <thead>\n",
              "    <tr style=\"text-align: right;\">\n",
              "      <th></th>\n",
              "      <th>model</th>\n",
              "      <th>features</th>\n",
              "      <th>litter</th>\n",
              "      <th>score</th>\n",
              "    </tr>\n",
              "  </thead>\n",
              "  <tbody>\n",
              "    <tr>\n",
              "      <th>0</th>\n",
              "      <td>HistGradientBoostingRegressor(l2_regularizatio...</td>\n",
              "      <td>[date_utc, edge_id, edge_osmid, osm_highway, m...</td>\n",
              "      <td>total_litter</td>\n",
              "      <td>0.5283</td>\n",
              "    </tr>\n",
              "  </tbody>\n",
              "</table>\n",
              "</div>\n",
              "      <button class=\"colab-df-convert\" onclick=\"convertToInteractive('df-c89a354e-7d0b-430c-a47c-ab73fd8580e7')\"\n",
              "              title=\"Convert this dataframe to an interactive table.\"\n",
              "              style=\"display:none;\">\n",
              "        \n",
              "  <svg xmlns=\"http://www.w3.org/2000/svg\" height=\"24px\"viewBox=\"0 0 24 24\"\n",
              "       width=\"24px\">\n",
              "    <path d=\"M0 0h24v24H0V0z\" fill=\"none\"/>\n",
              "    <path d=\"M18.56 5.44l.94 2.06.94-2.06 2.06-.94-2.06-.94-.94-2.06-.94 2.06-2.06.94zm-11 1L8.5 8.5l.94-2.06 2.06-.94-2.06-.94L8.5 2.5l-.94 2.06-2.06.94zm10 10l.94 2.06.94-2.06 2.06-.94-2.06-.94-.94-2.06-.94 2.06-2.06.94z\"/><path d=\"M17.41 7.96l-1.37-1.37c-.4-.4-.92-.59-1.43-.59-.52 0-1.04.2-1.43.59L10.3 9.45l-7.72 7.72c-.78.78-.78 2.05 0 2.83L4 21.41c.39.39.9.59 1.41.59.51 0 1.02-.2 1.41-.59l7.78-7.78 2.81-2.81c.8-.78.8-2.07 0-2.86zM5.41 20L4 18.59l7.72-7.72 1.47 1.35L5.41 20z\"/>\n",
              "  </svg>\n",
              "      </button>\n",
              "      \n",
              "  <style>\n",
              "    .colab-df-container {\n",
              "      display:flex;\n",
              "      flex-wrap:wrap;\n",
              "      gap: 12px;\n",
              "    }\n",
              "\n",
              "    .colab-df-convert {\n",
              "      background-color: #E8F0FE;\n",
              "      border: none;\n",
              "      border-radius: 50%;\n",
              "      cursor: pointer;\n",
              "      display: none;\n",
              "      fill: #1967D2;\n",
              "      height: 32px;\n",
              "      padding: 0 0 0 0;\n",
              "      width: 32px;\n",
              "    }\n",
              "\n",
              "    .colab-df-convert:hover {\n",
              "      background-color: #E2EBFA;\n",
              "      box-shadow: 0px 1px 2px rgba(60, 64, 67, 0.3), 0px 1px 3px 1px rgba(60, 64, 67, 0.15);\n",
              "      fill: #174EA6;\n",
              "    }\n",
              "\n",
              "    [theme=dark] .colab-df-convert {\n",
              "      background-color: #3B4455;\n",
              "      fill: #D2E3FC;\n",
              "    }\n",
              "\n",
              "    [theme=dark] .colab-df-convert:hover {\n",
              "      background-color: #434B5C;\n",
              "      box-shadow: 0px 1px 3px 1px rgba(0, 0, 0, 0.15);\n",
              "      filter: drop-shadow(0px 1px 2px rgba(0, 0, 0, 0.3));\n",
              "      fill: #FFFFFF;\n",
              "    }\n",
              "  </style>\n",
              "\n",
              "      <script>\n",
              "        const buttonEl =\n",
              "          document.querySelector('#df-c89a354e-7d0b-430c-a47c-ab73fd8580e7 button.colab-df-convert');\n",
              "        buttonEl.style.display =\n",
              "          google.colab.kernel.accessAllowed ? 'block' : 'none';\n",
              "\n",
              "        async function convertToInteractive(key) {\n",
              "          const element = document.querySelector('#df-c89a354e-7d0b-430c-a47c-ab73fd8580e7');\n",
              "          const dataTable =\n",
              "            await google.colab.kernel.invokeFunction('convertToInteractive',\n",
              "                                                     [key], {});\n",
              "          if (!dataTable) return;\n",
              "\n",
              "          const docLinkHtml = 'Like what you see? Visit the ' +\n",
              "            '<a target=\"_blank\" href=https://colab.research.google.com/notebooks/data_table.ipynb>data table notebook</a>'\n",
              "            + ' to learn more about interactive tables.';\n",
              "          element.innerHTML = '';\n",
              "          dataTable['output_type'] = 'display_data';\n",
              "          await google.colab.output.renderOutput(dataTable, element);\n",
              "          const docLink = document.createElement('div');\n",
              "          docLink.innerHTML = docLinkHtml;\n",
              "          element.appendChild(docLink);\n",
              "        }\n",
              "      </script>\n",
              "    </div>\n",
              "  </div>\n",
              "  "
            ]
          },
          "metadata": {},
          "execution_count": 27
        }
      ],
      "source": [
        "df_log"
      ]
    },
    {
      "cell_type": "markdown",
      "metadata": {
        "id": "BrJHD5mFSPhq"
      },
      "source": [
        "# Poisson"
      ]
    },
    {
      "cell_type": "code",
      "execution_count": null,
      "metadata": {
        "id": "X8ECiL9rSPE7"
      },
      "outputs": [],
      "source": [
        "def grid_for_poisson(lit, df):\n",
        "  # Splitting\n",
        "  X_train, X_test, y_train, y_test = train_test_split(df.drop(df.iloc[:, 4:36], axis = 1), df[lit], test_size=0.2)\n",
        "  # Categorical & numeric\n",
        "  all_categorical_features = cat_features_lst \n",
        "  all_numeric_features = num_features_lst\n",
        "  categorical_features = X_train[[i for i in X_train.columns if i in all_categorical_features]].columns.tolist()\n",
        "  numeric_features = X_train[[i for i in X_train.columns if i in all_numeric_features]].columns.tolist()\n",
        "  #Categorical and numeric transformer\n",
        "  categorical_transformer = Pipeline(steps=[(\"onehot\", OneHotEncoder(handle_unknown=\"ignore\"))])\n",
        "  numeric_transformer = Pipeline(steps=[(\"scaler\", RobustScaler())])\n",
        "  #Preprocessor\n",
        "  preprocessor = ColumnTransformer(transformers=[(\"num\", numeric_transformer,\n",
        "                                                       numeric_features),\n",
        "                                                 (\"cat\", categorical_transformer,\n",
        "                                                       categorical_features)]\n",
        "                                   )\n",
        "  #Model\n",
        "  poisson_model = PoissonRegressor()\n",
        "\n",
        "  pipeline_poisson = Pipeline(steps=[\n",
        "                              (\"pre_process\", preprocessor),\n",
        "                              (\"poisson_model\", poisson_model)\n",
        "                              ])\n",
        "  \n",
        "  print(poisson_model.get_params(), '\\n')\n",
        "  print(pipeline_poisson.get_params().keys(), '\\n')\n",
        "  print(sorted(sklearn.metrics.SCORERS.keys()))\n",
        "  \n",
        "  grid_search = {'poisson_model__alpha' : [1e-4],\n",
        "                 'poisson_model__max_iter' : [10000]\n",
        "                 }\n",
        "\n",
        "  model = GridSearchCV(estimator=pipeline_poisson, param_grid=grid_search,\n",
        "                     scoring='neg_mean_poisson_deviance', verbose=5, n_jobs=-1)\n",
        "  model.fit(X_train, y_train)\n",
        "\n",
        "  # prediction = model.best_estimator_.predict(X_test)\n",
        "\n",
        "  best_model = model.best_estimator_\n",
        "\n",
        "  score = best_model.score(X_test, y_test)\n",
        "\n",
        "  cols = list(X_test.columns)\n",
        "  model = best_model[1]\n",
        "  print(cols)\n",
        "  print(model)\n",
        "  print('\\n')\n",
        "  return score, cols, model\n"
      ]
    },
    {
      "cell_type": "code",
      "execution_count": null,
      "metadata": {
        "colab": {
          "base_uri": "https://localhost:8080/"
        },
        "id": "U9bBHc9Mk4ey",
        "outputId": "61ff83ad-f0ee-457a-9282-2979f9e0af05"
      },
      "outputs": [
        {
          "output_type": "stream",
          "name": "stdout",
          "text": [
            "{'alpha': 1.0, 'fit_intercept': True, 'max_iter': 100, 'tol': 0.0001, 'verbose': 0, 'warm_start': False} \n",
            "\n",
            "dict_keys(['memory', 'steps', 'verbose', 'pre_process', 'poisson_model', 'pre_process__n_jobs', 'pre_process__remainder', 'pre_process__sparse_threshold', 'pre_process__transformer_weights', 'pre_process__transformers', 'pre_process__verbose', 'pre_process__verbose_feature_names_out', 'pre_process__num', 'pre_process__cat', 'pre_process__num__memory', 'pre_process__num__steps', 'pre_process__num__verbose', 'pre_process__num__scaler', 'pre_process__num__scaler__copy', 'pre_process__num__scaler__quantile_range', 'pre_process__num__scaler__unit_variance', 'pre_process__num__scaler__with_centering', 'pre_process__num__scaler__with_scaling', 'pre_process__cat__memory', 'pre_process__cat__steps', 'pre_process__cat__verbose', 'pre_process__cat__onehot', 'pre_process__cat__onehot__categories', 'pre_process__cat__onehot__drop', 'pre_process__cat__onehot__dtype', 'pre_process__cat__onehot__handle_unknown', 'pre_process__cat__onehot__sparse', 'poisson_model__alpha', 'poisson_model__fit_intercept', 'poisson_model__max_iter', 'poisson_model__tol', 'poisson_model__verbose', 'poisson_model__warm_start']) \n",
            "\n",
            "['accuracy', 'adjusted_mutual_info_score', 'adjusted_rand_score', 'average_precision', 'balanced_accuracy', 'completeness_score', 'explained_variance', 'f1', 'f1_macro', 'f1_micro', 'f1_samples', 'f1_weighted', 'fowlkes_mallows_score', 'homogeneity_score', 'jaccard', 'jaccard_macro', 'jaccard_micro', 'jaccard_samples', 'jaccard_weighted', 'max_error', 'mutual_info_score', 'neg_brier_score', 'neg_log_loss', 'neg_mean_absolute_error', 'neg_mean_absolute_percentage_error', 'neg_mean_gamma_deviance', 'neg_mean_poisson_deviance', 'neg_mean_squared_error', 'neg_mean_squared_log_error', 'neg_median_absolute_error', 'neg_root_mean_squared_error', 'normalized_mutual_info_score', 'precision', 'precision_macro', 'precision_micro', 'precision_samples', 'precision_weighted', 'r2', 'rand_score', 'recall', 'recall_macro', 'recall_micro', 'recall_samples', 'recall_weighted', 'roc_auc', 'roc_auc_ovo', 'roc_auc_ovo_weighted', 'roc_auc_ovr', 'roc_auc_ovr_weighted', 'top_k_accuracy', 'v_measure_score']\n",
            "Fitting 5 folds for each of 1 candidates, totalling 5 fits\n",
            "['date_utc', 'edge_id', 'edge_osmid', 'osm_highway', 'month', 'day', 'weekday', 'holiday', 'lat_north', 'lat_south', 'lon_east', 'lon_west', 'edge_length', 'temperature_max', 'temperature_min', 'temperature_mean', 'precipitation', 'snowfall', 'humidity_max', 'humidity_min', 'humidity_mean', 'cloud_coverage', 'wind_speed_max', 'wind_speed_min', 'wind_speed_mean', 'atm', 'bar', 'bench', 'childcare', 'cinema', 'clinic', 'fast_food', 'fountain', 'fuel', 'ice_cream', 'kindergarten', 'marketplace', 'nightclub', 'parking', 'recycling', 'school', 'taxi', 'toilets', 'vending_machine', 'waste_basket', 'waste_disposal']\n",
            "PoissonRegressor(alpha=0.0001, max_iter=10000)\n",
            "\n",
            "\n",
            "poisson score for total litter: 0.6427492697268153\n"
          ]
        }
      ],
      "source": [
        "lit = 'total_litter'\n",
        "score, cols, model = grid_for_poisson(lit, amenities_df)\n",
        "df_log = df_log.append({'model':model, 'features': cols, 'litter':lit, 'score': score}, ignore_index=True)\n",
        "print(f'poisson score for total litter: {score}')"
      ]
    },
    {
      "cell_type": "code",
      "execution_count": null,
      "metadata": {
        "colab": {
          "base_uri": "https://localhost:8080/",
          "height": 112
        },
        "id": "-lajsY8olCq2",
        "outputId": "e5be1887-dc8a-4312-f9ed-3a42adcf2ba5"
      },
      "outputs": [
        {
          "output_type": "execute_result",
          "data": {
            "text/plain": [
              "                                               model  \\\n",
              "0  HistGradientBoostingRegressor(l2_regularizatio...   \n",
              "1     PoissonRegressor(alpha=0.0001, max_iter=10000)   \n",
              "\n",
              "                                            features        litter     score  \n",
              "0  [date_utc, edge_id, edge_osmid, osm_highway, m...  total_litter  0.528300  \n",
              "1  [date_utc, edge_id, edge_osmid, osm_highway, m...  total_litter  0.642749  "
            ],
            "text/html": [
              "\n",
              "  <div id=\"df-8bf5eeb7-9d59-48de-8c11-837ac0f82851\">\n",
              "    <div class=\"colab-df-container\">\n",
              "      <div>\n",
              "<style scoped>\n",
              "    .dataframe tbody tr th:only-of-type {\n",
              "        vertical-align: middle;\n",
              "    }\n",
              "\n",
              "    .dataframe tbody tr th {\n",
              "        vertical-align: top;\n",
              "    }\n",
              "\n",
              "    .dataframe thead th {\n",
              "        text-align: right;\n",
              "    }\n",
              "</style>\n",
              "<table border=\"1\" class=\"dataframe\">\n",
              "  <thead>\n",
              "    <tr style=\"text-align: right;\">\n",
              "      <th></th>\n",
              "      <th>model</th>\n",
              "      <th>features</th>\n",
              "      <th>litter</th>\n",
              "      <th>score</th>\n",
              "    </tr>\n",
              "  </thead>\n",
              "  <tbody>\n",
              "    <tr>\n",
              "      <th>0</th>\n",
              "      <td>HistGradientBoostingRegressor(l2_regularizatio...</td>\n",
              "      <td>[date_utc, edge_id, edge_osmid, osm_highway, m...</td>\n",
              "      <td>total_litter</td>\n",
              "      <td>0.528300</td>\n",
              "    </tr>\n",
              "    <tr>\n",
              "      <th>1</th>\n",
              "      <td>PoissonRegressor(alpha=0.0001, max_iter=10000)</td>\n",
              "      <td>[date_utc, edge_id, edge_osmid, osm_highway, m...</td>\n",
              "      <td>total_litter</td>\n",
              "      <td>0.642749</td>\n",
              "    </tr>\n",
              "  </tbody>\n",
              "</table>\n",
              "</div>\n",
              "      <button class=\"colab-df-convert\" onclick=\"convertToInteractive('df-8bf5eeb7-9d59-48de-8c11-837ac0f82851')\"\n",
              "              title=\"Convert this dataframe to an interactive table.\"\n",
              "              style=\"display:none;\">\n",
              "        \n",
              "  <svg xmlns=\"http://www.w3.org/2000/svg\" height=\"24px\"viewBox=\"0 0 24 24\"\n",
              "       width=\"24px\">\n",
              "    <path d=\"M0 0h24v24H0V0z\" fill=\"none\"/>\n",
              "    <path d=\"M18.56 5.44l.94 2.06.94-2.06 2.06-.94-2.06-.94-.94-2.06-.94 2.06-2.06.94zm-11 1L8.5 8.5l.94-2.06 2.06-.94-2.06-.94L8.5 2.5l-.94 2.06-2.06.94zm10 10l.94 2.06.94-2.06 2.06-.94-2.06-.94-.94-2.06-.94 2.06-2.06.94z\"/><path d=\"M17.41 7.96l-1.37-1.37c-.4-.4-.92-.59-1.43-.59-.52 0-1.04.2-1.43.59L10.3 9.45l-7.72 7.72c-.78.78-.78 2.05 0 2.83L4 21.41c.39.39.9.59 1.41.59.51 0 1.02-.2 1.41-.59l7.78-7.78 2.81-2.81c.8-.78.8-2.07 0-2.86zM5.41 20L4 18.59l7.72-7.72 1.47 1.35L5.41 20z\"/>\n",
              "  </svg>\n",
              "      </button>\n",
              "      \n",
              "  <style>\n",
              "    .colab-df-container {\n",
              "      display:flex;\n",
              "      flex-wrap:wrap;\n",
              "      gap: 12px;\n",
              "    }\n",
              "\n",
              "    .colab-df-convert {\n",
              "      background-color: #E8F0FE;\n",
              "      border: none;\n",
              "      border-radius: 50%;\n",
              "      cursor: pointer;\n",
              "      display: none;\n",
              "      fill: #1967D2;\n",
              "      height: 32px;\n",
              "      padding: 0 0 0 0;\n",
              "      width: 32px;\n",
              "    }\n",
              "\n",
              "    .colab-df-convert:hover {\n",
              "      background-color: #E2EBFA;\n",
              "      box-shadow: 0px 1px 2px rgba(60, 64, 67, 0.3), 0px 1px 3px 1px rgba(60, 64, 67, 0.15);\n",
              "      fill: #174EA6;\n",
              "    }\n",
              "\n",
              "    [theme=dark] .colab-df-convert {\n",
              "      background-color: #3B4455;\n",
              "      fill: #D2E3FC;\n",
              "    }\n",
              "\n",
              "    [theme=dark] .colab-df-convert:hover {\n",
              "      background-color: #434B5C;\n",
              "      box-shadow: 0px 1px 3px 1px rgba(0, 0, 0, 0.15);\n",
              "      filter: drop-shadow(0px 1px 2px rgba(0, 0, 0, 0.3));\n",
              "      fill: #FFFFFF;\n",
              "    }\n",
              "  </style>\n",
              "\n",
              "      <script>\n",
              "        const buttonEl =\n",
              "          document.querySelector('#df-8bf5eeb7-9d59-48de-8c11-837ac0f82851 button.colab-df-convert');\n",
              "        buttonEl.style.display =\n",
              "          google.colab.kernel.accessAllowed ? 'block' : 'none';\n",
              "\n",
              "        async function convertToInteractive(key) {\n",
              "          const element = document.querySelector('#df-8bf5eeb7-9d59-48de-8c11-837ac0f82851');\n",
              "          const dataTable =\n",
              "            await google.colab.kernel.invokeFunction('convertToInteractive',\n",
              "                                                     [key], {});\n",
              "          if (!dataTable) return;\n",
              "\n",
              "          const docLinkHtml = 'Like what you see? Visit the ' +\n",
              "            '<a target=\"_blank\" href=https://colab.research.google.com/notebooks/data_table.ipynb>data table notebook</a>'\n",
              "            + ' to learn more about interactive tables.';\n",
              "          element.innerHTML = '';\n",
              "          dataTable['output_type'] = 'display_data';\n",
              "          await google.colab.output.renderOutput(dataTable, element);\n",
              "          const docLink = document.createElement('div');\n",
              "          docLink.innerHTML = docLinkHtml;\n",
              "          element.appendChild(docLink);\n",
              "        }\n",
              "      </script>\n",
              "    </div>\n",
              "  </div>\n",
              "  "
            ]
          },
          "metadata": {},
          "execution_count": 32
        }
      ],
      "source": [
        "df_log"
      ]
    },
    {
      "cell_type": "markdown",
      "metadata": {
        "id": "tvKGvuh_k6Qb"
      },
      "source": [
        "# Linear Regression"
      ]
    },
    {
      "cell_type": "code",
      "execution_count": null,
      "metadata": {
        "id": "aFRrO836lCfM"
      },
      "outputs": [],
      "source": [
        "def grid_for_linear_reg(lit, df):\n",
        "  # Splitting\n",
        "  X_train, X_test, y_train, y_test = train_test_split(df.drop(df.iloc[:, 4:36], axis = 1), df[lit], test_size=0.2)\n",
        "  # Categorical & numeric\n",
        "  all_categorical_features = cat_features_lst \n",
        "  all_numeric_features = num_features_lst\n",
        "  categorical_features = X_train[[i for i in X_train.columns if i in all_categorical_features]].columns.tolist()\n",
        "  numeric_features = X_train[[i for i in X_train.columns if i in all_numeric_features]].columns.tolist()\n",
        "  #Categorical and numeric transformer\n",
        "  categorical_transformer = Pipeline(steps=[(\"onehot\", OneHotEncoder(handle_unknown=\"ignore\"))])\n",
        "  numeric_transformer = Pipeline(steps=[(\"scaler\", RobustScaler())])\n",
        "  #Preprocessor\n",
        "  preprocessor = ColumnTransformer(transformers=[(\"num\", numeric_transformer,\n",
        "                                                       numeric_features),\n",
        "                                                 (\"cat\", categorical_transformer,\n",
        "                                                       categorical_features)]\n",
        "                                   )\n",
        "  #Model\n",
        "  lr_model = linear_model.LinearRegression()\n",
        "\n",
        "  pipeline_lr = Pipeline(steps=[\n",
        "                              (\"pre_process\", preprocessor),\n",
        "                              (\"lr_model\", lr_model)\n",
        "                              ])\n",
        "  \n",
        "  grid_search = {} \n",
        "\n",
        "  model = GridSearchCV(estimator=pipeline_lr, param_grid=grid_search,\n",
        "                     scoring='r2', verbose=5, n_jobs=-1)\n",
        "  model.fit(X_train, y_train)\n",
        "\n",
        "  # prediction = model.best_estimator_.predict(X_test)\n",
        "\n",
        "  best_model = model.best_estimator_\n",
        "\n",
        "  score = best_model.score(X_test, y_test)\n",
        "\n",
        "  cols = list(X_test.columns)\n",
        "  model = best_model[1]\n",
        "  print(cols)\n",
        "  print(model)\n",
        "  print('\\n')\n",
        "  return score, cols, model\n"
      ]
    },
    {
      "cell_type": "code",
      "execution_count": null,
      "metadata": {
        "colab": {
          "base_uri": "https://localhost:8080/"
        },
        "id": "qVv6QsADlCc1",
        "outputId": "f3e9f887-af0e-41cc-b1a3-719ba40fc0ac"
      },
      "outputs": [
        {
          "output_type": "stream",
          "name": "stdout",
          "text": [
            "Fitting 5 folds for each of 1 candidates, totalling 5 fits\n",
            "['date_utc', 'edge_id', 'edge_osmid', 'osm_highway', 'month', 'day', 'weekday', 'holiday', 'lat_north', 'lat_south', 'lon_east', 'lon_west', 'edge_length', 'temperature_max', 'temperature_min', 'temperature_mean', 'precipitation', 'snowfall', 'humidity_max', 'humidity_min', 'humidity_mean', 'cloud_coverage', 'wind_speed_max', 'wind_speed_min', 'wind_speed_mean', 'atm', 'bar', 'bench', 'childcare', 'cinema', 'clinic', 'fast_food', 'fountain', 'fuel', 'ice_cream', 'kindergarten', 'marketplace', 'nightclub', 'parking', 'recycling', 'school', 'taxi', 'toilets', 'vending_machine', 'waste_basket', 'waste_disposal']\n",
            "LinearRegression()\n",
            "\n",
            "\n",
            "Linear regression score for total litter: 0.28441413568139273\n"
          ]
        }
      ],
      "source": [
        "lit = 'total_litter'\n",
        "score, cols, model = grid_for_linear_reg(lit, amenities_df)\n",
        "df_log = df_log.append({'model':model, 'features': cols, 'litter':lit, 'score': score}, ignore_index=True)\n",
        "print(f'Linear regression score for total litter: {score}')"
      ]
    },
    {
      "cell_type": "code",
      "execution_count": null,
      "metadata": {
        "colab": {
          "base_uri": "https://localhost:8080/",
          "height": 143
        },
        "id": "VUjvOZPtpFPy",
        "outputId": "a8536811-60fd-44b2-edd3-5fe4c41c548b"
      },
      "outputs": [
        {
          "output_type": "execute_result",
          "data": {
            "text/plain": [
              "                                               model  \\\n",
              "0  HistGradientBoostingRegressor(l2_regularizatio...   \n",
              "1     PoissonRegressor(alpha=0.0001, max_iter=10000)   \n",
              "2                                 LinearRegression()   \n",
              "\n",
              "                                            features        litter     score  \n",
              "0  [date_utc, edge_id, edge_osmid, osm_highway, m...  total_litter  0.528300  \n",
              "1  [date_utc, edge_id, edge_osmid, osm_highway, m...  total_litter  0.642749  \n",
              "2  [date_utc, edge_id, edge_osmid, osm_highway, m...  total_litter  0.284414  "
            ],
            "text/html": [
              "\n",
              "  <div id=\"df-e71bff87-946f-4931-bf87-de7c9e2745be\">\n",
              "    <div class=\"colab-df-container\">\n",
              "      <div>\n",
              "<style scoped>\n",
              "    .dataframe tbody tr th:only-of-type {\n",
              "        vertical-align: middle;\n",
              "    }\n",
              "\n",
              "    .dataframe tbody tr th {\n",
              "        vertical-align: top;\n",
              "    }\n",
              "\n",
              "    .dataframe thead th {\n",
              "        text-align: right;\n",
              "    }\n",
              "</style>\n",
              "<table border=\"1\" class=\"dataframe\">\n",
              "  <thead>\n",
              "    <tr style=\"text-align: right;\">\n",
              "      <th></th>\n",
              "      <th>model</th>\n",
              "      <th>features</th>\n",
              "      <th>litter</th>\n",
              "      <th>score</th>\n",
              "    </tr>\n",
              "  </thead>\n",
              "  <tbody>\n",
              "    <tr>\n",
              "      <th>0</th>\n",
              "      <td>HistGradientBoostingRegressor(l2_regularizatio...</td>\n",
              "      <td>[date_utc, edge_id, edge_osmid, osm_highway, m...</td>\n",
              "      <td>total_litter</td>\n",
              "      <td>0.528300</td>\n",
              "    </tr>\n",
              "    <tr>\n",
              "      <th>1</th>\n",
              "      <td>PoissonRegressor(alpha=0.0001, max_iter=10000)</td>\n",
              "      <td>[date_utc, edge_id, edge_osmid, osm_highway, m...</td>\n",
              "      <td>total_litter</td>\n",
              "      <td>0.642749</td>\n",
              "    </tr>\n",
              "    <tr>\n",
              "      <th>2</th>\n",
              "      <td>LinearRegression()</td>\n",
              "      <td>[date_utc, edge_id, edge_osmid, osm_highway, m...</td>\n",
              "      <td>total_litter</td>\n",
              "      <td>0.284414</td>\n",
              "    </tr>\n",
              "  </tbody>\n",
              "</table>\n",
              "</div>\n",
              "      <button class=\"colab-df-convert\" onclick=\"convertToInteractive('df-e71bff87-946f-4931-bf87-de7c9e2745be')\"\n",
              "              title=\"Convert this dataframe to an interactive table.\"\n",
              "              style=\"display:none;\">\n",
              "        \n",
              "  <svg xmlns=\"http://www.w3.org/2000/svg\" height=\"24px\"viewBox=\"0 0 24 24\"\n",
              "       width=\"24px\">\n",
              "    <path d=\"M0 0h24v24H0V0z\" fill=\"none\"/>\n",
              "    <path d=\"M18.56 5.44l.94 2.06.94-2.06 2.06-.94-2.06-.94-.94-2.06-.94 2.06-2.06.94zm-11 1L8.5 8.5l.94-2.06 2.06-.94-2.06-.94L8.5 2.5l-.94 2.06-2.06.94zm10 10l.94 2.06.94-2.06 2.06-.94-2.06-.94-.94-2.06-.94 2.06-2.06.94z\"/><path d=\"M17.41 7.96l-1.37-1.37c-.4-.4-.92-.59-1.43-.59-.52 0-1.04.2-1.43.59L10.3 9.45l-7.72 7.72c-.78.78-.78 2.05 0 2.83L4 21.41c.39.39.9.59 1.41.59.51 0 1.02-.2 1.41-.59l7.78-7.78 2.81-2.81c.8-.78.8-2.07 0-2.86zM5.41 20L4 18.59l7.72-7.72 1.47 1.35L5.41 20z\"/>\n",
              "  </svg>\n",
              "      </button>\n",
              "      \n",
              "  <style>\n",
              "    .colab-df-container {\n",
              "      display:flex;\n",
              "      flex-wrap:wrap;\n",
              "      gap: 12px;\n",
              "    }\n",
              "\n",
              "    .colab-df-convert {\n",
              "      background-color: #E8F0FE;\n",
              "      border: none;\n",
              "      border-radius: 50%;\n",
              "      cursor: pointer;\n",
              "      display: none;\n",
              "      fill: #1967D2;\n",
              "      height: 32px;\n",
              "      padding: 0 0 0 0;\n",
              "      width: 32px;\n",
              "    }\n",
              "\n",
              "    .colab-df-convert:hover {\n",
              "      background-color: #E2EBFA;\n",
              "      box-shadow: 0px 1px 2px rgba(60, 64, 67, 0.3), 0px 1px 3px 1px rgba(60, 64, 67, 0.15);\n",
              "      fill: #174EA6;\n",
              "    }\n",
              "\n",
              "    [theme=dark] .colab-df-convert {\n",
              "      background-color: #3B4455;\n",
              "      fill: #D2E3FC;\n",
              "    }\n",
              "\n",
              "    [theme=dark] .colab-df-convert:hover {\n",
              "      background-color: #434B5C;\n",
              "      box-shadow: 0px 1px 3px 1px rgba(0, 0, 0, 0.15);\n",
              "      filter: drop-shadow(0px 1px 2px rgba(0, 0, 0, 0.3));\n",
              "      fill: #FFFFFF;\n",
              "    }\n",
              "  </style>\n",
              "\n",
              "      <script>\n",
              "        const buttonEl =\n",
              "          document.querySelector('#df-e71bff87-946f-4931-bf87-de7c9e2745be button.colab-df-convert');\n",
              "        buttonEl.style.display =\n",
              "          google.colab.kernel.accessAllowed ? 'block' : 'none';\n",
              "\n",
              "        async function convertToInteractive(key) {\n",
              "          const element = document.querySelector('#df-e71bff87-946f-4931-bf87-de7c9e2745be');\n",
              "          const dataTable =\n",
              "            await google.colab.kernel.invokeFunction('convertToInteractive',\n",
              "                                                     [key], {});\n",
              "          if (!dataTable) return;\n",
              "\n",
              "          const docLinkHtml = 'Like what you see? Visit the ' +\n",
              "            '<a target=\"_blank\" href=https://colab.research.google.com/notebooks/data_table.ipynb>data table notebook</a>'\n",
              "            + ' to learn more about interactive tables.';\n",
              "          element.innerHTML = '';\n",
              "          dataTable['output_type'] = 'display_data';\n",
              "          await google.colab.output.renderOutput(dataTable, element);\n",
              "          const docLink = document.createElement('div');\n",
              "          docLink.innerHTML = docLinkHtml;\n",
              "          element.appendChild(docLink);\n",
              "        }\n",
              "      </script>\n",
              "    </div>\n",
              "  </div>\n",
              "  "
            ]
          },
          "metadata": {},
          "execution_count": 35
        }
      ],
      "source": [
        "df_log"
      ]
    },
    {
      "cell_type": "code",
      "execution_count": null,
      "metadata": {
        "id": "WHnseuDgG6fq"
      },
      "outputs": [],
      "source": [
        "df_log.to_csv('models_score.csv')"
      ]
    },
    {
      "cell_type": "markdown",
      "metadata": {
        "id": "-bsP0wK8pFhq"
      },
      "source": [
        "# KNRegressor"
      ]
    },
    {
      "cell_type": "code",
      "execution_count": null,
      "metadata": {
        "id": "y0UbUlpeiUQQ"
      },
      "outputs": [],
      "source": [
        "def grid_for_knn(lit, df):\n",
        "  # Splitting\n",
        "  X_train, X_test, y_train, y_test = train_test_split(df.drop(df.iloc[:, 4:36], axis = 1), df[lit], test_size=0.2)\n",
        "  # Categorical & numeric\n",
        "  all_categorical_features = cat_features_lst \n",
        "  all_numeric_features = num_features_lst\n",
        "  categorical_features = X_train[[i for i in X_train.columns if i in all_categorical_features]].columns.tolist()\n",
        "  numeric_features = X_train[[i for i in X_train.columns if i in all_numeric_features]].columns.tolist()\n",
        "  #Categorical and numeric transformer\n",
        "  categorical_transformer = Pipeline(steps=[(\"onehot\", OneHotEncoder(handle_unknown=\"ignore\"))])\n",
        "  numeric_transformer = Pipeline(steps=[(\"scaler\", RobustScaler())])\n",
        "  #Preprocessor\n",
        "  preprocessor = ColumnTransformer(transformers=[(\"num\", numeric_transformer,\n",
        "                                                       numeric_features),\n",
        "                                               (\"cat\", categorical_transformer,\n",
        "                                                       categorical_features)])\n",
        "  #Model\n",
        "  knn_model = KNeighborsRegressor()\n",
        "\n",
        "  pipeline_knn = Pipeline(steps=[\n",
        "                              (\"pre_process\", preprocessor),\n",
        "                              (\"knn_model\", knn_model)\n",
        "                              ])\n",
        "  \n",
        "  grid_search = {'knn_model__n_neighbors': [5, 10], 'knn_model__weights': ['uniform']\n",
        "               }\n",
        "\n",
        "  model = GridSearchCV(estimator=pipeline_knn, param_grid=grid_search,\n",
        "                     scoring='r2', verbose=5, n_jobs=-1)\n",
        "  model.fit(X_train,y_train)\n",
        "\n",
        "  #prediction = model.best_estimator_.predict(X_test)\n",
        "\n",
        "  best_model = model.best_estimator_\n",
        "\n",
        "  score = best_model.score(X_test, y_test)\n",
        "\n",
        "  cols = list(X_test.columns)\n",
        "  model = best_model[1]\n",
        "  print(cols)\n",
        "  print(model)\n",
        "  print('\\n')\n",
        "  return score, cols, model\n"
      ]
    },
    {
      "cell_type": "code",
      "execution_count": null,
      "metadata": {
        "colab": {
          "base_uri": "https://localhost:8080/"
        },
        "id": "S__Nu1HNpFAY",
        "outputId": "d2b4687a-0b91-456e-9f3b-5721b238efb4"
      },
      "outputs": [
        {
          "output_type": "stream",
          "name": "stdout",
          "text": [
            "Fitting 5 folds for each of 2 candidates, totalling 10 fits\n"
          ]
        },
        {
          "output_type": "stream",
          "name": "stderr",
          "text": [
            "/usr/local/lib/python3.7/dist-packages/joblib/externals/loky/process_executor.py:705: UserWarning: A worker stopped while some jobs were given to the executor. This can be caused by a too short worker timeout or by a memory leak.\n",
            "  \"timeout or by a memory leak.\", UserWarning\n"
          ]
        },
        {
          "output_type": "stream",
          "name": "stdout",
          "text": [
            "['date_utc', 'edge_id', 'edge_osmid', 'osm_highway', 'month', 'day', 'weekday', 'holiday', 'lat_north', 'lat_south', 'lon_east', 'lon_west', 'edge_length', 'temperature_max', 'temperature_min', 'temperature_mean', 'precipitation', 'snowfall', 'humidity_max', 'humidity_min', 'humidity_mean', 'cloud_coverage', 'wind_speed_max', 'wind_speed_min', 'wind_speed_mean', 'atm', 'bar', 'bench', 'childcare', 'cinema', 'clinic', 'fast_food', 'fountain', 'fuel', 'ice_cream', 'kindergarten', 'marketplace', 'nightclub', 'parking', 'recycling', 'school', 'taxi', 'toilets', 'vending_machine', 'waste_basket', 'waste_disposal']\n",
            "KNeighborsRegressor(n_neighbors=10)\n",
            "\n",
            "\n",
            "kn-regressor score for total litter: 0.25401767057844604\n"
          ]
        }
      ],
      "source": [
        "lit = 'total_litter'\n",
        "score, cols, model = grid_for_knn(lit, amenities_df)\n",
        "df_log = df_log.append({'model':model, 'features': cols, 'litter':lit, 'score': score}, ignore_index=True)\n",
        "print(f'kn-regressor score for total litter: {score}')"
      ]
    },
    {
      "cell_type": "code",
      "source": [
        "df_log"
      ],
      "metadata": {
        "colab": {
          "base_uri": "https://localhost:8080/",
          "height": 175
        },
        "id": "1fItXAK0Pbls",
        "outputId": "8e33ace8-d58c-4394-dbcc-370769154f5d"
      },
      "execution_count": null,
      "outputs": [
        {
          "output_type": "execute_result",
          "data": {
            "text/plain": [
              "                                               model  \\\n",
              "0  HistGradientBoostingRegressor(l2_regularizatio...   \n",
              "1     PoissonRegressor(alpha=0.0001, max_iter=10000)   \n",
              "2                                 LinearRegression()   \n",
              "3                KNeighborsRegressor(n_neighbors=10)   \n",
              "\n",
              "                                            features        litter     score  \n",
              "0  [date_utc, edge_id, edge_osmid, osm_highway, m...  total_litter  0.528300  \n",
              "1  [date_utc, edge_id, edge_osmid, osm_highway, m...  total_litter  0.642749  \n",
              "2  [date_utc, edge_id, edge_osmid, osm_highway, m...  total_litter  0.284414  \n",
              "3  [date_utc, edge_id, edge_osmid, osm_highway, m...  total_litter  0.254018  "
            ],
            "text/html": [
              "\n",
              "  <div id=\"df-153744d7-5bd7-4028-a8f4-9bc85ee6aeed\">\n",
              "    <div class=\"colab-df-container\">\n",
              "      <div>\n",
              "<style scoped>\n",
              "    .dataframe tbody tr th:only-of-type {\n",
              "        vertical-align: middle;\n",
              "    }\n",
              "\n",
              "    .dataframe tbody tr th {\n",
              "        vertical-align: top;\n",
              "    }\n",
              "\n",
              "    .dataframe thead th {\n",
              "        text-align: right;\n",
              "    }\n",
              "</style>\n",
              "<table border=\"1\" class=\"dataframe\">\n",
              "  <thead>\n",
              "    <tr style=\"text-align: right;\">\n",
              "      <th></th>\n",
              "      <th>model</th>\n",
              "      <th>features</th>\n",
              "      <th>litter</th>\n",
              "      <th>score</th>\n",
              "    </tr>\n",
              "  </thead>\n",
              "  <tbody>\n",
              "    <tr>\n",
              "      <th>0</th>\n",
              "      <td>HistGradientBoostingRegressor(l2_regularizatio...</td>\n",
              "      <td>[date_utc, edge_id, edge_osmid, osm_highway, m...</td>\n",
              "      <td>total_litter</td>\n",
              "      <td>0.528300</td>\n",
              "    </tr>\n",
              "    <tr>\n",
              "      <th>1</th>\n",
              "      <td>PoissonRegressor(alpha=0.0001, max_iter=10000)</td>\n",
              "      <td>[date_utc, edge_id, edge_osmid, osm_highway, m...</td>\n",
              "      <td>total_litter</td>\n",
              "      <td>0.642749</td>\n",
              "    </tr>\n",
              "    <tr>\n",
              "      <th>2</th>\n",
              "      <td>LinearRegression()</td>\n",
              "      <td>[date_utc, edge_id, edge_osmid, osm_highway, m...</td>\n",
              "      <td>total_litter</td>\n",
              "      <td>0.284414</td>\n",
              "    </tr>\n",
              "    <tr>\n",
              "      <th>3</th>\n",
              "      <td>KNeighborsRegressor(n_neighbors=10)</td>\n",
              "      <td>[date_utc, edge_id, edge_osmid, osm_highway, m...</td>\n",
              "      <td>total_litter</td>\n",
              "      <td>0.254018</td>\n",
              "    </tr>\n",
              "  </tbody>\n",
              "</table>\n",
              "</div>\n",
              "      <button class=\"colab-df-convert\" onclick=\"convertToInteractive('df-153744d7-5bd7-4028-a8f4-9bc85ee6aeed')\"\n",
              "              title=\"Convert this dataframe to an interactive table.\"\n",
              "              style=\"display:none;\">\n",
              "        \n",
              "  <svg xmlns=\"http://www.w3.org/2000/svg\" height=\"24px\"viewBox=\"0 0 24 24\"\n",
              "       width=\"24px\">\n",
              "    <path d=\"M0 0h24v24H0V0z\" fill=\"none\"/>\n",
              "    <path d=\"M18.56 5.44l.94 2.06.94-2.06 2.06-.94-2.06-.94-.94-2.06-.94 2.06-2.06.94zm-11 1L8.5 8.5l.94-2.06 2.06-.94-2.06-.94L8.5 2.5l-.94 2.06-2.06.94zm10 10l.94 2.06.94-2.06 2.06-.94-2.06-.94-.94-2.06-.94 2.06-2.06.94z\"/><path d=\"M17.41 7.96l-1.37-1.37c-.4-.4-.92-.59-1.43-.59-.52 0-1.04.2-1.43.59L10.3 9.45l-7.72 7.72c-.78.78-.78 2.05 0 2.83L4 21.41c.39.39.9.59 1.41.59.51 0 1.02-.2 1.41-.59l7.78-7.78 2.81-2.81c.8-.78.8-2.07 0-2.86zM5.41 20L4 18.59l7.72-7.72 1.47 1.35L5.41 20z\"/>\n",
              "  </svg>\n",
              "      </button>\n",
              "      \n",
              "  <style>\n",
              "    .colab-df-container {\n",
              "      display:flex;\n",
              "      flex-wrap:wrap;\n",
              "      gap: 12px;\n",
              "    }\n",
              "\n",
              "    .colab-df-convert {\n",
              "      background-color: #E8F0FE;\n",
              "      border: none;\n",
              "      border-radius: 50%;\n",
              "      cursor: pointer;\n",
              "      display: none;\n",
              "      fill: #1967D2;\n",
              "      height: 32px;\n",
              "      padding: 0 0 0 0;\n",
              "      width: 32px;\n",
              "    }\n",
              "\n",
              "    .colab-df-convert:hover {\n",
              "      background-color: #E2EBFA;\n",
              "      box-shadow: 0px 1px 2px rgba(60, 64, 67, 0.3), 0px 1px 3px 1px rgba(60, 64, 67, 0.15);\n",
              "      fill: #174EA6;\n",
              "    }\n",
              "\n",
              "    [theme=dark] .colab-df-convert {\n",
              "      background-color: #3B4455;\n",
              "      fill: #D2E3FC;\n",
              "    }\n",
              "\n",
              "    [theme=dark] .colab-df-convert:hover {\n",
              "      background-color: #434B5C;\n",
              "      box-shadow: 0px 1px 3px 1px rgba(0, 0, 0, 0.15);\n",
              "      filter: drop-shadow(0px 1px 2px rgba(0, 0, 0, 0.3));\n",
              "      fill: #FFFFFF;\n",
              "    }\n",
              "  </style>\n",
              "\n",
              "      <script>\n",
              "        const buttonEl =\n",
              "          document.querySelector('#df-153744d7-5bd7-4028-a8f4-9bc85ee6aeed button.colab-df-convert');\n",
              "        buttonEl.style.display =\n",
              "          google.colab.kernel.accessAllowed ? 'block' : 'none';\n",
              "\n",
              "        async function convertToInteractive(key) {\n",
              "          const element = document.querySelector('#df-153744d7-5bd7-4028-a8f4-9bc85ee6aeed');\n",
              "          const dataTable =\n",
              "            await google.colab.kernel.invokeFunction('convertToInteractive',\n",
              "                                                     [key], {});\n",
              "          if (!dataTable) return;\n",
              "\n",
              "          const docLinkHtml = 'Like what you see? Visit the ' +\n",
              "            '<a target=\"_blank\" href=https://colab.research.google.com/notebooks/data_table.ipynb>data table notebook</a>'\n",
              "            + ' to learn more about interactive tables.';\n",
              "          element.innerHTML = '';\n",
              "          dataTable['output_type'] = 'display_data';\n",
              "          await google.colab.output.renderOutput(dataTable, element);\n",
              "          const docLink = document.createElement('div');\n",
              "          docLink.innerHTML = docLinkHtml;\n",
              "          element.appendChild(docLink);\n",
              "        }\n",
              "      </script>\n",
              "    </div>\n",
              "  </div>\n",
              "  "
            ]
          },
          "metadata": {},
          "execution_count": 39
        }
      ]
    },
    {
      "cell_type": "markdown",
      "metadata": {
        "id": "4lgecw_Px0q2"
      },
      "source": [
        "# Random Forest"
      ]
    },
    {
      "cell_type": "code",
      "execution_count": null,
      "metadata": {
        "id": "AK145lW3y3Z1"
      },
      "outputs": [],
      "source": [
        "def grid_for_random_forest(lit, df):\n",
        "  # Splitting\n",
        "  X_train, X_test, y_train, y_test = train_test_split(df.drop(df.iloc[:, 4:36], axis = 1), df[lit], test_size=0.2)\n",
        "  # Categorical & numeric\n",
        "  all_categorical_features = cat_features_lst \n",
        "  all_numeric_features = num_features_lst\n",
        "  categorical_features = X_train[[i for i in X_train.columns if i in all_categorical_features]].columns.tolist()\n",
        "  numeric_features = X_train[[i for i in X_train.columns if i in all_numeric_features]].columns.tolist()\n",
        "  #Categorical transformer\n",
        "  categorical_transformer = Pipeline(steps=[(\"onehot\", OneHotEncoder(handle_unknown=\"ignore\"))])\n",
        "  #Preprocessor\n",
        "  preprocessor = ColumnTransformer(transformers=[(\"num\", \"passthrough\",\n",
        "                                                       numeric_features),\n",
        "                                               (\"cat\", categorical_transformer,\n",
        "                                                       categorical_features)])\n",
        "  #Model\n",
        "  rfr_model =  RandomForestRegressor()\n",
        "\n",
        "  pipeline_rfr = Pipeline(steps=[(\"pre_process\", preprocessor), \n",
        "                               (\"rfr_model\", rfr_model)\n",
        "                              ])\n",
        "  \n",
        "  print(pipeline_rfr.get_params().keys())\n",
        "  \n",
        "  grid_search = {'rfr_model__n_estimators': [100],\n",
        "                 'rfr_model__max_depth': [100], #10, 500, None\n",
        "                 'rfr_model__criterion': ['poisson'],\n",
        "               }\n",
        "               \n",
        "  model = GridSearchCV(estimator=pipeline_rfr, param_grid=grid_search,\n",
        "                     scoring='r2', verbose=5, n_jobs=-1)\n",
        "  model.fit(X_train, y_train)\n",
        "\n",
        "  # predictionforest = model.best_estimator_.predict(X_test)\n",
        "\n",
        "  best_model = model.best_estimator_\n",
        "\n",
        "  score = best_model.score(X_test, y_test)\n",
        "\n",
        "  cols = list(X_test.columns)\n",
        "  model = best_model[1]\n",
        "  print(cols)\n",
        "  print(model)\n",
        "  print('\\n')\n",
        "  return score, cols, model\n"
      ]
    },
    {
      "cell_type": "code",
      "execution_count": null,
      "metadata": {
        "id": "95-nfyAMpE5U"
      },
      "outputs": [],
      "source": [
        "lit = 'total_litter'\n",
        "score, cols, model = grid_for_random_forest(lit, amenities_df)\n",
        "df_log = df_log.append({'model':model, 'features': cols, 'litter':lit, 'score': score}, ignore_index=True)\n",
        "print(f'Random Forest score for total litter: {score}')"
      ]
    },
    {
      "cell_type": "code",
      "execution_count": null,
      "metadata": {
        "id": "IgWf-60qzYJS"
      },
      "outputs": [],
      "source": [
        "df_log"
      ]
    },
    {
      "cell_type": "markdown",
      "metadata": {
        "id": "7OWSF3wzaexk"
      },
      "source": [
        "# Decision Tree"
      ]
    },
    {
      "cell_type": "code",
      "execution_count": null,
      "metadata": {
        "id": "yWsBwbUCpEyT"
      },
      "outputs": [],
      "source": [
        "def grid_for_decision_tree(lit, df):\n",
        "  # Splitting\n",
        "  X_train, X_test, y_train, y_test = train_test_split(df.drop(df.iloc[:, 4:36], axis = 1), df[lit], test_size=0.2)\n",
        "  # Categorical & numeric\n",
        "  all_categorical_features = cat_features_lst \n",
        "  all_numeric_features = num_features_lst\n",
        "  categorical_features = X_train[[i for i in X_train.columns if i in all_categorical_features]].columns.tolist()\n",
        "  numeric_features = X_train[[i for i in X_train.columns if i in all_numeric_features]].columns.tolist()\n",
        "  #Categorical transformer\n",
        "  categorical_transformer = Pipeline(steps=[(\"onehot\", OneHotEncoder(handle_unknown=\"ignore\"))])\n",
        "  #Preprocessor\n",
        "  preprocessor = ColumnTransformer(transformers=[(\"num\", \"passthrough\",\n",
        "                                                       numeric_features),\n",
        "                                                 (\"cat\", categorical_transformer,\n",
        "                                                       categorical_features)]\n",
        "                                   )\n",
        "  #Model\n",
        "  dtr_model =  DecisionTreeRegressor()\n",
        "\n",
        "  pipeline_dtr = Pipeline(steps=[(\"pre_process\", preprocessor), \n",
        "                                 (\"dtr_model\", dtr_model)\n",
        "                              ])\n",
        "  grid_search = {'dtr_model__n_estimators': [100],\n",
        "                 'dtr_model__max_depth': [10, 100], #10, 500\n",
        "                 'dtr_model__criterion': ['poisson'],\n",
        "               }\n",
        "               \n",
        "  model = GridSearchCV(estimator=pipeline_dtr, param_grid=grid_search,\n",
        "                     scoring='r2', verbose=5, n_jobs=-1)\n",
        "  model.fit(X_train, y_train)\n",
        "\n",
        "  # predictionforest = model.best_estimator_.predict(X_test)\n",
        "\n",
        "  best_model = model.best_estimator_\n",
        "\n",
        "  score = best_model.score(X_test, y_test)\n",
        "\n",
        "  cols = list(X_test.columns)\n",
        "  model = best_model[1]\n",
        "  print(cols)\n",
        "  print(model)\n",
        "  print('\\n')\n",
        "  return score, cols, model"
      ]
    },
    {
      "cell_type": "code",
      "execution_count": null,
      "metadata": {
        "id": "euiddyKZpErh"
      },
      "outputs": [],
      "source": [
        "lit = 'total_litter'\n",
        "score, cols, model = grid_for_decision_tree(lit, amenities_df)\n",
        "df_log = df_log.append({'model':model, 'features': cols, 'litter':lit, 'score': score}, ignore_index=True)\n",
        "print(f'Decision Tree score for total litter: {score}')"
      ]
    },
    {
      "cell_type": "code",
      "source": [
        "df_log"
      ],
      "metadata": {
        "id": "yMnFjiqaQQf6"
      },
      "execution_count": null,
      "outputs": []
    },
    {
      "cell_type": "code",
      "execution_count": null,
      "metadata": {
        "id": "FXf-OWrGVD6s"
      },
      "outputs": [],
      "source": [
        "df_log.to_csv('models_score6.csv')\n",
        "from google.colab import files\n",
        "files.download('models_score6.csv') "
      ]
    },
    {
      "cell_type": "markdown",
      "metadata": {
        "id": "MP2mPbm4eWBE"
      },
      "source": [
        "# Model scores"
      ]
    },
    {
      "cell_type": "code",
      "source": [
        "df_log = df_log.sort_values(by='score')"
      ],
      "metadata": {
        "id": "Q9Lj-4MR0t1Y"
      },
      "execution_count": null,
      "outputs": []
    },
    {
      "cell_type": "code",
      "execution_count": null,
      "metadata": {
        "id": "6ZgkMlY7do_B"
      },
      "outputs": [],
      "source": [
        "df_log['name'] = df_log['model'].apply(lambda x: x[:x.find('Regress')]+'Regression')"
      ]
    },
    {
      "cell_type": "code",
      "execution_count": null,
      "metadata": {
        "colab": {
          "base_uri": "https://localhost:8080/",
          "height": 624
        },
        "id": "93kXq7A96rlt",
        "outputId": "f5710c05-e692-4a32-9696-805d93640e7b"
      },
      "outputs": [
        {
          "output_type": "display_data",
          "data": {
            "text/plain": [
              "<Figure size 1080x576 with 1 Axes>"
            ],
            "image/png": "[encoded data removed]"
          },
          "metadata": {
            "needs_background": "light"
          }
        }
      ],
      "source": [
        "import matplotlib.pyplot as plt\n",
        "import seaborn as sns\n",
        "\n",
        "fig, ax = plt.subplots(figsize=(15, 8))\n",
        "sns.barplot(data=df_log, x = 'name', y='score', ax=ax, color='green')\n",
        "ax.set_title(\"Models best scores\")\n",
        "ax.set_xlabel(\"model\")\n",
        "plt.xticks(rotation = 45)\n",
        "ax.set_ylabel(\"score\");\n",
        "fig.show()\n",
        "fig.savefig('Models_scores.pdf');"
      ]
    },
    {
      "cell_type": "code",
      "execution_count": null,
      "metadata": {
        "id": "vy5vJuVL9C9d"
      },
      "outputs": [],
      "source": []
    }
  ],
  "metadata": {
    "colab": {
      "collapsed_sections": [],
      "provenance": []
    },
    "kernelspec": {
      "display_name": "Python 3",
      "name": "python3"
    },
    "language_info": {
      "name": "python"
    }
  },
  "nbformat": 4,
  "nbformat_minor": 0
}