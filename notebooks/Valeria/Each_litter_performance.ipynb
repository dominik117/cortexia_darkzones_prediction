{
  "cells": [
    {
      "cell_type": "markdown",
      "source": [
        "# Performance of our model for each litter. More frequent litter on the streets has better performance."
      ],
      "metadata": {
        "id": "Lrgk1jF1vnVl"
      }
    },
    {
      "cell_type": "code",
      "source": [
        "# Install OSMNX only if working on Google Colab\n",
        "import sys\n",
        "IN_COLAB = 'google.colab' in sys.modules\n",
        "if IN_COLAB:\n",
        "    !pip install osmnx\n",
        "    !pip install matplotlib==3.1.1 "
      ],
      "metadata": {
        "id": "0zIfZ38S7RM9"
      },
      "execution_count": null,
      "outputs": []
    },
    {
      "cell_type": "markdown",
      "source": [
        "#GridSearch for each litter"
      ],
      "metadata": {
        "id": "_2B7PxPgYrw2"
      }
    },
    {
      "cell_type": "code",
      "source": [
        "import pandas as pd\n",
        "import numpy as np\n",
        "import matplotlib.pyplot as plt\n",
        "import seaborn as sns\n",
        "\n",
        "from sklearn.model_selection import train_test_split\n",
        "from sklearn import linear_model\n",
        "from sklearn.compose import ColumnTransformer\n",
        "from sklearn.pipeline import Pipeline\n",
        "from sklearn.preprocessing import RobustScaler, StandardScaler, OneHotEncoder\n",
        "from sklearn.preprocessing import OrdinalEncoder\n",
        "from sklearn.model_selection import GridSearchCV\n",
        "from sklearn.feature_extraction.text import HashingVectorizer\n",
        "from sklearn.neighbors import KNeighborsRegressor\n",
        "from sklearn.linear_model import LinearRegression, LogisticRegression\n",
        "from sklearn.ensemble import HistGradientBoostingRegressor\n",
        "import sklearn\n",
        "\n",
        "from google.colab import files\n",
        "\n",
        "import requests"
      ],
      "metadata": {
        "id": "9pNZ86oFFnAo"
      },
      "execution_count": null,
      "outputs": []
    },
    {
      "cell_type": "markdown",
      "source": [
        "# Read the data"
      ],
      "metadata": {
        "id": "ZPtYUUn0tqgc"
      }
    },
    {
      "cell_type": "code",
      "source": [],
      "metadata": {
        "id": "YEghiB7EiN3q"
      },
      "execution_count": null,
      "outputs": []
    },
    {
      "cell_type": "code",
      "source": [
        "# Load datasets if working on Google Colab\n",
        "import sys\n",
        "IN_COLAB = 'google.colab' in sys.modules\n",
        "if IN_COLAB:\n",
        "    from pydrive.auth import GoogleAuth\n",
        "    from pydrive.drive import GoogleDrive\n",
        "    from google.colab import auth\n",
        "    from oauth2client.client import GoogleCredentials\n",
        "    auth.authenticate_user()\n",
        "    gauth = GoogleAuth()\n",
        "    gauth.credentials = GoogleCredentials.get_application_default()\n",
        "    drive = GoogleDrive(gauth)\n",
        "    file_id = '1tfAjKLhhl3lteqf_EkFoyIPY2IdBJFVn'\n",
        "    downloaded = drive.CreateFile({'id':file_id})\n",
        "    downloaded.FetchMetadata(fetch_all=True)\n",
        "    downloaded.GetContentFile(downloaded.metadata['title'])\n",
        "    f = open(\"V2data_6mounts2022.csv.zip\", \"wb\")\n",
        "    f.write(downloaded.content.getbuffer())\n",
        "    f.close()\n",
        "    !unzip V2data_6mounts2022.csv.zip"
      ],
      "metadata": {
        "colab": {
          "base_uri": "https://localhost:8080/"
        },
        "id": "5Nw5KiaK7SDn",
        "outputId": "1c3e14e4-8e55-4140-b8fc-f3bdfc898987"
      },
      "execution_count": null,
      "outputs": [
        {
          "output_type": "stream",
          "name": "stdout",
          "text": [
            "Archive:  V2data_6mounts2022.csv.zip\n",
            "  inflating: data.csv                \n",
            "  inflating: __MACOSX/._data.csv     \n"
          ]
        }
      ]
    },
    {
      "cell_type": "code",
      "source": [
        "IN_COLAB = 'google.colab' in sys.modules\n",
        "if IN_COLAB:\n",
        "    r = requests.get('https://raw.githubusercontent.com/dominik117/data-science-toolkit/main/helper_notebooks/data_processor.py')\n",
        "    with open('data_processor.py', 'w') as f:\n",
        "        f.write(r.text)\n",
        "    r = requests.get('https://raw.githubusercontent.com/dominik117/data-science-toolkit/main/helper_notebooks/darkzone_creator.py')\n",
        "    with open('darkzone_creator.py', 'w') as f:\n",
        "        f.write(r.text)\n",
        "\n",
        "import data_processor \n",
        "import darkzone_creator"
      ],
      "metadata": {
        "id": "24TqFiUJ40vh"
      },
      "execution_count": null,
      "outputs": []
    },
    {
      "cell_type": "code",
      "source": [
        "IN_COLAB = 'google.colab' in sys.modules\n",
        "if IN_COLAB: df_main_url = '/content/data.csv'\n",
        "else: df_main_url = '../../../Information/output/datav2.csv'\n",
        "amenities_df = pd.read_csv(df_main_url, dtype = {'place.id': object})\n",
        "amenities_df.drop('Unnamed: 0', axis=1, inplace=True, errors='ignore')\n",
        "amenities_df = data_processor.clean_df(amenities_df)\n",
        "amenities_df = data_processor.aggregate_df(amenities_df)\n",
        "amenities_df['row_type'] = \"ground truth\"\n",
        "amenities_df = data_processor.make_date_features(amenities_df)\n",
        "amenities_df = data_processor.make_coordinates_features(amenities_df)\n",
        "amenities_df = data_processor.make_edge_length_feature(amenities_df)\n",
        "amenities_df = data_processor.make_weather_features(amenities_df)\n",
        "amenities_df, osm_columns = data_processor.make_osm_features(amenities_df)"
      ],
      "metadata": {
        "id": "ZqJOgou76DP4"
      },
      "execution_count": null,
      "outputs": []
    },
    {
      "cell_type": "markdown",
      "source": [
        "#Function with pypeline"
      ],
      "metadata": {
        "id": "NZvTU_Bzn188"
      }
    },
    {
      "cell_type": "code",
      "execution_count": null,
      "metadata": {
        "id": "0pSfsH6vbTvk"
      },
      "outputs": [],
      "source": [
        "def score_for_litter(lit, df):\n",
        "  # Splitting\n",
        "  X_train, X_test, y_train, y_test = train_test_split(df.drop(df.iloc[:, 4:36], axis = 1), df[lit], test_size=0.2)\n",
        "  # Categorical & numeric\n",
        "  all_categorical_features = ['osm_highway', 'edge_id',\n",
        "                                'month', 'day', 'weekday', 'holiday', 'atm', 'bar', \n",
        "                                'bench', 'childcare', 'cinema', 'clinic', 'fast_food',\n",
        "                                'fountain', 'fuel', 'ice_cream', 'kindergarten', 'marketplace',\n",
        "                                'nightclub', 'parking', 'recycling', 'school', 'taxi', 'toilets', \n",
        "                                'vending_machine', 'waste_basket', 'waste_disposal']\n",
        "  all_numeric_features = ['temperature_max', 'precipitation', \n",
        "                            'snowfall', 'humidity_max', 'cloud_coverage', \n",
        "                            'wind_speed_max', 'lat_north', 'lon_west', 'temperature_min', 'temperature_mean', \n",
        "                            'humidity_min', 'humidity_mean', 'wind_speed_min', 'wind_speed_mean', 'lat_south', \n",
        "                            'lon_east']\n",
        "  categorical_features = X_train[[i for i in X_train.columns if i in all_categorical_features]].columns.tolist()\n",
        "  numeric_features = X_train[[i for i in X_train.columns if i in all_numeric_features]].columns.tolist()\n",
        "  #Categorical and numeric transformer\n",
        "  categorical_transformer = Pipeline(steps=[(\"onehot\", OneHotEncoder(handle_unknown=\"ignore\"))])\n",
        "  numeric_transformer = Pipeline(steps=[(\"scaler\", StandardScaler())])\n",
        "  #Preprocessor\n",
        "  preprocessor = ColumnTransformer(transformers=[(\"num\", numeric_transformer,\n",
        "                                                       numeric_features),\n",
        "                                               (\"cat\", categorical_transformer,\n",
        "                                                       categorical_features)])\n",
        "  #Model\n",
        "  poisson_model = linear_model.PoissonRegressor()\n",
        "\n",
        "  pipeline_poisson = Pipeline(steps=[\n",
        "                              (\"pre_process\", preprocessor),\n",
        "                              (\"poisson_model\", poisson_model)\n",
        "                              ])\n",
        "  \n",
        "  grid_search = {'poisson_model__alpha' : [1e-5, 1e-4, 1e-3],\n",
        "               'poisson_model__max_iter' : [1000],\n",
        "               }\n",
        "               \n",
        "  model = GridSearchCV(estimator=pipeline_poisson, param_grid=grid_search,\n",
        "                     scoring='neg_mean_poisson_deviance', verbose=5, n_jobs=-1)\n",
        "  model.fit(X_train,y_train)\n",
        "\n",
        "  #prediction = model.best_estimator_.predict(X_test)\n",
        "  best_model = model.best_estimator_\n",
        "\n",
        "  score = best_model.score(X_test, y_test)\n",
        "\n",
        "  cols = list(X_test.columns)\n",
        "  model = best_model[1]\n",
        "  print(cols)\n",
        "  print(model)\n",
        "  print('\\n')\n",
        "  return score, cols, model\n"
      ]
    },
    {
      "cell_type": "markdown",
      "metadata": {
        "id": "C5xvhj-s7WX1"
      },
      "source": [
        "### Model"
      ]
    },
    {
      "cell_type": "code",
      "execution_count": null,
      "metadata": {
        "id": "grIkiZqnCLTo"
      },
      "outputs": [],
      "source": [
        "df_log_valeria = pd.DataFrame(columns = ['model', 'features', 'litter', 'score'])"
      ]
    },
    {
      "cell_type": "code",
      "execution_count": null,
      "metadata": {
        "id": "w8GHM9iJdH4S"
      },
      "outputs": [],
      "source": [
        "litter_list = amenities_df.columns[4:34]\n",
        "\n",
        "# litter_list = ['1', '2', '3', '4', '5', '7', '8','10', '13', '14', '16', '19', '21', '25',\n",
        "#                '26', '27', '28', '29', '30', '31', '32', '33', '35', '36', '37', '39', '49', '61', '63']\n",
        "\n",
        "for lit in litter_list:\n",
        "  score, cols, model = score_for_litter(lit, amenities_df)\n",
        "  df_log_valeria=df_log_valeria.append({'model':model, 'features': cols, 'litter':lit, 'score': score}, ignore_index=True)\n",
        "  print(f'score for litter {lit}: {score}')"
      ]
    },
    {
      "cell_type": "code",
      "source": [
        "df_log_valeria.head()"
      ],
      "metadata": {
        "colab": {
          "base_uri": "https://localhost:8080/",
          "height": 206
        },
        "id": "A7rFHcKoOEuU",
        "outputId": "e5236dca-3c44-4629-d180-27667c51b8fa"
      },
      "execution_count": null,
      "outputs": [
        {
          "output_type": "execute_result",
          "data": {
            "text/plain": [
              "                                           model  \\\n",
              "0  PoissonRegressor(alpha=0.0001, max_iter=1000)   \n",
              "1  PoissonRegressor(alpha=0.0001, max_iter=1000)   \n",
              "2  PoissonRegressor(alpha=0.0001, max_iter=1000)   \n",
              "3  PoissonRegressor(alpha=0.0001, max_iter=1000)   \n",
              "4  PoissonRegressor(alpha=0.0001, max_iter=1000)   \n",
              "\n",
              "                                            features litter     score  \n",
              "0  [date_utc, edge_id, edge_osmid, osm_highway, m...      1  0.546515  \n",
              "1  [date_utc, edge_id, edge_osmid, osm_highway, m...      2  0.634474  \n",
              "2  [date_utc, edge_id, edge_osmid, osm_highway, m...      3  0.417449  \n",
              "3  [date_utc, edge_id, edge_osmid, osm_highway, m...      4  0.636285  \n",
              "4  [date_utc, edge_id, edge_osmid, osm_highway, m...      5  0.315096  "
            ],
            "text/html": [
              "\n",
              "  <div id=\"df-ce96d142-0914-4381-8a70-4246975ec68c\">\n",
              "    <div class=\"colab-df-container\">\n",
              "      <div>\n",
              "<style scoped>\n",
              "    .dataframe tbody tr th:only-of-type {\n",
              "        vertical-align: middle;\n",
              "    }\n",
              "\n",
              "    .dataframe tbody tr th {\n",
              "        vertical-align: top;\n",
              "    }\n",
              "\n",
              "    .dataframe thead th {\n",
              "        text-align: right;\n",
              "    }\n",
              "</style>\n",
              "<table border=\"1\" class=\"dataframe\">\n",
              "  <thead>\n",
              "    <tr style=\"text-align: right;\">\n",
              "      <th></th>\n",
              "      <th>model</th>\n",
              "      <th>features</th>\n",
              "      <th>litter</th>\n",
              "      <th>score</th>\n",
              "    </tr>\n",
              "  </thead>\n",
              "  <tbody>\n",
              "    <tr>\n",
              "      <th>0</th>\n",
              "      <td>PoissonRegressor(alpha=0.0001, max_iter=1000)</td>\n",
              "      <td>[date_utc, edge_id, edge_osmid, osm_highway, m...</td>\n",
              "      <td>1</td>\n",
              "      <td>0.546515</td>\n",
              "    </tr>\n",
              "    <tr>\n",
              "      <th>1</th>\n",
              "      <td>PoissonRegressor(alpha=0.0001, max_iter=1000)</td>\n",
              "      <td>[date_utc, edge_id, edge_osmid, osm_highway, m...</td>\n",
              "      <td>2</td>\n",
              "      <td>0.634474</td>\n",
              "    </tr>\n",
              "    <tr>\n",
              "      <th>2</th>\n",
              "      <td>PoissonRegressor(alpha=0.0001, max_iter=1000)</td>\n",
              "      <td>[date_utc, edge_id, edge_osmid, osm_highway, m...</td>\n",
              "      <td>3</td>\n",
              "      <td>0.417449</td>\n",
              "    </tr>\n",
              "    <tr>\n",
              "      <th>3</th>\n",
              "      <td>PoissonRegressor(alpha=0.0001, max_iter=1000)</td>\n",
              "      <td>[date_utc, edge_id, edge_osmid, osm_highway, m...</td>\n",
              "      <td>4</td>\n",
              "      <td>0.636285</td>\n",
              "    </tr>\n",
              "    <tr>\n",
              "      <th>4</th>\n",
              "      <td>PoissonRegressor(alpha=0.0001, max_iter=1000)</td>\n",
              "      <td>[date_utc, edge_id, edge_osmid, osm_highway, m...</td>\n",
              "      <td>5</td>\n",
              "      <td>0.315096</td>\n",
              "    </tr>\n",
              "  </tbody>\n",
              "</table>\n",
              "</div>\n",
              "      <button class=\"colab-df-convert\" onclick=\"convertToInteractive('df-ce96d142-0914-4381-8a70-4246975ec68c')\"\n",
              "              title=\"Convert this dataframe to an interactive table.\"\n",
              "              style=\"display:none;\">\n",
              "        \n",
              "  <svg xmlns=\"http://www.w3.org/2000/svg\" height=\"24px\"viewBox=\"0 0 24 24\"\n",
              "       width=\"24px\">\n",
              "    <path d=\"M0 0h24v24H0V0z\" fill=\"none\"/>\n",
              "    <path d=\"M18.56 5.44l.94 2.06.94-2.06 2.06-.94-2.06-.94-.94-2.06-.94 2.06-2.06.94zm-11 1L8.5 8.5l.94-2.06 2.06-.94-2.06-.94L8.5 2.5l-.94 2.06-2.06.94zm10 10l.94 2.06.94-2.06 2.06-.94-2.06-.94-.94-2.06-.94 2.06-2.06.94z\"/><path d=\"M17.41 7.96l-1.37-1.37c-.4-.4-.92-.59-1.43-.59-.52 0-1.04.2-1.43.59L10.3 9.45l-7.72 7.72c-.78.78-.78 2.05 0 2.83L4 21.41c.39.39.9.59 1.41.59.51 0 1.02-.2 1.41-.59l7.78-7.78 2.81-2.81c.8-.78.8-2.07 0-2.86zM5.41 20L4 18.59l7.72-7.72 1.47 1.35L5.41 20z\"/>\n",
              "  </svg>\n",
              "      </button>\n",
              "      \n",
              "  <style>\n",
              "    .colab-df-container {\n",
              "      display:flex;\n",
              "      flex-wrap:wrap;\n",
              "      gap: 12px;\n",
              "    }\n",
              "\n",
              "    .colab-df-convert {\n",
              "      background-color: #E8F0FE;\n",
              "      border: none;\n",
              "      border-radius: 50%;\n",
              "      cursor: pointer;\n",
              "      display: none;\n",
              "      fill: #1967D2;\n",
              "      height: 32px;\n",
              "      padding: 0 0 0 0;\n",
              "      width: 32px;\n",
              "    }\n",
              "\n",
              "    .colab-df-convert:hover {\n",
              "      background-color: #E2EBFA;\n",
              "      box-shadow: 0px 1px 2px rgba(60, 64, 67, 0.3), 0px 1px 3px 1px rgba(60, 64, 67, 0.15);\n",
              "      fill: #174EA6;\n",
              "    }\n",
              "\n",
              "    [theme=dark] .colab-df-convert {\n",
              "      background-color: #3B4455;\n",
              "      fill: #D2E3FC;\n",
              "    }\n",
              "\n",
              "    [theme=dark] .colab-df-convert:hover {\n",
              "      background-color: #434B5C;\n",
              "      box-shadow: 0px 1px 3px 1px rgba(0, 0, 0, 0.15);\n",
              "      filter: drop-shadow(0px 1px 2px rgba(0, 0, 0, 0.3));\n",
              "      fill: #FFFFFF;\n",
              "    }\n",
              "  </style>\n",
              "\n",
              "      <script>\n",
              "        const buttonEl =\n",
              "          document.querySelector('#df-ce96d142-0914-4381-8a70-4246975ec68c button.colab-df-convert');\n",
              "        buttonEl.style.display =\n",
              "          google.colab.kernel.accessAllowed ? 'block' : 'none';\n",
              "\n",
              "        async function convertToInteractive(key) {\n",
              "          const element = document.querySelector('#df-ce96d142-0914-4381-8a70-4246975ec68c');\n",
              "          const dataTable =\n",
              "            await google.colab.kernel.invokeFunction('convertToInteractive',\n",
              "                                                     [key], {});\n",
              "          if (!dataTable) return;\n",
              "\n",
              "          const docLinkHtml = 'Like what you see? Visit the ' +\n",
              "            '<a target=\"_blank\" href=https://colab.research.google.com/notebooks/data_table.ipynb>data table notebook</a>'\n",
              "            + ' to learn more about interactive tables.';\n",
              "          element.innerHTML = '';\n",
              "          dataTable['output_type'] = 'display_data';\n",
              "          await google.colab.output.renderOutput(dataTable, element);\n",
              "          const docLink = document.createElement('div');\n",
              "          docLink.innerHTML = docLinkHtml;\n",
              "          element.appendChild(docLink);\n",
              "        }\n",
              "      </script>\n",
              "    </div>\n",
              "  </div>\n",
              "  "
            ]
          },
          "metadata": {},
          "execution_count": 20
        }
      ]
    },
    {
      "cell_type": "code",
      "source": [
        "lit_dict = {\n",
        "    '1': 'Cigarette',\n",
        "    '2': 'Leaf',\n",
        "    '3': 'Leaves',\n",
        "    '4': 'Paper/Carton',\n",
        "    '5': 'CAN',\n",
        "    '7': 'Glass bottle',\n",
        "    '8': 'PET',\n",
        "    '9': 'Carton drink',\n",
        "    '10': 'FF Cup',\n",
        "    '11': 'FF Foam Polystrene',\n",
        "    '12': 'Other Foam Polystrene',\n",
        "    '13': 'Food packaging',\n",
        "    '14': 'Newspaper',\n",
        "    '15': 'Small bag',\n",
        "    '16': 'Glass Splinter',\n",
        "    '17': 'Syringe',\n",
        "    '18': 'Organic food littering',\n",
        "    '19': 'Dog fouling',\n",
        "    '21': 'Garbage bags',\n",
        "    '22': 'Sand/Grit/Granulate',\n",
        "    '23': 'Chewing- gum',\n",
        "    '24': 'Vomit',\n",
        "    '25': 'FF Cup',\n",
        "    '26': 'FF Lid',\n",
        "    '27': 'FF Straw',\n",
        "    '28': 'FF Fries cartin',\n",
        "    '29': 'Unclear bottles',\n",
        "    '30': 'FF Burger Box',\n",
        "    '31': 'FF Paper',\n",
        "    '32': 'FF Other Paper',\n",
        "    '33': 'iQos',\n",
        "    '34': 'Confettis (pile)',\n",
        "    '35': 'Medium/big stain',\n",
        "    '36': 'Transparent plastic',\n",
        "    '37': 'Opaque plastic',\n",
        "    '38': 'Fabric',\n",
        "    '39': 'Unrecognizable',\n",
        "    '40': 'Capsule',\n",
        "    '41': 'Carcass',\n",
        "    '42': 'Furniture',\n",
        "    '43': 'Tag',\n",
        "    '44': 'Poster',\n",
        "    '45': 'Waste bin stain',\n",
        "    '46': 'Waste bin tag',\n",
        "    '47': 'Waste bin sticker',\n",
        "    '48': 'Waste bin Ouverture',\n",
        "    '49': 'Waste bin',\n",
        "    '50': 'Cigarette white',\n",
        "    '51': 'Cigarette rolled',\n",
        "    '52': 'Cigarette unknown',\n",
        "    '53': 'Waste container too full',\n",
        "    '54': 'Illegal advertising poster',\n",
        "    '55': 'Illegal advertising poster (influenceable)',\n",
        "    '56': 'Illegal litters',\n",
        "    '57': 'Spray painting, graffiti',\n",
        "    '58': 'Spray painting, graffiti (influenceable)',\n",
        "    '59': 'Feuille mouillée',\n",
        "    '60': 'Poubelles remplies',\n",
        "    '61': 'Robydog',\n",
        "    '62': 'Wooden or plastic crate',\n",
        "    '63': 'Mask'}"
      ],
      "metadata": {
        "id": "LEziduU7Xg2f"
      },
      "execution_count": null,
      "outputs": []
    },
    {
      "cell_type": "code",
      "source": [
        "list(amenities_df.columns)[5:34]"
      ],
      "metadata": {
        "id": "jXNsrGXYlTdR"
      },
      "execution_count": null,
      "outputs": []
    },
    {
      "cell_type": "code",
      "execution_count": null,
      "metadata": {
        "id": "1vtE7gto_V6B"
      },
      "outputs": [],
      "source": [
        "for k in list(amenities_df.columns)[5:34]:\n",
        "  lit_dict[k] = (lit_dict[k], amenities_df[k].sum())\n",
        "lit_dict"
      ]
    },
    {
      "cell_type": "code",
      "source": [
        "df_log_valeria['litter'].values"
      ],
      "metadata": {
        "colab": {
          "base_uri": "https://localhost:8080/"
        },
        "id": "i-gdmimYxsQE",
        "outputId": "5aa095f3-7dd3-4fa0-cf9b-fb9d7e94d7df"
      },
      "execution_count": null,
      "outputs": [
        {
          "output_type": "execute_result",
          "data": {
            "text/plain": [
              "array(['1', '2', '3', '4', '5'], dtype=object)"
            ]
          },
          "metadata": {},
          "execution_count": 27
        }
      ]
    },
    {
      "cell_type": "code",
      "source": [
        "df_log_valeria['litter_sum'] = 0\n",
        "df_log_valeria['name'] = 0\n",
        "\n",
        "for i in range(df_log_valeria.shape[0]):\n",
        "  df_log_valeria.iloc[i, 5], df_log_valeria.iloc[i, 4] = lit_dict[df_log_valeria['litter'][i]]\n"
      ],
      "metadata": {
        "id": "lGCvvnxxFy3h"
      },
      "execution_count": null,
      "outputs": []
    },
    {
      "cell_type": "code",
      "source": [
        "df_log_valeria.sort_values(by='litter_sum', ascending=False)"
      ],
      "metadata": {
        "colab": {
          "base_uri": "https://localhost:8080/",
          "height": 337
        },
        "id": "qhfDtSz80Xl0",
        "outputId": "5f2387fc-e8ad-4861-a4ca-984767eba60f"
      },
      "execution_count": null,
      "outputs": [
        {
          "output_type": "execute_result",
          "data": {
            "text/plain": [
              "                                           model  \\\n",
              "1  PoissonRegressor(alpha=0.0001, max_iter=1000)   \n",
              "3  PoissonRegressor(alpha=0.0001, max_iter=1000)   \n",
              "0  PoissonRegressor(alpha=0.0001, max_iter=1000)   \n",
              "2  PoissonRegressor(alpha=0.0001, max_iter=1000)   \n",
              "4  PoissonRegressor(alpha=0.0001, max_iter=1000)   \n",
              "\n",
              "                                            features litter     score  \\\n",
              "1  [date_utc, edge_id, edge_osmid, osm_highway, m...      2  0.634474   \n",
              "3  [date_utc, edge_id, edge_osmid, osm_highway, m...      4  0.636285   \n",
              "0  [date_utc, edge_id, edge_osmid, osm_highway, m...      1  0.546515   \n",
              "2  [date_utc, edge_id, edge_osmid, osm_highway, m...      3  0.417449   \n",
              "4  [date_utc, edge_id, edge_osmid, osm_highway, m...      5  0.315096   \n",
              "\n",
              "   litter_sum          name  \n",
              "1     7486917          Leaf  \n",
              "3     4701269  Paper/Carton  \n",
              "0     3221412     Cigarette  \n",
              "2     1865390        Leaves  \n",
              "4       80861           CAN  "
            ],
            "text/html": [
              "\n",
              "  <div id=\"df-e6bb3c63-0143-446a-b9a8-b2e31dde02d9\">\n",
              "    <div class=\"colab-df-container\">\n",
              "      <div>\n",
              "<style scoped>\n",
              "    .dataframe tbody tr th:only-of-type {\n",
              "        vertical-align: middle;\n",
              "    }\n",
              "\n",
              "    .dataframe tbody tr th {\n",
              "        vertical-align: top;\n",
              "    }\n",
              "\n",
              "    .dataframe thead th {\n",
              "        text-align: right;\n",
              "    }\n",
              "</style>\n",
              "<table border=\"1\" class=\"dataframe\">\n",
              "  <thead>\n",
              "    <tr style=\"text-align: right;\">\n",
              "      <th></th>\n",
              "      <th>model</th>\n",
              "      <th>features</th>\n",
              "      <th>litter</th>\n",
              "      <th>score</th>\n",
              "      <th>litter_sum</th>\n",
              "      <th>name</th>\n",
              "    </tr>\n",
              "  </thead>\n",
              "  <tbody>\n",
              "    <tr>\n",
              "      <th>1</th>\n",
              "      <td>PoissonRegressor(alpha=0.0001, max_iter=1000)</td>\n",
              "      <td>[date_utc, edge_id, edge_osmid, osm_highway, m...</td>\n",
              "      <td>2</td>\n",
              "      <td>0.634474</td>\n",
              "      <td>7486917</td>\n",
              "      <td>Leaf</td>\n",
              "    </tr>\n",
              "    <tr>\n",
              "      <th>3</th>\n",
              "      <td>PoissonRegressor(alpha=0.0001, max_iter=1000)</td>\n",
              "      <td>[date_utc, edge_id, edge_osmid, osm_highway, m...</td>\n",
              "      <td>4</td>\n",
              "      <td>0.636285</td>\n",
              "      <td>4701269</td>\n",
              "      <td>Paper/Carton</td>\n",
              "    </tr>\n",
              "    <tr>\n",
              "      <th>0</th>\n",
              "      <td>PoissonRegressor(alpha=0.0001, max_iter=1000)</td>\n",
              "      <td>[date_utc, edge_id, edge_osmid, osm_highway, m...</td>\n",
              "      <td>1</td>\n",
              "      <td>0.546515</td>\n",
              "      <td>3221412</td>\n",
              "      <td>Cigarette</td>\n",
              "    </tr>\n",
              "    <tr>\n",
              "      <th>2</th>\n",
              "      <td>PoissonRegressor(alpha=0.0001, max_iter=1000)</td>\n",
              "      <td>[date_utc, edge_id, edge_osmid, osm_highway, m...</td>\n",
              "      <td>3</td>\n",
              "      <td>0.417449</td>\n",
              "      <td>1865390</td>\n",
              "      <td>Leaves</td>\n",
              "    </tr>\n",
              "    <tr>\n",
              "      <th>4</th>\n",
              "      <td>PoissonRegressor(alpha=0.0001, max_iter=1000)</td>\n",
              "      <td>[date_utc, edge_id, edge_osmid, osm_highway, m...</td>\n",
              "      <td>5</td>\n",
              "      <td>0.315096</td>\n",
              "      <td>80861</td>\n",
              "      <td>CAN</td>\n",
              "    </tr>\n",
              "  </tbody>\n",
              "</table>\n",
              "</div>\n",
              "      <button class=\"colab-df-convert\" onclick=\"convertToInteractive('df-e6bb3c63-0143-446a-b9a8-b2e31dde02d9')\"\n",
              "              title=\"Convert this dataframe to an interactive table.\"\n",
              "              style=\"display:none;\">\n",
              "        \n",
              "  <svg xmlns=\"http://www.w3.org/2000/svg\" height=\"24px\"viewBox=\"0 0 24 24\"\n",
              "       width=\"24px\">\n",
              "    <path d=\"M0 0h24v24H0V0z\" fill=\"none\"/>\n",
              "    <path d=\"M18.56 5.44l.94 2.06.94-2.06 2.06-.94-2.06-.94-.94-2.06-.94 2.06-2.06.94zm-11 1L8.5 8.5l.94-2.06 2.06-.94-2.06-.94L8.5 2.5l-.94 2.06-2.06.94zm10 10l.94 2.06.94-2.06 2.06-.94-2.06-.94-.94-2.06-.94 2.06-2.06.94z\"/><path d=\"M17.41 7.96l-1.37-1.37c-.4-.4-.92-.59-1.43-.59-.52 0-1.04.2-1.43.59L10.3 9.45l-7.72 7.72c-.78.78-.78 2.05 0 2.83L4 21.41c.39.39.9.59 1.41.59.51 0 1.02-.2 1.41-.59l7.78-7.78 2.81-2.81c.8-.78.8-2.07 0-2.86zM5.41 20L4 18.59l7.72-7.72 1.47 1.35L5.41 20z\"/>\n",
              "  </svg>\n",
              "      </button>\n",
              "      \n",
              "  <style>\n",
              "    .colab-df-container {\n",
              "      display:flex;\n",
              "      flex-wrap:wrap;\n",
              "      gap: 12px;\n",
              "    }\n",
              "\n",
              "    .colab-df-convert {\n",
              "      background-color: #E8F0FE;\n",
              "      border: none;\n",
              "      border-radius: 50%;\n",
              "      cursor: pointer;\n",
              "      display: none;\n",
              "      fill: #1967D2;\n",
              "      height: 32px;\n",
              "      padding: 0 0 0 0;\n",
              "      width: 32px;\n",
              "    }\n",
              "\n",
              "    .colab-df-convert:hover {\n",
              "      background-color: #E2EBFA;\n",
              "      box-shadow: 0px 1px 2px rgba(60, 64, 67, 0.3), 0px 1px 3px 1px rgba(60, 64, 67, 0.15);\n",
              "      fill: #174EA6;\n",
              "    }\n",
              "\n",
              "    [theme=dark] .colab-df-convert {\n",
              "      background-color: #3B4455;\n",
              "      fill: #D2E3FC;\n",
              "    }\n",
              "\n",
              "    [theme=dark] .colab-df-convert:hover {\n",
              "      background-color: #434B5C;\n",
              "      box-shadow: 0px 1px 3px 1px rgba(0, 0, 0, 0.15);\n",
              "      filter: drop-shadow(0px 1px 2px rgba(0, 0, 0, 0.3));\n",
              "      fill: #FFFFFF;\n",
              "    }\n",
              "  </style>\n",
              "\n",
              "      <script>\n",
              "        const buttonEl =\n",
              "          document.querySelector('#df-e6bb3c63-0143-446a-b9a8-b2e31dde02d9 button.colab-df-convert');\n",
              "        buttonEl.style.display =\n",
              "          google.colab.kernel.accessAllowed ? 'block' : 'none';\n",
              "\n",
              "        async function convertToInteractive(key) {\n",
              "          const element = document.querySelector('#df-e6bb3c63-0143-446a-b9a8-b2e31dde02d9');\n",
              "          const dataTable =\n",
              "            await google.colab.kernel.invokeFunction('convertToInteractive',\n",
              "                                                     [key], {});\n",
              "          if (!dataTable) return;\n",
              "\n",
              "          const docLinkHtml = 'Like what you see? Visit the ' +\n",
              "            '<a target=\"_blank\" href=https://colab.research.google.com/notebooks/data_table.ipynb>data table notebook</a>'\n",
              "            + ' to learn more about interactive tables.';\n",
              "          element.innerHTML = '';\n",
              "          dataTable['output_type'] = 'display_data';\n",
              "          await google.colab.output.renderOutput(dataTable, element);\n",
              "          const docLink = document.createElement('div');\n",
              "          docLink.innerHTML = docLinkHtml;\n",
              "          element.appendChild(docLink);\n",
              "        }\n",
              "      </script>\n",
              "    </div>\n",
              "  </div>\n",
              "  "
            ]
          },
          "metadata": {},
          "execution_count": 35
        }
      ]
    },
    {
      "cell_type": "code",
      "execution_count": null,
      "metadata": {
        "id": "FXf-OWrGVD6s"
      },
      "outputs": [],
      "source": [
        "df_log_valeria.to_csv('df_log_valeria_grid_3.csv')"
      ]
    },
    {
      "cell_type": "code",
      "source": [
        "fig, ax = plt.subplots(figsize=(15, 10))\n",
        "sns.scatterplot(data=df_log_valeria, x='litter_sum', y='score', color='#087E8B', ax=ax)\n",
        "\n",
        "ax.set_title('Score - amount of litter dependency', size=20)\n",
        "ax.set_xlabel(\"amount of litter\")\n",
        "ax.set_ylabel(\"Score\");\n",
        "fig.show()\n",
        "fig.savefig('Score_amount_of_litter_dependency.pdf');\n",
        "files.download('Score_amount_of_litter_dependency.pdf')"
      ],
      "metadata": {
        "colab": {
          "base_uri": "https://localhost:8080/",
          "height": 627
        },
        "id": "ARGxaFq6F1TM",
        "outputId": "d6217760-c5fe-4b68-f28c-ecad0cb3b9e8"
      },
      "execution_count": null,
      "outputs": [
        {
          "output_type": "display_data",
          "data": {
            "text/plain": [
              "<IPython.core.display.Javascript object>"
            ],
            "application/javascript": [
              "\n",
              "    async function download(id, filename, size) {\n",
              "      if (!google.colab.kernel.accessAllowed) {\n",
              "        return;\n",
              "      }\n",
              "      const div = document.createElement('div');\n",
              "      const label = document.createElement('label');\n",
              "      label.textContent = `Downloading \"${filename}\": `;\n",
              "      div.appendChild(label);\n",
              "      const progress = document.createElement('progress');\n",
              "      progress.max = size;\n",
              "      div.appendChild(progress);\n",
              "      document.body.appendChild(div);\n",
              "\n",
              "      const buffers = [];\n",
              "      let downloaded = 0;\n",
              "\n",
              "      const channel = await google.colab.kernel.comms.open(id);\n",
              "      // Send a message to notify the kernel that we're ready.\n",
              "      channel.send({})\n",
              "\n",
              "      for await (const message of channel.messages) {\n",
              "        // Send a message to notify the kernel that we're ready.\n",
              "        channel.send({})\n",
              "        if (message.buffers) {\n",
              "          for (const buffer of message.buffers) {\n",
              "            buffers.push(buffer);\n",
              "            downloaded += buffer.byteLength;\n",
              "            progress.value = downloaded;\n",
              "          }\n",
              "        }\n",
              "      }\n",
              "      const blob = new Blob(buffers, {type: 'application/binary'});\n",
              "      const a = document.createElement('a');\n",
              "      a.href = window.URL.createObjectURL(blob);\n",
              "      a.download = filename;\n",
              "      div.appendChild(a);\n",
              "      a.click();\n",
              "      div.remove();\n",
              "    }\n",
              "  "
            ]
          },
          "metadata": {}
        },
        {
          "output_type": "display_data",
          "data": {
            "text/plain": [
              "<IPython.core.display.Javascript object>"
            ],
            "application/javascript": [
              "download(\"download_f751717b-0577-4178-8285-5e99b80aa2e2\", \"Score_amount_of_litter_dependency.pdf\", 11782)"
            ]
          },
          "metadata": {}
        },
        {
          "output_type": "display_data",
          "data": {
            "text/plain": [
              "<Figure size 1080x720 with 1 Axes>"
            ],
            "image/png": "[encoded data removed]"
          },
          "metadata": {
            "needs_background": "light"
          }
        }
      ]
    },
    {
      "cell_type": "code",
      "source": [],
      "metadata": {
        "id": "L7WPMe6V6Bdv"
      },
      "execution_count": null,
      "outputs": []
    }
  ],
  "metadata": {
    "colab": {
      "name": "Each_litter_performance.ipynb",
      "provenance": []
    },
    "kernelspec": {
      "display_name": "Python 3",
      "name": "python3"
    },
    "language_info": {
      "name": "python"
    }
  },
  "nbformat": 4,
  "nbformat_minor": 0
}