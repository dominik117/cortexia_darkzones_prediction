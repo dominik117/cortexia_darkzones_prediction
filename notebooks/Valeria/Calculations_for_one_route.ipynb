{
  "cells": [
    {
      "cell_type": "markdown",
      "source": [
        "# In this notebook we are plotting a test route, predicting counts of litter on it and calculating a relative error."
      ],
      "metadata": {
        "id": "lZG6pjLMV26H"
      }
    },
    {
      "cell_type": "code",
      "execution_count": null,
      "metadata": {
        "id": "q2bEgj4Xl0Q2"
      },
      "outputs": [],
      "source": [
        "# Install OSMNX only if working on Google Colab\n",
        "import sys\n",
        "IN_COLAB = 'google.colab' in sys.modules\n",
        "if IN_COLAB:\n",
        "    !pip install osmnx\n",
        "    !pip install matplotlib==3.1.1\n",
        "    !pip install -U kaleido"
      ]
    },
    {
      "cell_type": "code",
      "execution_count": null,
      "metadata": {
        "id": "Hz8-MX7cl0Q5"
      },
      "outputs": [],
      "source": [
        "# Load datasets if working on Google Colab\n",
        "import sys\n",
        "IN_COLAB = 'google.colab' in sys.modules\n",
        "if IN_COLAB:\n",
        "    from pydrive.auth import GoogleAuth\n",
        "    from pydrive.drive import GoogleDrive\n",
        "    from google.colab import auth\n",
        "    from oauth2client.client import GoogleCredentials\n",
        "    auth.authenticate_user()\n",
        "    gauth = GoogleAuth()\n",
        "    gauth.credentials = GoogleCredentials.get_application_default()\n",
        "    drive = GoogleDrive(gauth)\n",
        "    file_id = '1tfAjKLhhl3lteqf_EkFoyIPY2IdBJFVn'\n",
        "    downloaded = drive.CreateFile({'id':file_id})\n",
        "    downloaded.FetchMetadata(fetch_all=True)\n",
        "    downloaded.GetContentFile(downloaded.metadata['title'])\n",
        "    f = open(\"V2data_6mounts2022.csv.zip\", \"wb\")\n",
        "    f.write(downloaded.content.getbuffer())\n",
        "    f.close()\n",
        "    !unzip V2data_6mounts2022.csv.zip"
      ]
    },
    {
      "cell_type": "code",
      "execution_count": 3,
      "metadata": {
        "id": "g-fT2Ow_RM4b"
      },
      "outputs": [],
      "source": [
        "import pandas as pd\n",
        "import numpy as np\n",
        "import matplotlib.pyplot as plt\n",
        "import seaborn as sns\n",
        "import time\n",
        "import datetime\n",
        "import sys\n",
        "import pickle\n",
        "import osmnx as ox\n",
        "import networkx as nx\n",
        "import urllib, json\n",
        "import requests\n",
        "\n",
        "sns.set_style('whitegrid')\n",
        "pd.set_option('display.max_columns', None)\n",
        "pd.set_option('display.max_rows', 300)"
      ]
    },
    {
      "cell_type": "code",
      "execution_count": 4,
      "metadata": {
        "id": "UCtr5EORIPD2"
      },
      "outputs": [],
      "source": [
        "IN_COLAB = 'google.colab' in sys.modules\n",
        "if IN_COLAB:\n",
        "    r = requests.get('https://raw.githubusercontent.com/dominik117/data-science-toolkit/main/helper_notebooks/data_processor.py')\n",
        "    with open('data_processor.py', 'w') as f:\n",
        "        f.write(r.text)\n",
        "    r = requests.get('https://raw.githubusercontent.com/dominik117/data-science-toolkit/main/helper_notebooks/darkzone_creator.py')\n",
        "    with open('darkzone_creator.py', 'w') as f:\n",
        "        f.write(r.text)\n",
        "\n",
        "import data_processor \n",
        "import darkzone_creator"
      ]
    },
    {
      "cell_type": "markdown",
      "metadata": {
        "id": "hQaIlaszqDuo"
      },
      "source": [
        "## Dataset Import"
      ]
    },
    {
      "cell_type": "code",
      "execution_count": null,
      "metadata": {
        "id": "6pHwDoOZqDur"
      },
      "outputs": [],
      "source": [
        "IN_COLAB = 'google.colab' in sys.modules\n",
        "if IN_COLAB: df_main_url = '/content/data.csv'\n",
        "else: df_main_url = '../../../Information/output/datav2.csv'\n",
        "df_main = pd.read_csv(df_main_url, dtype = {'place.id': object})\n",
        "df_main.drop('Unnamed: 0', axis=1, inplace=True, errors='ignore')\n",
        "df_main = data_processor.clean_df(df_main)\n",
        "df_main = data_processor.aggregate_df(df_main)\n",
        "df_main['row_type'] = \"ground truth\"\n",
        "df_main = data_processor.make_date_features(df_main)\n",
        "df_main = data_processor.make_coordinates_features(df_main)\n",
        "df_main = data_processor.make_edge_length_feature(df_main)\n",
        "df_main = data_processor.make_weather_features(df_main)\n",
        "df_main, osm_columns = data_processor.make_osm_features(df_main)\n",
        "#df_main['date_utc'] = df_main['date_utc'].astype(str)"
      ]
    },
    {
      "cell_type": "code",
      "source": [
        "# Load datasets if working on Google Colab\n",
        "import sys\n",
        "IN_COLAB = 'google.colab' in sys.modules\n",
        "if IN_COLAB:\n",
        "    from pydrive.auth import GoogleAuth\n",
        "    from pydrive.drive import GoogleDrive\n",
        "    from google.colab import auth\n",
        "    from oauth2client.client import GoogleCredentials\n",
        "    auth.authenticate_user()\n",
        "    gauth = GoogleAuth()\n",
        "    gauth.credentials = GoogleCredentials.get_application_default()\n",
        "    drive = GoogleDrive(gauth)\n",
        "    file_id = '190i18Wz2-HBXa82iajuNEPpCdFaOVL2r'\n",
        "    downloaded = drive.CreateFile({'id':file_id})\n",
        "    downloaded.FetchMetadata(fetch_all=True)\n",
        "    downloaded.GetContentFile(downloaded.metadata['title'])\n",
        "    f = open(\"darkzones_predicted.csv\", \"wb\")\n",
        "    f.write(downloaded.content.getbuffer())\n",
        "    f.close()\n"
      ],
      "metadata": {
        "id": "FIY4i_eCnYjB"
      },
      "execution_count": null,
      "outputs": []
    },
    {
      "cell_type": "code",
      "source": [
        "df_darkzones = pd.read_csv('/content/darkzones_predicted.csv')\n",
        "df_darkzones.drop('Unnamed: 0', axis=1, inplace=True, errors='ignore')\n",
        "df_darkzones.drop('predicted_total', axis=1, inplace=True, errors='ignore')\n",
        "df_darkzones.rename(columns = {'actual_total':'total_litter'}, inplace = True)"
      ],
      "metadata": {
        "id": "dzqxpIeYn7LC"
      },
      "execution_count": 7,
      "outputs": []
    },
    {
      "cell_type": "code",
      "execution_count": 8,
      "metadata": {
        "id": "rerPl_Dll0RK"
      },
      "outputs": [],
      "source": [
        "df = pd.concat([df_main, df_darkzones], ignore_index=True)"
      ]
    },
    {
      "cell_type": "code",
      "source": [
        "df.shape"
      ],
      "metadata": {
        "colab": {
          "base_uri": "https://localhost:8080/"
        },
        "id": "HVoy_N7nLK5F",
        "outputId": "775dcfea-6070-4ea6-8639-6ee1e15d645e"
      },
      "execution_count": 9,
      "outputs": [
        {
          "output_type": "execute_result",
          "data": {
            "text/plain": [
              "(2381530, 78)"
            ]
          },
          "metadata": {},
          "execution_count": 9
        }
      ]
    },
    {
      "cell_type": "markdown",
      "metadata": {
        "id": "SX7sIGQSH2A_"
      },
      "source": [
        "# Mapping"
      ]
    },
    {
      "cell_type": "code",
      "execution_count": null,
      "metadata": {
        "id": "OPZRzruzl0RW"
      },
      "outputs": [],
      "source": [
        "def clean_coordinates(coordinates):\n",
        "    new = []\n",
        "    for pair in coordinates:\n",
        "        new.append((pair[1], pair[0]))\n",
        "    return new\n",
        "with urllib.request.urlopen('https://raw.githubusercontent.com/dominik117/data-science-toolkit/main/data/edges.geojson') as url:\n",
        "    data = json.loads(url.read().decode())\n",
        "df_edges = pd.DataFrame(data['features'])  # <-- The only column needed\n",
        "df_edges.rename(columns = {'id':'edge_id'}, inplace = True)\n",
        "df_edges = pd.concat([df_edges.drop(['geometry'], axis=1), df_edges['geometry'].apply(pd.Series)], axis=1)  # <--Explode dictionary inside cells\n",
        "df_edges = pd.concat([df_edges.drop(['properties'], axis=1), df_edges['properties'].apply(pd.Series)], axis=1)  # <--Explode dictionary inside cells\n",
        "df_edges = df_edges[['edge_id', 'coordinates', 'name', 'highway']]\n",
        "df_edges['coordinates'] = df_edges['coordinates'].apply(clean_coordinates)"
      ]
    },
    {
      "cell_type": "code",
      "source": [
        "df_edges['edge_id'].nunique()"
      ],
      "metadata": {
        "colab": {
          "base_uri": "https://localhost:8080/"
        },
        "id": "-WFnCEdpv66K",
        "outputId": "052f77d5-15fa-427b-85cb-dca3dcbf5c65"
      },
      "execution_count": 11,
      "outputs": [
        {
          "output_type": "execute_result",
          "data": {
            "text/plain": [
              "15521"
            ]
          },
          "metadata": {},
          "execution_count": 11
        }
      ]
    },
    {
      "cell_type": "code",
      "source": [
        "# north, south, west, east - latitude and longitude coordinates\n",
        "\n",
        "route = []\n",
        "for index, row in df_edges.iterrows():\n",
        "    for pair in row['coordinates']:\n",
        "        if (pair[0] < north) & (pair[0] > south) & (pair[1] > west) & (pair[1] < east):\n",
        "            route.append(row['edge_id'])\n",
        "\n",
        "route = list(set(route))\n",
        "len(route)"
      ],
      "metadata": {
        "colab": {
          "base_uri": "https://localhost:8080/"
        },
        "id": "03pWDna22ghL",
        "outputId": "5d5bc59d-a18f-45e0-8da5-24ba7d40a981"
      },
      "execution_count": 12,
      "outputs": [
        {
          "output_type": "execute_result",
          "data": {
            "text/plain": [
              "125"
            ]
          },
          "metadata": {},
          "execution_count": 12
        }
      ]
    },
    {
      "cell_type": "code",
      "source": [
        "import folium\n",
        "df['date_utc'] = df['date_utc'].astype(str)\n",
        "df_map = df[df['date_utc'] == '2022-10-20']\n",
        "\n",
        "df_map_route = df_map[pd.DataFrame(df_map['edge_id'].tolist()).isin(route).any(1).values]\n",
        "\n",
        "df_map_ground = df_map_route[(df_map_route['row_type'] == \"ground truth\")]\n",
        "df_map_darkzone = df_map_route[(df_map_route['row_type'] == \"darkzone\")]\n"
      ],
      "metadata": {
        "id": "q_l7St7J2YU-"
      },
      "execution_count": 13,
      "outputs": []
    },
    {
      "cell_type": "code",
      "source": [
        "all_litters_on_route_ground = dict.fromkeys(df_map_ground.columns[4:34])\n",
        "all_litters_on_route_darkzone = dict.fromkeys(df_map_darkzone.columns[4:34])\n",
        "for key in all_litters_on_route_ground.keys():\n",
        "  all_litters_on_route_ground[key] = df_map_ground[key].sum()\n",
        "  all_litters_on_route_darkzone[key] = df_map_darkzone[key].sum()\n",
        "all_litters_on_route_ground, all_litters_on_route_darkzone"
      ],
      "metadata": {
        "id": "bScExJRABTE-"
      },
      "execution_count": null,
      "outputs": []
    },
    {
      "cell_type": "code",
      "source": [
        "lst_for_on_route = ['3', '4', '1', '21', '35', '33', '49', 'total_litter']\n",
        "litters_on_route_ground = {}\n",
        "litters_on_route_darkzone = {}\n",
        "for lit in lst_for_on_route:\n",
        "  litters_on_route_ground[lit] = all_litters_on_route_ground[lit]\n",
        "  litters_on_route_darkzone[lit] = all_litters_on_route_darkzone[lit]\n",
        "litters_on_route_ground, litters_on_route_darkzone"
      ],
      "metadata": {
        "id": "M83M9Oh1Hwus"
      },
      "execution_count": null,
      "outputs": []
    },
    {
      "cell_type": "code",
      "execution_count": null,
      "metadata": {
        "id": "wgjCauZ5l0Ra"
      },
      "outputs": [],
      "source": [
        "route_map = folium.Map(location=[47.5596, 7.5886], zoom_start=14, prefer_canvas=True, tiles=\"cartodbpositron\")\n",
        "\n",
        "for index, row in df_map_ground.iterrows():\n",
        "        loc = df_edges['coordinates'][df_edges['edge_id'] == row['edge_id']].tolist()\n",
        "        loc = loc[0]\n",
        "        folium.PolyLine(loc, color='seagreen',weight=3,opacity=1).add_to(route_map)\n",
        "for index, row in df_map_darkzone.iterrows():\n",
        "        loc = df_edges['coordinates'][df_edges['edge_id'] == row['edge_id']].tolist()\n",
        "        loc = loc[0]\n",
        "        folium.PolyLine(loc, color='indianred',weight=2,opacity=1).add_to(route_map)\n",
        "\n",
        "route_map"
      ]
    },
    {
      "cell_type": "code",
      "execution_count": null,
      "metadata": {
        "id": "tvbWmpeBl0Rc"
      },
      "outputs": [],
      "source": [
        "route_map.save('map2.html')"
      ]
    },
    {
      "cell_type": "markdown",
      "source": [
        "Here should be an image of the route on a map, however, for private purposes it has to be hidden."
      ],
      "metadata": {
        "id": "DfKCyb_WxcGC"
      }
    },
    {
      "cell_type": "markdown",
      "source": [
        "# Relative error"
      ],
      "metadata": {
        "id": "BXwWtK8ZD23_"
      }
    },
    {
      "cell_type": "code",
      "source": [
        "import cloudpickle as cp\n",
        "from urllib.request import urlopen "
      ],
      "metadata": {
        "id": "U0VxIp39EGux"
      },
      "execution_count": 22,
      "outputs": []
    },
    {
      "cell_type": "code",
      "execution_count": 23,
      "metadata": {
        "id": "5i0rI2FMl0Rd"
      },
      "outputs": [],
      "source": [
        "if IN_COLAB:\n",
        "    url = \"https://github.com/dominik117/data-science-toolkit/blob/main/data/models_dictionary.pkl?raw=true\"\n",
        "    models = cp.load(urlopen(url)) \n",
        "else:\n",
        "    with open('models_dictionary.pkl', 'rb') as f:\n",
        "        models = pickle.load(f)\n"
      ]
    },
    {
      "cell_type": "code",
      "source": [
        "df_main_predicted = df_main.copy()\n",
        "for key, model in models.items():\n",
        "    predictions = model[0].predict(df_main_predicted)\n",
        "    predictions = np.rint(predictions).astype(int)\n",
        "    df_main_predicted[f\"{key}_pred\"] = predictions\n",
        "columns_to_drop = ['Year', 'month', 'day', 'weekday', 'holiday', 'lat_north', 'lat_south', 'lon_east', 'lon_west', 'edge_length', \n",
        "        'temperature_max', 'temperature_min', 'temperature_mean', 'precipitation', 'snowfall', 'humidity_max', 'humidity_min', \n",
        "        'humidity_mean', 'cloud_coverage', 'wind_speed_max', 'wind_speed_min', 'wind_speed_mean']\n",
        "columns_to_drop.extend(osm_columns)\n",
        "df_main_predicted.drop(columns_to_drop, axis=1, inplace=True, errors='ignore')\n",
        "# Runtime ~2 minutes\n",
        "# df_main = df_main_predicted.copy()"
      ],
      "metadata": {
        "id": "OBOjDBZKD6Ux"
      },
      "execution_count": 24,
      "outputs": []
    },
    {
      "cell_type": "code",
      "source": [
        "relative_errors = {}\n",
        "for lit, values in litters_on_route_ground.items():\n",
        "\n",
        "  df_test = df_main_predicted[['date_utc', 'edge_id', lit, lit + '_pred']]\n",
        "  df_test = df_test.groupby(['edge_id'], as_index=False).agg({lit:'sum', lit + '_pred':'sum'})\n",
        "  df_test = df_test.sample(n=14000, random_state=1).copy().reset_index(drop=True)\n",
        "\n",
        "  agg_n_edges = [len(route)]\n",
        "\n",
        "  ticks = []\n",
        "  relative_error = []\n",
        "  for n_edges in agg_n_edges:\n",
        "      df_loop = df_test.groupby(df_test.index // n_edges).agg({lit:'sum', lit + '_pred':'sum'})\n",
        "      errors = []\n",
        "      for row in df_loop.values:\n",
        "          diff = abs(row[1] - row[0])\n",
        "          error = round((diff*100)/row[0], 8)\n",
        "          errors.append(error)\n",
        "      errors = np.array(errors)\n",
        "      relative_error.append([n_edges, round(np.mean(errors), 2)])\n",
        "      relative_errors[lit] = relative_error[0][1]\n",
        "      print(relative_error,lit, relative_errors[lit])\n",
        "      ticks.append([n_edges, errors])"
      ],
      "metadata": {
        "id": "zkOqFCFbEPyp"
      },
      "execution_count": null,
      "outputs": []
    },
    {
      "cell_type": "code",
      "source": [
        "relative_errors"
      ],
      "metadata": {
        "colab": {
          "base_uri": "https://localhost:8080/"
        },
        "id": "aTE6yE3YMx1L",
        "outputId": "3ee6f0b8-8089-4e7c-d957-3f314ce34d14"
      },
      "execution_count": 28,
      "outputs": [
        {
          "output_type": "execute_result",
          "data": {
            "text/plain": [
              "{'3': 2.57,\n",
              " '4': 1.61,\n",
              " '1': 1.71,\n",
              " '21': 11.6,\n",
              " '35': 9.34,\n",
              " '33': 20.67,\n",
              " '49': 40.83,\n",
              " 'total_litter': 1.46}"
            ]
          },
          "metadata": {},
          "execution_count": 28
        }
      ]
    },
    {
      "cell_type": "code",
      "source": [
        "litter_dict = {'1': 'Cigarette', '2': 'Leaf', '3': 'Leaves', '4': 'Paper/Carton', '5': 'CAN',\n",
        "               '7': 'Glass bottle', '8': 'PET', '9': 'Carton drink', '10': 'FF Cup', '11': 'FF Foam Polystrene',\n",
        "               '12': 'Other Foam Polystrene', '13': 'Food packaging', '14': 'Newspaper', '15': 'Small bag',\n",
        "               '16': 'Glass Splinter', '17': 'Syringe', '18': 'Organic food littering', '19': 'Dog fouling',\n",
        "               '21': 'Garbage bags', '22': 'Sand/Grit/Granulate', '23': 'Chewing- gum', '24': 'Vomit', '25': 'FF Cup',\n",
        "               '26': 'FF Lid', '27': 'FF Straw', '28': 'FF Fries cartin', '29': 'Unclear bottles', \n",
        "               '30': 'FF Burger Box', '31': 'FF Paper', '32': 'FF Other Paper', '33': 'iQos', '34': 'Confettis (pile)',\n",
        "               '35': 'Medium/big stain', '36': 'Transparent plastic', '37': 'Opaque plastic', '38': 'Fabric', \n",
        "               '39': 'Unrecognizable', '40': 'Capsule', '41': 'Carcass', '42': 'Furniture', '43': 'Tag',\n",
        "               '44': 'Poster', '45': 'Waste bin stain', '46': 'Waste bin tag', '47': 'Waste bin sticker',\n",
        "               '48': 'Waste bin Ouverture', '49': 'Waste bin', '50': 'Cigarette white', '51': 'Cigarette rolled',\n",
        "               '52': 'Cigarette unknown', '53': 'Waste container too full', '54': 'Illegal advertising poster',\n",
        "               '55': 'Illegal advertising poster (influenceable)', '56': 'Illegal litters', \n",
        "               '57': 'Spray painting, graffiti', '58': 'Spray painting, graffiti (influenceable)',\n",
        "               '59': 'Feuille mouillée', '60': 'Poubelles remplies', '61': 'Robydog', '62': 'Wooden or plastic crate',\n",
        "               '63': 'Mask', 'total_litter': 'Total litter'}"
      ],
      "metadata": {
        "id": "jMQxIfy6COCQ"
      },
      "execution_count": 29,
      "outputs": []
    },
    {
      "cell_type": "code",
      "source": [
        "litters_on_route_df = pd.DataFrame(columns=['litter_type', 'value', 'relative_error'])\n",
        "litters_on_route_df['litter_type'] = relative_errors.keys()\n",
        "litters_on_route_df['value_ground'] = litters_on_route_df['litter_type'].apply(lambda x: litters_on_route_ground[x])\n",
        "litters_on_route_df['value_darkzone'] = litters_on_route_df['litter_type'].apply(lambda x: litters_on_route_darkzone[x])\n",
        "litters_on_route_df['value'] = litters_on_route_df['value_ground'] + litters_on_route_df['value_darkzone']\n",
        "litters_on_route_df['relative_error'] = litters_on_route_df['litter_type'].apply(lambda x: relative_errors[x])\n",
        "litters_on_route_df['relative_error'] = litters_on_route_df['relative_error']\n",
        "litters_on_route_df['litter_type_name'] = litters_on_route_df['litter_type'].apply(lambda x: litter_dict[x])\n",
        "litters_on_route_df.sort_values(by='value', ascending=False, inplace=True)                                      "
      ],
      "metadata": {
        "id": "o-TwJw5zchg3"
      },
      "execution_count": 30,
      "outputs": []
    },
    {
      "cell_type": "code",
      "source": [
        "import matplotlib.pyplot as plt\n",
        "import seaborn as sns\n",
        "from google.colab import files\n",
        "\n",
        "fig, ax = plt.subplots(figsize=(15, 10))\n",
        "plt.bar(x=litters_on_route_df['litter_type_name'], height=litters_on_route_df['value_ground'], color='seagreen', label='measured')\n",
        "plt.bar(x=litters_on_route_df['litter_type_name'], height=litters_on_route_df['value_darkzone'], color='#ebc810', bottom = litters_on_route_df['value_ground'], label='darkzone')\n",
        "ax.set_title('Litter during the route', size=20)\n",
        "ax.set_xlabel(\"Litter type\")\n",
        "plt.xticks(rotation=45)\n",
        "plt.legend()\n",
        "plt.rcParams.update({'font.size': 14})\n",
        "ax.set_ylabel(\"Quantity\");\n",
        "fig.show()\n",
        "fig.savefig('Litter_during_the_route.pdf');\n",
        "files.download('Litter_during_the_route.pdf')"
      ],
      "metadata": {
        "colab": {
          "base_uri": "https://localhost:8080/",
          "height": 685
        },
        "id": "zuBQq5xHLzSX",
        "outputId": "51ad2ebc-d1d2-4858-c1dc-22436f3165fc"
      },
      "execution_count": 31,
      "outputs": [
        {
          "output_type": "display_data",
          "data": {
            "text/plain": [
              "<IPython.core.display.Javascript object>"
            ],
            "application/javascript": [
              "\n",
              "    async function download(id, filename, size) {\n",
              "      if (!google.colab.kernel.accessAllowed) {\n",
              "        return;\n",
              "      }\n",
              "      const div = document.createElement('div');\n",
              "      const label = document.createElement('label');\n",
              "      label.textContent = `Downloading \"${filename}\": `;\n",
              "      div.appendChild(label);\n",
              "      const progress = document.createElement('progress');\n",
              "      progress.max = size;\n",
              "      div.appendChild(progress);\n",
              "      document.body.appendChild(div);\n",
              "\n",
              "      const buffers = [];\n",
              "      let downloaded = 0;\n",
              "\n",
              "      const channel = await google.colab.kernel.comms.open(id);\n",
              "      // Send a message to notify the kernel that we're ready.\n",
              "      channel.send({})\n",
              "\n",
              "      for await (const message of channel.messages) {\n",
              "        // Send a message to notify the kernel that we're ready.\n",
              "        channel.send({})\n",
              "        if (message.buffers) {\n",
              "          for (const buffer of message.buffers) {\n",
              "            buffers.push(buffer);\n",
              "            downloaded += buffer.byteLength;\n",
              "            progress.value = downloaded;\n",
              "          }\n",
              "        }\n",
              "      }\n",
              "      const blob = new Blob(buffers, {type: 'application/binary'});\n",
              "      const a = document.createElement('a');\n",
              "      a.href = window.URL.createObjectURL(blob);\n",
              "      a.download = filename;\n",
              "      div.appendChild(a);\n",
              "      a.click();\n",
              "      div.remove();\n",
              "    }\n",
              "  "
            ]
          },
          "metadata": {}
        },
        {
          "output_type": "display_data",
          "data": {
            "text/plain": [
              "<IPython.core.display.Javascript object>"
            ],
            "application/javascript": [
              "download(\"download_844148bc-cee7-418a-add2-7233576d92a9\", \"Litter_during_the_route.pdf\", 14075)"
            ]
          },
          "metadata": {}
        },
        {
          "output_type": "display_data",
          "data": {
            "text/plain": [
              "<Figure size 1080x720 with 1 Axes>"
            ],
            "image/png": "[encoded data removed]"
          },
          "metadata": {}
        }
      ]
    },
    {
      "cell_type": "code",
      "source": [
        "from plotly.offline import iplot\n",
        "import plotly.graph_objects as go\n",
        "\n",
        "# chart 1\n",
        "chart1 = go.Bar(x=litters_on_route_df['litter_type_name'], y=litters_on_route_df['value_ground'], name='From Measured', marker_color='seagreen') #change the name to your liking and color\n",
        "# chart 2\n",
        "chart2 = go.Bar(x=litters_on_route_df['litter_type_name'], y=litters_on_route_df['value_darkzone'], name='From Darkzone', marker_color='#ebc810')\n",
        "# chart 3\n",
        "chart3 = go.Scatter(\n",
        "    x=litters_on_route_df['litter_type_name'],\n",
        "    y=litters_on_route_df['relative_error'],\n",
        "    mode='lines+markers',\n",
        "    line=dict(color='rgb(204, 0, 0)'),\n",
        "    name='Relative error %',\n",
        "    xaxis='x2',\n",
        "    yaxis='y2',\n",
        ")\n",
        " \n",
        "data = [chart1, chart2, chart3]\n",
        " \n",
        "# setting layout\n",
        "layout = go.Layout(\n",
        " \n",
        "    # setting y-axis position for chart 2\n",
        "    xaxis2=dict(\n",
        "        domain=[0.65, 0.95],\n",
        "        anchor='y2'\n",
        "    ),\n",
        " \n",
        "    # setting y-axis position for chart 2\n",
        "    yaxis2=dict(\n",
        "        domain=[0.6, 0.95],\n",
        "        anchor='x2'\n",
        "    )\n",
        ")\n",
        "fig = go.Figure(data=data, layout=layout)\n",
        "fig.update_layout(barmode = 'stack', \n",
        "                  title = 'Litter during the route', \n",
        "                  yaxis_title = 'Litter quantity',\n",
        "                  xaxis_title = 'Litter type',\n",
        "                  template = 'plotly_white')\n",
        "iplot(fig)\n"
      ],
      "metadata": {
        "colab": {
          "base_uri": "https://localhost:8080/",
          "height": 542
        },
        "id": "aI5gEjLtMnZ8",
        "outputId": "fc90feba-c903-45a9-c1f2-3f7765a40e87"
      },
      "execution_count": 32,
      "outputs": [
        {
          "output_type": "display_data",
          "data": {
            "text/html": [
              "<html>\n",
              "<head><meta charset=\"utf-8\" /></head>\n",
              "<body>\n",
              "    <div>            <script src=\"https://cdnjs.cloudflare.com/ajax/libs/mathjax/2.7.5/MathJax.js?config=TeX-AMS-MML_SVG\"></script><script type=\"text/javascript\">if (window.MathJax) {MathJax.Hub.Config({SVG: {font: \"STIX-Web\"}});}</script>                <script type=\"text/javascript\">window.PlotlyConfig = {MathJaxConfig: 'local'};</script>\n",
              "        <script src=\"https://cdn.plot.ly/plotly-2.8.3.min.js\"></script>                <div id=\"9ba1b501-a03a-4359-b8c6-419cae83562e\" class=\"plotly-graph-div\" style=\"height:525px; width:100%;\"></div>            <script type=\"text/javascript\">                                    window.PLOTLYENV=window.PLOTLYENV || {};                                    if (document.getElementById(\"9ba1b501-a03a-4359-b8c6-419cae83562e\")) {                    Plotly.newPlot(                        \"9ba1b501-a03a-4359-b8c6-419cae83562e\",                        [{\"marker\":{\"color\":\"seagreen\"},\"name\":\"From Measured\",\"x\":[\"Total litter\",\"Leaves\",\"Paper/Carton\",\"Cigarette\",\"Garbage bags\",\"Medium/big stain\",\"iQos\",\"Waste bin\"],\"y\":[244,41,70,105,5,5,12,0],\"type\":\"bar\"},{\"marker\":{\"color\":\"#ebc810\"},\"name\":\"From Darkzone\",\"x\":[\"Total litter\",\"Leaves\",\"Paper/Carton\",\"Cigarette\",\"Garbage bags\",\"Medium/big stain\",\"iQos\",\"Waste bin\"],\"y\":[1880,697,519,410,133,82,15,22],\"type\":\"bar\"},{\"line\":{\"color\":\"rgb(204, 0, 0)\"},\"mode\":\"lines+markers\",\"name\":\"Relative error %\",\"x\":[\"Total litter\",\"Leaves\",\"Paper/Carton\",\"Cigarette\",\"Garbage bags\",\"Medium/big stain\",\"iQos\",\"Waste bin\"],\"xaxis\":\"x2\",\"y\":[1.46,2.57,1.61,1.71,11.6,9.34,20.67,40.83],\"yaxis\":\"y2\",\"type\":\"scatter\"}],                        {\"barmode\":\"stack\",\"template\":{\"data\":{\"barpolar\":[{\"marker\":{\"line\":{\"color\":\"white\",\"width\":0.5},\"pattern\":{\"fillmode\":\"overlay\",\"size\":10,\"solidity\":0.2}},\"type\":\"barpolar\"}],\"bar\":[{\"error_x\":{\"color\":\"#2a3f5f\"},\"error_y\":{\"color\":\"#2a3f5f\"},\"marker\":{\"line\":{\"color\":\"white\",\"width\":0.5},\"pattern\":{\"fillmode\":\"overlay\",\"size\":10,\"solidity\":0.2}},\"type\":\"bar\"}],\"carpet\":[{\"aaxis\":{\"endlinecolor\":\"#2a3f5f\",\"gridcolor\":\"#C8D4E3\",\"linecolor\":\"#C8D4E3\",\"minorgridcolor\":\"#C8D4E3\",\"startlinecolor\":\"#2a3f5f\"},\"baxis\":{\"endlinecolor\":\"#2a3f5f\",\"gridcolor\":\"#C8D4E3\",\"linecolor\":\"#C8D4E3\",\"minorgridcolor\":\"#C8D4E3\",\"startlinecolor\":\"#2a3f5f\"},\"type\":\"carpet\"}],\"choropleth\":[{\"colorbar\":{\"outlinewidth\":0,\"ticks\":\"\"},\"type\":\"choropleth\"}],\"contourcarpet\":[{\"colorbar\":{\"outlinewidth\":0,\"ticks\":\"\"},\"type\":\"contourcarpet\"}],\"contour\":[{\"colorbar\":{\"outlinewidth\":0,\"ticks\":\"\"},\"colorscale\":[[0.0,\"#0d0887\"],[0.1111111111111111,\"#46039f\"],[0.2222222222222222,\"#7201a8\"],[0.3333333333333333,\"#9c179e\"],[0.4444444444444444,\"#bd3786\"],[0.5555555555555556,\"#d8576b\"],[0.6666666666666666,\"#ed7953\"],[0.7777777777777778,\"#fb9f3a\"],[0.8888888888888888,\"#fdca26\"],[1.0,\"#f0f921\"]],\"type\":\"contour\"}],\"heatmapgl\":[{\"colorbar\":{\"outlinewidth\":0,\"ticks\":\"\"},\"colorscale\":[[0.0,\"#0d0887\"],[0.1111111111111111,\"#46039f\"],[0.2222222222222222,\"#7201a8\"],[0.3333333333333333,\"#9c179e\"],[0.4444444444444444,\"#bd3786\"],[0.5555555555555556,\"#d8576b\"],[0.6666666666666666,\"#ed7953\"],[0.7777777777777778,\"#fb9f3a\"],[0.8888888888888888,\"#fdca26\"],[1.0,\"#f0f921\"]],\"type\":\"heatmapgl\"}],\"heatmap\":[{\"colorbar\":{\"outlinewidth\":0,\"ticks\":\"\"},\"colorscale\":[[0.0,\"#0d0887\"],[0.1111111111111111,\"#46039f\"],[0.2222222222222222,\"#7201a8\"],[0.3333333333333333,\"#9c179e\"],[0.4444444444444444,\"#bd3786\"],[0.5555555555555556,\"#d8576b\"],[0.6666666666666666,\"#ed7953\"],[0.7777777777777778,\"#fb9f3a\"],[0.8888888888888888,\"#fdca26\"],[1.0,\"#f0f921\"]],\"type\":\"heatmap\"}],\"histogram2dcontour\":[{\"colorbar\":{\"outlinewidth\":0,\"ticks\":\"\"},\"colorscale\":[[0.0,\"#0d0887\"],[0.1111111111111111,\"#46039f\"],[0.2222222222222222,\"#7201a8\"],[0.3333333333333333,\"#9c179e\"],[0.4444444444444444,\"#bd3786\"],[0.5555555555555556,\"#d8576b\"],[0.6666666666666666,\"#ed7953\"],[0.7777777777777778,\"#fb9f3a\"],[0.8888888888888888,\"#fdca26\"],[1.0,\"#f0f921\"]],\"type\":\"histogram2dcontour\"}],\"histogram2d\":[{\"colorbar\":{\"outlinewidth\":0,\"ticks\":\"\"},\"colorscale\":[[0.0,\"#0d0887\"],[0.1111111111111111,\"#46039f\"],[0.2222222222222222,\"#7201a8\"],[0.3333333333333333,\"#9c179e\"],[0.4444444444444444,\"#bd3786\"],[0.5555555555555556,\"#d8576b\"],[0.6666666666666666,\"#ed7953\"],[0.7777777777777778,\"#fb9f3a\"],[0.8888888888888888,\"#fdca26\"],[1.0,\"#f0f921\"]],\"type\":\"histogram2d\"}],\"histogram\":[{\"marker\":{\"pattern\":{\"fillmode\":\"overlay\",\"size\":10,\"solidity\":0.2}},\"type\":\"histogram\"}],\"mesh3d\":[{\"colorbar\":{\"outlinewidth\":0,\"ticks\":\"\"},\"type\":\"mesh3d\"}],\"parcoords\":[{\"line\":{\"colorbar\":{\"outlinewidth\":0,\"ticks\":\"\"}},\"type\":\"parcoords\"}],\"pie\":[{\"automargin\":true,\"type\":\"pie\"}],\"scatter3d\":[{\"line\":{\"colorbar\":{\"outlinewidth\":0,\"ticks\":\"\"}},\"marker\":{\"colorbar\":{\"outlinewidth\":0,\"ticks\":\"\"}},\"type\":\"scatter3d\"}],\"scattercarpet\":[{\"marker\":{\"colorbar\":{\"outlinewidth\":0,\"ticks\":\"\"}},\"type\":\"scattercarpet\"}],\"scattergeo\":[{\"marker\":{\"colorbar\":{\"outlinewidth\":0,\"ticks\":\"\"}},\"type\":\"scattergeo\"}],\"scattergl\":[{\"marker\":{\"colorbar\":{\"outlinewidth\":0,\"ticks\":\"\"}},\"type\":\"scattergl\"}],\"scattermapbox\":[{\"marker\":{\"colorbar\":{\"outlinewidth\":0,\"ticks\":\"\"}},\"type\":\"scattermapbox\"}],\"scatterpolargl\":[{\"marker\":{\"colorbar\":{\"outlinewidth\":0,\"ticks\":\"\"}},\"type\":\"scatterpolargl\"}],\"scatterpolar\":[{\"marker\":{\"colorbar\":{\"outlinewidth\":0,\"ticks\":\"\"}},\"type\":\"scatterpolar\"}],\"scatter\":[{\"marker\":{\"colorbar\":{\"outlinewidth\":0,\"ticks\":\"\"}},\"type\":\"scatter\"}],\"scatterternary\":[{\"marker\":{\"colorbar\":{\"outlinewidth\":0,\"ticks\":\"\"}},\"type\":\"scatterternary\"}],\"surface\":[{\"colorbar\":{\"outlinewidth\":0,\"ticks\":\"\"},\"colorscale\":[[0.0,\"#0d0887\"],[0.1111111111111111,\"#46039f\"],[0.2222222222222222,\"#7201a8\"],[0.3333333333333333,\"#9c179e\"],[0.4444444444444444,\"#bd3786\"],[0.5555555555555556,\"#d8576b\"],[0.6666666666666666,\"#ed7953\"],[0.7777777777777778,\"#fb9f3a\"],[0.8888888888888888,\"#fdca26\"],[1.0,\"#f0f921\"]],\"type\":\"surface\"}],\"table\":[{\"cells\":{\"fill\":{\"color\":\"#EBF0F8\"},\"line\":{\"color\":\"white\"}},\"header\":{\"fill\":{\"color\":\"#C8D4E3\"},\"line\":{\"color\":\"white\"}},\"type\":\"table\"}]},\"layout\":{\"annotationdefaults\":{\"arrowcolor\":\"#2a3f5f\",\"arrowhead\":0,\"arrowwidth\":1},\"autotypenumbers\":\"strict\",\"coloraxis\":{\"colorbar\":{\"outlinewidth\":0,\"ticks\":\"\"}},\"colorscale\":{\"diverging\":[[0,\"#8e0152\"],[0.1,\"#c51b7d\"],[0.2,\"#de77ae\"],[0.3,\"#f1b6da\"],[0.4,\"#fde0ef\"],[0.5,\"#f7f7f7\"],[0.6,\"#e6f5d0\"],[0.7,\"#b8e186\"],[0.8,\"#7fbc41\"],[0.9,\"#4d9221\"],[1,\"#276419\"]],\"sequential\":[[0.0,\"#0d0887\"],[0.1111111111111111,\"#46039f\"],[0.2222222222222222,\"#7201a8\"],[0.3333333333333333,\"#9c179e\"],[0.4444444444444444,\"#bd3786\"],[0.5555555555555556,\"#d8576b\"],[0.6666666666666666,\"#ed7953\"],[0.7777777777777778,\"#fb9f3a\"],[0.8888888888888888,\"#fdca26\"],[1.0,\"#f0f921\"]],\"sequentialminus\":[[0.0,\"#0d0887\"],[0.1111111111111111,\"#46039f\"],[0.2222222222222222,\"#7201a8\"],[0.3333333333333333,\"#9c179e\"],[0.4444444444444444,\"#bd3786\"],[0.5555555555555556,\"#d8576b\"],[0.6666666666666666,\"#ed7953\"],[0.7777777777777778,\"#fb9f3a\"],[0.8888888888888888,\"#fdca26\"],[1.0,\"#f0f921\"]]},\"colorway\":[\"#636efa\",\"#EF553B\",\"#00cc96\",\"#ab63fa\",\"#FFA15A\",\"#19d3f3\",\"#FF6692\",\"#B6E880\",\"#FF97FF\",\"#FECB52\"],\"font\":{\"color\":\"#2a3f5f\"},\"geo\":{\"bgcolor\":\"white\",\"lakecolor\":\"white\",\"landcolor\":\"white\",\"showlakes\":true,\"showland\":true,\"subunitcolor\":\"#C8D4E3\"},\"hoverlabel\":{\"align\":\"left\"},\"hovermode\":\"closest\",\"mapbox\":{\"style\":\"light\"},\"paper_bgcolor\":\"white\",\"plot_bgcolor\":\"white\",\"polar\":{\"angularaxis\":{\"gridcolor\":\"#EBF0F8\",\"linecolor\":\"#EBF0F8\",\"ticks\":\"\"},\"bgcolor\":\"white\",\"radialaxis\":{\"gridcolor\":\"#EBF0F8\",\"linecolor\":\"#EBF0F8\",\"ticks\":\"\"}},\"scene\":{\"xaxis\":{\"backgroundcolor\":\"white\",\"gridcolor\":\"#DFE8F3\",\"gridwidth\":2,\"linecolor\":\"#EBF0F8\",\"showbackground\":true,\"ticks\":\"\",\"zerolinecolor\":\"#EBF0F8\"},\"yaxis\":{\"backgroundcolor\":\"white\",\"gridcolor\":\"#DFE8F3\",\"gridwidth\":2,\"linecolor\":\"#EBF0F8\",\"showbackground\":true,\"ticks\":\"\",\"zerolinecolor\":\"#EBF0F8\"},\"zaxis\":{\"backgroundcolor\":\"white\",\"gridcolor\":\"#DFE8F3\",\"gridwidth\":2,\"linecolor\":\"#EBF0F8\",\"showbackground\":true,\"ticks\":\"\",\"zerolinecolor\":\"#EBF0F8\"}},\"shapedefaults\":{\"line\":{\"color\":\"#2a3f5f\"}},\"ternary\":{\"aaxis\":{\"gridcolor\":\"#DFE8F3\",\"linecolor\":\"#A2B1C6\",\"ticks\":\"\"},\"baxis\":{\"gridcolor\":\"#DFE8F3\",\"linecolor\":\"#A2B1C6\",\"ticks\":\"\"},\"bgcolor\":\"white\",\"caxis\":{\"gridcolor\":\"#DFE8F3\",\"linecolor\":\"#A2B1C6\",\"ticks\":\"\"}},\"title\":{\"x\":0.05},\"xaxis\":{\"automargin\":true,\"gridcolor\":\"#EBF0F8\",\"linecolor\":\"#EBF0F8\",\"ticks\":\"\",\"title\":{\"standoff\":15},\"zerolinecolor\":\"#EBF0F8\",\"zerolinewidth\":2},\"yaxis\":{\"automargin\":true,\"gridcolor\":\"#EBF0F8\",\"linecolor\":\"#EBF0F8\",\"ticks\":\"\",\"title\":{\"standoff\":15},\"zerolinecolor\":\"#EBF0F8\",\"zerolinewidth\":2}}},\"title\":{\"text\":\"Litter during the route\"},\"xaxis\":{\"title\":{\"text\":\"Litter type\"}},\"yaxis\":{\"title\":{\"text\":\"Litter quantity\"}},\"xaxis2\":{\"anchor\":\"y2\",\"domain\":[0.65,0.95]},\"yaxis2\":{\"anchor\":\"x2\",\"domain\":[0.6,0.95]}},                        {\"responsive\": true}                    ).then(function(){\n",
              "                            \n",
              "var gd = document.getElementById('9ba1b501-a03a-4359-b8c6-419cae83562e');\n",
              "var x = new MutationObserver(function (mutations, observer) {{\n",
              "        var display = window.getComputedStyle(gd).display;\n",
              "        if (!display || display === 'none') {{\n",
              "            console.log([gd, 'removed!']);\n",
              "            Plotly.purge(gd);\n",
              "            observer.disconnect();\n",
              "        }}\n",
              "}});\n",
              "\n",
              "// Listen for the removal of the full notebook cells\n",
              "var notebookContainer = gd.closest('#notebook-container');\n",
              "if (notebookContainer) {{\n",
              "    x.observe(notebookContainer, {childList: true});\n",
              "}}\n",
              "\n",
              "// Listen for the clearing of the current output cell\n",
              "var outputEl = gd.closest('.output');\n",
              "if (outputEl) {{\n",
              "    x.observe(outputEl, {childList: true});\n",
              "}}\n",
              "\n",
              "                        })                };                            </script>        </div>\n",
              "</body>\n",
              "</html>"
            ]
          },
          "metadata": {}
        }
      ]
    },
    {
      "cell_type": "code",
      "source": [
        "import matplotlib.pyplot as plt\n",
        "import seaborn as sns\n",
        "from google.colab import files\n",
        "\n",
        "fig, ax = plt.subplots(figsize=(15, 10))\n",
        "sns.barplot(data=litters_on_route_df, x = 'litter_type_name', y='relative_error', color='#087E8B', ax=ax)\n",
        "ax.set_title('Mean relative error aggregated on 125 street segments', size=20)\n",
        "ax.set_xlabel(\"Litter type\")\n",
        "plt.xticks(rotation='horizontal')\n",
        "ax.set_ylabel(\"Relative error\");\n",
        "fig.show()\n",
        "fig.savefig('relative_errror_125_edges.pdf');\n",
        "files.download('relative_errror_125_edges.pdf')"
      ],
      "metadata": {
        "colab": {
          "base_uri": "https://localhost:8080/",
          "height": 635
        },
        "id": "hjLmSx676kCB",
        "outputId": "fb4940b5-65c8-4cc2-cc0c-e033e2936833"
      },
      "execution_count": 33,
      "outputs": [
        {
          "output_type": "display_data",
          "data": {
            "text/plain": [
              "<IPython.core.display.Javascript object>"
            ],
            "application/javascript": [
              "\n",
              "    async function download(id, filename, size) {\n",
              "      if (!google.colab.kernel.accessAllowed) {\n",
              "        return;\n",
              "      }\n",
              "      const div = document.createElement('div');\n",
              "      const label = document.createElement('label');\n",
              "      label.textContent = `Downloading \"${filename}\": `;\n",
              "      div.appendChild(label);\n",
              "      const progress = document.createElement('progress');\n",
              "      progress.max = size;\n",
              "      div.appendChild(progress);\n",
              "      document.body.appendChild(div);\n",
              "\n",
              "      const buffers = [];\n",
              "      let downloaded = 0;\n",
              "\n",
              "      const channel = await google.colab.kernel.comms.open(id);\n",
              "      // Send a message to notify the kernel that we're ready.\n",
              "      channel.send({})\n",
              "\n",
              "      for await (const message of channel.messages) {\n",
              "        // Send a message to notify the kernel that we're ready.\n",
              "        channel.send({})\n",
              "        if (message.buffers) {\n",
              "          for (const buffer of message.buffers) {\n",
              "            buffers.push(buffer);\n",
              "            downloaded += buffer.byteLength;\n",
              "            progress.value = downloaded;\n",
              "          }\n",
              "        }\n",
              "      }\n",
              "      const blob = new Blob(buffers, {type: 'application/binary'});\n",
              "      const a = document.createElement('a');\n",
              "      a.href = window.URL.createObjectURL(blob);\n",
              "      a.download = filename;\n",
              "      div.appendChild(a);\n",
              "      a.click();\n",
              "      div.remove();\n",
              "    }\n",
              "  "
            ]
          },
          "metadata": {}
        },
        {
          "output_type": "display_data",
          "data": {
            "text/plain": [
              "<IPython.core.display.Javascript object>"
            ],
            "application/javascript": [
              "download(\"download_0588e46d-0525-4366-aad0-3d4af888d016\", \"relative_errror_125_edges.pdf\", 13588)"
            ]
          },
          "metadata": {}
        },
        {
          "output_type": "display_data",
          "data": {
            "text/plain": [
              "<Figure size 1080x720 with 1 Axes>"
            ],
            "image/png": "[encoded data removed]"
          },
          "metadata": {}
        }
      ]
    },
    {
      "cell_type": "code",
      "source": [
        "df_main_predicted_route = pd.DataFrame(columns = df_main_predicted.columns)\n",
        "for i in route:\n",
        "  df_main_predicted_route = df_main_predicted_route.append(df_main_predicted[df_main_predicted['edge_id']  == i])\n",
        "df_main_predicted_route['edge_id'].nunique()"
      ],
      "metadata": {
        "colab": {
          "base_uri": "https://localhost:8080/"
        },
        "id": "XyS7m4y_qgDn",
        "outputId": "c96d1551-5ce9-43ce-8e71-78fdb4f97d2b"
      },
      "execution_count": 34,
      "outputs": [
        {
          "output_type": "execute_result",
          "data": {
            "text/plain": [
              "125"
            ]
          },
          "metadata": {},
          "execution_count": 34
        }
      ]
    },
    {
      "cell_type": "code",
      "source": [
        "df_main_predicted_route = df_main_predicted_route.groupby('edge_id').agg({\n",
        "    'total_litter' : 'sum', 'total_litter_pred':'sum', '3' : 'sum', '3_pred' : 'sum',\n",
        "     '4' : 'sum', '4_pred' : 'sum', '1' : 'sum', '1_pred' : 'sum', '21' : 'sum', \n",
        "     '21_pred' : 'sum', '35' : 'sum', '35_pred' : 'sum',  '33' : 'sum', '33_pred' : 'sum',\n",
        "     '49' : 'sum', '49_pred' : 'sum'\n",
        "})"
      ],
      "metadata": {
        "id": "IOVMXC1jcGoR"
      },
      "execution_count": 35,
      "outputs": []
    },
    {
      "cell_type": "code",
      "source": [
        "df_main_predicted_route.shape"
      ],
      "metadata": {
        "colab": {
          "base_uri": "https://localhost:8080/"
        },
        "id": "bKjTUP9rqPkU",
        "outputId": "2d53142f-5b6a-4066-8bd4-9e4266c71174"
      },
      "execution_count": 36,
      "outputs": [
        {
          "output_type": "execute_result",
          "data": {
            "text/plain": [
              "(125, 16)"
            ]
          },
          "metadata": {},
          "execution_count": 36
        }
      ]
    }
  ],
  "metadata": {
    "colab": {
      "machine_shape": "hm",
      "name": "Calculations_for_one_route.ipynb",
      "provenance": [],
      "background_execution": "on"
    },
    "gpuClass": "standard",
    "kernelspec": {
      "display_name": "Python 3.10.4 ('cortexia3')",
      "language": "python",
      "name": "python3"
    },
    "language_info": {
      "codemirror_mode": {
        "name": "ipython",
        "version": 3
      },
      "file_extension": ".py",
      "mimetype": "text/x-python",
      "name": "python",
      "nbconvert_exporter": "python",
      "pygments_lexer": "ipython3",
      "version": "3.10.5"
    },
    "vscode": {
      "interpreter": {
        "hash": "393eaa007fcd2c7a4c179b44934792a94932bcce71862c954e102a685fb04132"
      }
    }
  },
  "nbformat": 4,
  "nbformat_minor": 0
}