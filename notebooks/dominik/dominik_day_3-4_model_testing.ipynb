{
  "cells": [
    {
      "cell_type": "code",
      "execution_count": 2,
      "metadata": {
        "id": "g-fT2Ow_RM4b"
      },
      "outputs": [],
      "source": [
        "import pandas as pd\n",
        "import numpy as np\n",
        "import sklearn\n",
        "import matplotlib.pyplot as plt\n",
        "import seaborn as sns\n",
        "\n",
        "from datetime import datetime, date\n",
        "import calendar\n",
        "import holidays\n",
        "\n",
        "import plotly.express as px\n",
        "import plotly.graph_objects as go\n",
        "\n",
        "sns.set_style('whitegrid')\n",
        "pd.set_option('display.max_columns', None)"
      ]
    },
    {
      "cell_type": "code",
      "execution_count": null,
      "metadata": {
        "colab": {
          "base_uri": "https://localhost:8080/"
        },
        "id": "wlt1L9Q8RPQh",
        "outputId": "9768b58f-7263-4aa0-d176-3dac1756e985"
      },
      "outputs": [],
      "source": [
        "df_main = pd.read_csv('../../data/datav2.csv')\n",
        "# df_main = pd.read_csv('/content/data.csv')\n",
        "df_main.shape"
      ]
    },
    {
      "cell_type": "code",
      "execution_count": 45,
      "metadata": {
        "id": "tFxKmV6mNO3V"
      },
      "outputs": [],
      "source": [
        "# df = df_main.sample(n=500000)\n",
        "df = df_main.copy()"
      ]
    },
    {
      "cell_type": "code",
      "execution_count": 48,
      "metadata": {},
      "outputs": [],
      "source": [
        "from random import randint\n",
        "\n",
        "def encrypt_edge_id(x):\n",
        "    if x != x:\n",
        "        return np.nan\n",
        "    foo = tuple(x[1:-1].split(', ')[0:2])\n",
        "    foo1 = randint(10**(len(foo[0])-1), 10**len(foo[0])-1) \n",
        "    foo2 = randint(10**(len(foo[1])-1), 10**len(foo[1])-1) \n",
        "    return f\"({foo1}, {foo2}, 0)\"\n",
        "\n",
        "df[\"edge.id\"] = df[\"edge.id\"].apply(encrypt_edge_id)"
      ]
    },
    {
      "cell_type": "markdown",
      "metadata": {
        "id": "tn0RFpWeNO3Y"
      },
      "source": [
        "## Data Cleaning"
      ]
    },
    {
      "cell_type": "markdown",
      "metadata": {
        "id": "-JTAOho-NO3h"
      },
      "source": [
        "### Basic data cleaning"
      ]
    },
    {
      "cell_type": "code",
      "execution_count": 49,
      "metadata": {
        "id": "7csv9GKsNO3k"
      },
      "outputs": [],
      "source": [
        "# List of the litter categories columns\n",
        "categorical_columns = []\n",
        "for item in df.columns.to_list():\n",
        "    if item.isdigit(): categorical_columns.append(item) \n",
        "\n",
        "# Rename columns\n",
        "df.rename(columns = {'suitcase.id':'suitcase_id', 'date.utc':'date_utc', \n",
        "                     'edge.id':'edge_id', 'edge.osmid':'edge_osmid', \n",
        "                     'place.id':'place_id', 'osm.highway':'osm_highway'}, inplace=True)\n",
        "\n",
        "# Drop empty rows\n",
        "df = df.dropna(subset=['edge_id']).copy()\n",
        "\n",
        "# Drop place_id for now\n",
        "df.drop('place_id', axis=1, inplace=True)\n",
        "\n",
        "# Convert to datetime and remove the time\n",
        "df['date_utc'] = pd.to_datetime(df['date_utc']).dt.date\n",
        "\n",
        "# Drop not needed columns\n",
        "not_needed_columns = ['value.Vehicle_Mode', 'speed', '_id',]\n",
        "df.drop(not_needed_columns, axis=1, inplace=True, errors='ignore')\n",
        "\n",
        "# Fill NaNs with 0 and convert categorical columns to integer\n",
        "df[categorical_columns] = df[categorical_columns].fillna(0)\n",
        "df[categorical_columns] = df[categorical_columns].astype(np.int64) \n",
        "\n",
        "# Clean and sort edge_id\n",
        "df['edge_id'] = df['edge_id'].apply(lambda x: tuple(x[1:-1].split(', ')[0:2]))\n",
        "df['edge_id'] = df['edge_id'].apply(lambda x: sorted(x))  # --> sort it so order doesn't matter\n",
        "df['edge_id'] = df['edge_id'].apply(lambda x: (', ').join(x))  # --> make it a string\n",
        "\n",
        "# Add a sum of all the litter\n",
        "df['total_litter'] = df[categorical_columns].sum(axis=1)"
      ]
    },
    {
      "cell_type": "markdown",
      "metadata": {
        "id": "1nn-UAUZpaNJ"
      },
      "source": [
        "## This next function proves that the original dataframe is not aggregated by edge and date, so we need to do this"
      ]
    },
    {
      "cell_type": "code",
      "execution_count": 6,
      "metadata": {
        "id": "r6yn-H6vNO3v"
      },
      "outputs": [],
      "source": [
        "this_date = ''\n",
        "day_edges = []\n",
        "log = []\n",
        "\n",
        "for index, row in df.iterrows():\n",
        "    if row['date_utc'] != this_date:\n",
        "        this_date = row['date_utc']  # Set the day we will look into for the next iterations\n",
        "        day_edges = []  # Reset day_edges since it's a new day\n",
        "    \n",
        "    if row['edge_id'] not in day_edges:\n",
        "        day_edges.append(row['edge_id'])\n",
        "    else:  # This means this edge is repeating in a single day, we want to log this\n",
        "        log.append([index, this_date, row['edge_id']])"
      ]
    },
    {
      "cell_type": "code",
      "execution_count": 7,
      "metadata": {
        "colab": {
          "base_uri": "https://localhost:8080/"
        },
        "id": "eHsIRc3PNO30",
        "outputId": "a7d1e81c-1dc0-4389-9d18-da1f5ead403f"
      },
      "outputs": [
        {
          "name": "stdout",
          "output_type": "stream",
          "text": [
            "There are 298946 rows that need to be aggregated\n"
          ]
        }
      ],
      "source": [
        "print(f\"There are {len(log)} rows that need to be aggregated\")"
      ]
    },
    {
      "cell_type": "markdown",
      "metadata": {
        "id": "WetmyPbNpaNM"
      },
      "source": [
        "### Aggregation based on Edge and Date"
      ]
    },
    {
      "cell_type": "code",
      "execution_count": 50,
      "metadata": {
        "id": "D6qt8xLspaNM"
      },
      "outputs": [],
      "source": [
        "# Aggregate based on unique edge_id, date_utc and suitcase_id\n",
        "\n",
        "to_agg = {'edge_osmid' : 'first',\n",
        "          #'place_id' : 'first',\n",
        "          'osm_highway' : 'first',\n",
        "          'total_litter' : 'sum',\n",
        "          '1':'sum', '2':'sum', '3':'sum', '4':'sum', '5':'sum', '7':'sum', '8':'sum',\n",
        "          '10':'sum', '13':'sum', '14':'sum', '16':'sum', '19':'sum', '21':'sum',\n",
        "          '25':'sum', '26':'sum', '27':'sum', '28':'sum', '29':'sum', '30':'sum', \n",
        "          '31':'sum', '32':'sum', '33':'sum', '35':'sum', '36':'sum', '37':'sum',\n",
        "          '39':'sum', '49':'sum', '61':'sum', '63':'sum',}\n",
        "\n",
        "\n",
        "df = df.groupby(['date_utc', 'edge_id'], as_index=False).agg(to_agg)"
      ]
    },
    {
      "cell_type": "markdown",
      "metadata": {
        "id": "bpSLqSNyNO31"
      },
      "source": [
        "### Correct the naming of the columns\n",
        "The groupby aggregation causes the names of the colums to have a sub-column, which makes it harder to extract data from them\n",
        "\n",
        "So the next function merges the resulting 2 columns (if there was aggregation on them) Example, '39''sum' becomes '39_sum'"
      ]
    },
    {
      "cell_type": "code",
      "execution_count": 9,
      "metadata": {
        "id": "r5HSlidcNO32"
      },
      "outputs": [],
      "source": [
        "# # Merge the column names since they have sub-columns because of the groupby aggregation\n",
        "# column_ravel = df.columns.ravel()\n",
        "# column_ravel_list = []\n",
        "\n",
        "# for i, column in enumerate(column_ravel):\n",
        "#     if column[1] != '': column_ravel_list.append(\"_\".join(column))  # <-- For the ones where there was agg\n",
        "#     else: column_ravel_list.append(column[0])  # <-- For the ones without agg, just keep the previous name\n",
        "# df.columns = column_ravel_list  # Rename the DF columns"
      ]
    },
    {
      "cell_type": "markdown",
      "metadata": {
        "id": "yYJSzjkyNO34"
      },
      "source": [
        "## Feauture Creation"
      ]
    },
    {
      "cell_type": "markdown",
      "metadata": {
        "id": "LE3Q8fPvNO34"
      },
      "source": [
        "### Splitting the date"
      ]
    },
    {
      "cell_type": "code",
      "execution_count": 51,
      "metadata": {
        "id": "X1t0rYaoNO35"
      },
      "outputs": [],
      "source": [
        "# Splitting date to year, month and day to make it a feauture for modeling\n",
        "df['Year'] = pd.DatetimeIndex(df['date_utc']).year\n",
        "df['month'] = pd.DatetimeIndex(df['date_utc']).month\n",
        "df['day'] = pd.DatetimeIndex(df['date_utc']).day\n",
        "\n",
        "# Converting it to object so it's treated as a categorical data when I make the pipelines\n",
        "df['Year'] = df['Year'].astype(object)\n",
        "df['month'] = df['month'].astype(object)\n",
        "df['day'] = df['day'].astype(object)"
      ]
    },
    {
      "cell_type": "markdown",
      "metadata": {
        "id": "kC9GuHhuNO36"
      },
      "source": [
        "### Adding weekday"
      ]
    },
    {
      "cell_type": "code",
      "execution_count": 52,
      "metadata": {
        "id": "K7rOvGqONO37"
      },
      "outputs": [],
      "source": [
        "weekdays = ('Monday', 'Tuesday', 'Wednesday', 'Thursday', 'Friday', 'Saturday', 'Sunday')\n",
        "df['weekday'] = df['date_utc'].apply(lambda x: x.weekday())\n",
        "df['weekday'] = df['weekday'].apply(lambda x: weekdays[x])"
      ]
    },
    {
      "cell_type": "markdown",
      "metadata": {
        "id": "AY1_4NvAQ8DK"
      },
      "source": [
        "### Converting total litter to boolean"
      ]
    },
    {
      "cell_type": "markdown",
      "metadata": {
        "id": "JU9JjnhqR2wL"
      },
      "source": [
        "We want half to be clean half dirty for the moment"
      ]
    },
    {
      "cell_type": "code",
      "execution_count": 53,
      "metadata": {
        "colab": {
          "base_uri": "https://localhost:8080/"
        },
        "id": "SNN077LspaNR",
        "outputId": "b78ba3e9-d07f-4be4-e2f2-69bb48bda70a"
      },
      "outputs": [
        {
          "data": {
            "text/plain": [
              "0    941966\n",
              "1    375221\n",
              "Name: total_litter_ratio, dtype: int64"
            ]
          },
          "execution_count": 53,
          "metadata": {},
          "output_type": "execute_result"
        }
      ],
      "source": [
        "df['total_litter_ratio'] = [1 if x>10 else 0 for x in df['total_litter']]\n",
        "df['total_litter_ratio'].value_counts()"
      ]
    },
    {
      "cell_type": "markdown",
      "metadata": {
        "id": "__WkbkGTU5FE"
      },
      "source": [
        "## Train / Test"
      ]
    },
    {
      "cell_type": "code",
      "execution_count": 54,
      "metadata": {
        "colab": {
          "base_uri": "https://localhost:8080/",
          "height": 162
        },
        "id": "khnh7D4SMI6R",
        "outputId": "0a867203-27bf-4b8c-822e-050abc2594a3"
      },
      "outputs": [
        {
          "data": {
            "text/html": [
              "<div>\n",
              "<style scoped>\n",
              "    .dataframe tbody tr th:only-of-type {\n",
              "        vertical-align: middle;\n",
              "    }\n",
              "\n",
              "    .dataframe tbody tr th {\n",
              "        vertical-align: top;\n",
              "    }\n",
              "\n",
              "    .dataframe thead th {\n",
              "        text-align: right;\n",
              "    }\n",
              "</style>\n",
              "<table border=\"1\" class=\"dataframe\">\n",
              "  <thead>\n",
              "    <tr style=\"text-align: right;\">\n",
              "      <th></th>\n",
              "      <th>date_utc</th>\n",
              "      <th>edge_id</th>\n",
              "      <th>edge_osmid</th>\n",
              "      <th>osm_highway</th>\n",
              "      <th>total_litter</th>\n",
              "      <th>1</th>\n",
              "      <th>2</th>\n",
              "      <th>3</th>\n",
              "      <th>4</th>\n",
              "      <th>5</th>\n",
              "      <th>7</th>\n",
              "      <th>8</th>\n",
              "      <th>10</th>\n",
              "      <th>13</th>\n",
              "      <th>14</th>\n",
              "      <th>16</th>\n",
              "      <th>19</th>\n",
              "      <th>21</th>\n",
              "      <th>25</th>\n",
              "      <th>26</th>\n",
              "      <th>27</th>\n",
              "      <th>28</th>\n",
              "      <th>29</th>\n",
              "      <th>30</th>\n",
              "      <th>31</th>\n",
              "      <th>32</th>\n",
              "      <th>33</th>\n",
              "      <th>35</th>\n",
              "      <th>36</th>\n",
              "      <th>37</th>\n",
              "      <th>39</th>\n",
              "      <th>49</th>\n",
              "      <th>61</th>\n",
              "      <th>63</th>\n",
              "      <th>Year</th>\n",
              "      <th>month</th>\n",
              "      <th>day</th>\n",
              "      <th>weekday</th>\n",
              "      <th>total_litter_ratio</th>\n",
              "    </tr>\n",
              "  </thead>\n",
              "  <tbody>\n",
              "    <tr>\n",
              "      <th>0</th>\n",
              "      <td>2022-01-02</td>\n",
              "      <td>1026448970, 495182453</td>\n",
              "      <td>766709950.0</td>\n",
              "      <td>secondary</td>\n",
              "      <td>0</td>\n",
              "      <td>0</td>\n",
              "      <td>0</td>\n",
              "      <td>0</td>\n",
              "      <td>0</td>\n",
              "      <td>0</td>\n",
              "      <td>0</td>\n",
              "      <td>0</td>\n",
              "      <td>0</td>\n",
              "      <td>0</td>\n",
              "      <td>0</td>\n",
              "      <td>0</td>\n",
              "      <td>0</td>\n",
              "      <td>0</td>\n",
              "      <td>0</td>\n",
              "      <td>0</td>\n",
              "      <td>0</td>\n",
              "      <td>0</td>\n",
              "      <td>0</td>\n",
              "      <td>0</td>\n",
              "      <td>0</td>\n",
              "      <td>0</td>\n",
              "      <td>0</td>\n",
              "      <td>0</td>\n",
              "      <td>0</td>\n",
              "      <td>0</td>\n",
              "      <td>0</td>\n",
              "      <td>0</td>\n",
              "      <td>0</td>\n",
              "      <td>0</td>\n",
              "      <td>2022</td>\n",
              "      <td>1</td>\n",
              "      <td>2</td>\n",
              "      <td>Sunday</td>\n",
              "      <td>0</td>\n",
              "    </tr>\n",
              "  </tbody>\n",
              "</table>\n",
              "</div>"
            ],
            "text/plain": [
              "     date_utc                edge_id   edge_osmid osm_highway  total_litter  \\\n",
              "0  2022-01-02  1026448970, 495182453  766709950.0   secondary             0   \n",
              "\n",
              "   1  2  3  4  5  7  8  10  13  14  16  19  21  25  26  27  28  29  30  31  \\\n",
              "0  0  0  0  0  0  0  0   0   0   0   0   0   0   0   0   0   0   0   0   0   \n",
              "\n",
              "   32  33  35  36  37  39  49  61  63  Year month day weekday  \\\n",
              "0   0   0   0   0   0   0   0   0   0  2022     1   2  Sunday   \n",
              "\n",
              "   total_litter_ratio  \n",
              "0                   0  "
            ]
          },
          "execution_count": 54,
          "metadata": {},
          "output_type": "execute_result"
        }
      ],
      "source": [
        "df.head(1)"
      ]
    },
    {
      "cell_type": "code",
      "execution_count": 55,
      "metadata": {
        "id": "fE65GRQ3VBp4"
      },
      "outputs": [],
      "source": [
        "from sklearn.model_selection import train_test_split\n",
        "from sklearn.compose import ColumnTransformer\n",
        "from sklearn.pipeline import Pipeline\n",
        "from sklearn.impute import SimpleImputer, KNNImputer"
      ]
    },
    {
      "cell_type": "code",
      "execution_count": 56,
      "metadata": {
        "colab": {
          "base_uri": "https://localhost:8080/"
        },
        "id": "n1UUqdvoVG8V",
        "outputId": "a83517a3-cca4-4b19-9438-f6c804d23e8d"
      },
      "outputs": [
        {
          "data": {
            "text/plain": [
              "((1185468, 6), (131719, 6))"
            ]
          },
          "execution_count": 56,
          "metadata": {},
          "output_type": "execute_result"
        }
      ],
      "source": [
        "columns_to_drop = ['total_litter_ratio', 'date_utc', 'edge_osmid', 'total_litter']\n",
        "columns_to_drop.extend(categorical_columns)\n",
        "\n",
        "X = df.drop(columns=columns_to_drop)\n",
        "y = df['total_litter_ratio']\n",
        "\n",
        "X_train, X_test, y_train, y_test = train_test_split(X, y, test_size=0.1, random_state=42)\n",
        "X_train.shape, X_test.shape"
      ]
    },
    {
      "cell_type": "code",
      "execution_count": 57,
      "metadata": {
        "colab": {
          "base_uri": "https://localhost:8080/",
          "height": 112
        },
        "id": "6CCrkzbCNMWo",
        "outputId": "95addf0a-5086-471d-8f5a-4ace73c13bd8"
      },
      "outputs": [
        {
          "data": {
            "text/html": [
              "<div>\n",
              "<style scoped>\n",
              "    .dataframe tbody tr th:only-of-type {\n",
              "        vertical-align: middle;\n",
              "    }\n",
              "\n",
              "    .dataframe tbody tr th {\n",
              "        vertical-align: top;\n",
              "    }\n",
              "\n",
              "    .dataframe thead th {\n",
              "        text-align: right;\n",
              "    }\n",
              "</style>\n",
              "<table border=\"1\" class=\"dataframe\">\n",
              "  <thead>\n",
              "    <tr style=\"text-align: right;\">\n",
              "      <th></th>\n",
              "      <th>edge_id</th>\n",
              "      <th>osm_highway</th>\n",
              "      <th>Year</th>\n",
              "      <th>month</th>\n",
              "      <th>day</th>\n",
              "      <th>weekday</th>\n",
              "    </tr>\n",
              "  </thead>\n",
              "  <tbody>\n",
              "    <tr>\n",
              "      <th>117494</th>\n",
              "      <td>127060096, 547169690</td>\n",
              "      <td>residential</td>\n",
              "      <td>2022</td>\n",
              "      <td>1</td>\n",
              "      <td>20</td>\n",
              "      <td>Thursday</td>\n",
              "    </tr>\n",
              "    <tr>\n",
              "      <th>166764</th>\n",
              "      <td>2452444575, 6310154543</td>\n",
              "      <td>footway</td>\n",
              "      <td>2022</td>\n",
              "      <td>1</td>\n",
              "      <td>27</td>\n",
              "      <td>Thursday</td>\n",
              "    </tr>\n",
              "  </tbody>\n",
              "</table>\n",
              "</div>"
            ],
            "text/plain": [
              "                       edge_id  osm_highway  Year month day   weekday\n",
              "117494    127060096, 547169690  residential  2022     1  20  Thursday\n",
              "166764  2452444575, 6310154543      footway  2022     1  27  Thursday"
            ]
          },
          "execution_count": 57,
          "metadata": {},
          "output_type": "execute_result"
        }
      ],
      "source": [
        "X_train.head(2)"
      ]
    },
    {
      "cell_type": "markdown",
      "metadata": {
        "id": "M6KxgB_OpaNS"
      },
      "source": [
        "## Pipelines"
      ]
    },
    {
      "cell_type": "code",
      "execution_count": 29,
      "metadata": {
        "id": "OaUMlr4ppaNT"
      },
      "outputs": [],
      "source": [
        "from sklearn.preprocessing import StandardScaler, OneHotEncoder, MinMaxScaler\n",
        "from sklearn.metrics import confusion_matrix, classification_report, f1_score\n",
        "from sklearn.neighbors import KNeighborsClassifier"
      ]
    },
    {
      "cell_type": "code",
      "execution_count": 30,
      "metadata": {
        "id": "xL-qcNoQpaNT"
      },
      "outputs": [],
      "source": [
        "categorical_features = X_train.select_dtypes(include=['object', 'category']).columns.tolist()\n",
        "numeric_features = X_train.select_dtypes(include=['int', 'float']).columns.tolist()\n",
        "# categorical_features, numeric_features"
      ]
    },
    {
      "cell_type": "code",
      "execution_count": 31,
      "metadata": {
        "id": "7xsqW9BVpaNT"
      },
      "outputs": [],
      "source": [
        "categorical_transformer = Pipeline(steps=[(\"onehot\", OneHotEncoder(handle_unknown=\"ignore\"))\n",
        "                                          ])\n",
        "numeric_transformer = Pipeline(steps=[(\"scaler\", MinMaxScaler())\n",
        "                                      ])\n",
        "preprocessor = ColumnTransformer(transformers=[(\"num\", numeric_transformer, numeric_features),\n",
        "                                               (\"cat\", categorical_transformer, categorical_features)\n",
        "                                               ])"
      ]
    },
    {
      "cell_type": "markdown",
      "metadata": {
        "id": "LeBKBbhaUygg"
      },
      "source": [
        "## PyCaret"
      ]
    },
    {
      "cell_type": "code",
      "execution_count": 18,
      "metadata": {
        "id": "305qahz9U2xO"
      },
      "outputs": [],
      "source": [
        "# from pycaret.classification import *\n",
        "\n",
        "# reg = setup(data=pd.concat([X_train, y_train], axis=1),\n",
        "#             target = 'total_litter',\n",
        "#             session_id=None, \n",
        "#             log_experiment=True,\n",
        "#             custom_pipeline=preprocessor,\n",
        "#             fold_shuffle=True\n",
        "#             # experiment_name='boston1'\n",
        "# )"
      ]
    },
    {
      "cell_type": "markdown",
      "metadata": {
        "id": "kbFAcC9apaNU"
      },
      "source": [
        "## Logistic Regression"
      ]
    },
    {
      "cell_type": "code",
      "execution_count": 32,
      "metadata": {
        "id": "d4kqz657paNU"
      },
      "outputs": [],
      "source": [
        "from sklearn.linear_model import LogisticRegression\n",
        "\n",
        "lr_model = LogisticRegression(random_state=7, solver='liblinear')\n",
        "\n",
        "pipeline_lr = Pipeline(steps=[(\"pre_process\", preprocessor), \n",
        "                              (\"model\", lr_model)\n",
        "                              ])"
      ]
    },
    {
      "cell_type": "code",
      "execution_count": 33,
      "metadata": {
        "id": "43Oq-nj8paNU"
      },
      "outputs": [],
      "source": [
        "pipeline_lr.fit(X_train, y_train)\n",
        "y_pred = pipeline_lr.predict(X_test)"
      ]
    },
    {
      "cell_type": "code",
      "execution_count": 34,
      "metadata": {
        "colab": {
          "base_uri": "https://localhost:8080/",
          "height": 272
        },
        "id": "7KA6qQVFpaNV",
        "outputId": "26d473fc-cdae-4146-db0a-9ae62c495392"
      },
      "outputs": [
        {
          "name": "stdout",
          "output_type": "stream",
          "text": [
            "              precision    recall  f1-score   support\n",
            "\n",
            "           0       0.80      0.85      0.82     35700\n",
            "           1       0.75      0.68      0.71     24019\n",
            "\n",
            "    accuracy                           0.78     59719\n",
            "   macro avg       0.77      0.76      0.77     59719\n",
            "weighted avg       0.78      0.78      0.78     59719\n",
            "\n"
          ]
        },
        {
          "data": {
            "text/html": [
              "\n",
              "  <div id=\"df-887ab266-b9cf-4c44-b2eb-6781965f6988\">\n",
              "    <div class=\"colab-df-container\">\n",
              "      <div>\n",
              "<style scoped>\n",
              "    .dataframe tbody tr th:only-of-type {\n",
              "        vertical-align: middle;\n",
              "    }\n",
              "\n",
              "    .dataframe tbody tr th {\n",
              "        vertical-align: top;\n",
              "    }\n",
              "\n",
              "    .dataframe thead th {\n",
              "        text-align: right;\n",
              "    }\n",
              "</style>\n",
              "<table border=\"1\" class=\"dataframe\">\n",
              "  <thead>\n",
              "    <tr style=\"text-align: right;\">\n",
              "      <th></th>\n",
              "      <th>0</th>\n",
              "      <th>1</th>\n",
              "    </tr>\n",
              "  </thead>\n",
              "  <tbody>\n",
              "    <tr>\n",
              "      <th>0</th>\n",
              "      <td>30313</td>\n",
              "      <td>5387</td>\n",
              "    </tr>\n",
              "    <tr>\n",
              "      <th>1</th>\n",
              "      <td>7725</td>\n",
              "      <td>16294</td>\n",
              "    </tr>\n",
              "  </tbody>\n",
              "</table>\n",
              "</div>\n",
              "      <button class=\"colab-df-convert\" onclick=\"convertToInteractive('df-887ab266-b9cf-4c44-b2eb-6781965f6988')\"\n",
              "              title=\"Convert this dataframe to an interactive table.\"\n",
              "              style=\"display:none;\">\n",
              "        \n",
              "  <svg xmlns=\"http://www.w3.org/2000/svg\" height=\"24px\"viewBox=\"0 0 24 24\"\n",
              "       width=\"24px\">\n",
              "    <path d=\"M0 0h24v24H0V0z\" fill=\"none\"/>\n",
              "    <path d=\"M18.56 5.44l.94 2.06.94-2.06 2.06-.94-2.06-.94-.94-2.06-.94 2.06-2.06.94zm-11 1L8.5 8.5l.94-2.06 2.06-.94-2.06-.94L8.5 2.5l-.94 2.06-2.06.94zm10 10l.94 2.06.94-2.06 2.06-.94-2.06-.94-.94-2.06-.94 2.06-2.06.94z\"/><path d=\"M17.41 7.96l-1.37-1.37c-.4-.4-.92-.59-1.43-.59-.52 0-1.04.2-1.43.59L10.3 9.45l-7.72 7.72c-.78.78-.78 2.05 0 2.83L4 21.41c.39.39.9.59 1.41.59.51 0 1.02-.2 1.41-.59l7.78-7.78 2.81-2.81c.8-.78.8-2.07 0-2.86zM5.41 20L4 18.59l7.72-7.72 1.47 1.35L5.41 20z\"/>\n",
              "  </svg>\n",
              "      </button>\n",
              "      \n",
              "  <style>\n",
              "    .colab-df-container {\n",
              "      display:flex;\n",
              "      flex-wrap:wrap;\n",
              "      gap: 12px;\n",
              "    }\n",
              "\n",
              "    .colab-df-convert {\n",
              "      background-color: #E8F0FE;\n",
              "      border: none;\n",
              "      border-radius: 50%;\n",
              "      cursor: pointer;\n",
              "      display: none;\n",
              "      fill: #1967D2;\n",
              "      height: 32px;\n",
              "      padding: 0 0 0 0;\n",
              "      width: 32px;\n",
              "    }\n",
              "\n",
              "    .colab-df-convert:hover {\n",
              "      background-color: #E2EBFA;\n",
              "      box-shadow: 0px 1px 2px rgba(60, 64, 67, 0.3), 0px 1px 3px 1px rgba(60, 64, 67, 0.15);\n",
              "      fill: #174EA6;\n",
              "    }\n",
              "\n",
              "    [theme=dark] .colab-df-convert {\n",
              "      background-color: #3B4455;\n",
              "      fill: #D2E3FC;\n",
              "    }\n",
              "\n",
              "    [theme=dark] .colab-df-convert:hover {\n",
              "      background-color: #434B5C;\n",
              "      box-shadow: 0px 1px 3px 1px rgba(0, 0, 0, 0.15);\n",
              "      filter: drop-shadow(0px 1px 2px rgba(0, 0, 0, 0.3));\n",
              "      fill: #FFFFFF;\n",
              "    }\n",
              "  </style>\n",
              "\n",
              "      <script>\n",
              "        const buttonEl =\n",
              "          document.querySelector('#df-887ab266-b9cf-4c44-b2eb-6781965f6988 button.colab-df-convert');\n",
              "        buttonEl.style.display =\n",
              "          google.colab.kernel.accessAllowed ? 'block' : 'none';\n",
              "\n",
              "        async function convertToInteractive(key) {\n",
              "          const element = document.querySelector('#df-887ab266-b9cf-4c44-b2eb-6781965f6988');\n",
              "          const dataTable =\n",
              "            await google.colab.kernel.invokeFunction('convertToInteractive',\n",
              "                                                     [key], {});\n",
              "          if (!dataTable) return;\n",
              "\n",
              "          const docLinkHtml = 'Like what you see? Visit the ' +\n",
              "            '<a target=\"_blank\" href=https://colab.research.google.com/notebooks/data_table.ipynb>data table notebook</a>'\n",
              "            + ' to learn more about interactive tables.';\n",
              "          element.innerHTML = '';\n",
              "          dataTable['output_type'] = 'display_data';\n",
              "          await google.colab.output.renderOutput(dataTable, element);\n",
              "          const docLink = document.createElement('div');\n",
              "          docLink.innerHTML = docLinkHtml;\n",
              "          element.appendChild(docLink);\n",
              "        }\n",
              "      </script>\n",
              "    </div>\n",
              "  </div>\n",
              "  "
            ],
            "text/plain": [
              "       0      1\n",
              "0  30313   5387\n",
              "1   7725  16294"
            ]
          },
          "execution_count": 34,
          "metadata": {},
          "output_type": "execute_result"
        }
      ],
      "source": [
        "class_labels = pipeline_lr.named_steps['model'].classes_\n",
        "\n",
        "print(classification_report(y_test, y_pred))\n",
        "\n",
        "pd.DataFrame(confusion_matrix(y_test, y_pred), \n",
        "             columns=class_labels, index=class_labels)"
      ]
    },
    {
      "cell_type": "markdown",
      "metadata": {
        "id": "1Hg0z7hjNO38"
      },
      "source": [
        "## KNN Model"
      ]
    },
    {
      "cell_type": "code",
      "execution_count": 36,
      "metadata": {
        "id": "awrRV4msNO4F"
      },
      "outputs": [],
      "source": [
        "knn = KNeighborsClassifier()\n",
        "\n",
        "pipeline_knn = Pipeline([(\"pre_process\", preprocessor), \n",
        "                         (\"model\", knn)])"
      ]
    },
    {
      "cell_type": "code",
      "execution_count": 37,
      "metadata": {
        "id": "LLOZFGj5NO4G"
      },
      "outputs": [],
      "source": [
        "pipeline_knn.fit(X_train, y_train)\n",
        "y_pred = pipeline_knn.predict(X_test)"
      ]
    },
    {
      "cell_type": "code",
      "execution_count": 39,
      "metadata": {
        "colab": {
          "base_uri": "https://localhost:8080/",
          "height": 272
        },
        "id": "fjqT8m5HpaNW",
        "outputId": "6f9f842b-751c-4141-cb12-7091409d0200"
      },
      "outputs": [
        {
          "name": "stdout",
          "output_type": "stream",
          "text": [
            "              precision    recall  f1-score   support\n",
            "\n",
            "           0       0.68      0.73      0.71     35700\n",
            "           1       0.55      0.49      0.52     24019\n",
            "\n",
            "    accuracy                           0.63     59719\n",
            "   macro avg       0.62      0.61      0.61     59719\n",
            "weighted avg       0.63      0.63      0.63     59719\n",
            "\n"
          ]
        },
        {
          "data": {
            "text/html": [
              "\n",
              "  <div id=\"df-93695d93-2e44-4f80-ad46-828de5a88797\">\n",
              "    <div class=\"colab-df-container\">\n",
              "      <div>\n",
              "<style scoped>\n",
              "    .dataframe tbody tr th:only-of-type {\n",
              "        vertical-align: middle;\n",
              "    }\n",
              "\n",
              "    .dataframe tbody tr th {\n",
              "        vertical-align: top;\n",
              "    }\n",
              "\n",
              "    .dataframe thead th {\n",
              "        text-align: right;\n",
              "    }\n",
              "</style>\n",
              "<table border=\"1\" class=\"dataframe\">\n",
              "  <thead>\n",
              "    <tr style=\"text-align: right;\">\n",
              "      <th></th>\n",
              "      <th>0</th>\n",
              "      <th>1</th>\n",
              "    </tr>\n",
              "  </thead>\n",
              "  <tbody>\n",
              "    <tr>\n",
              "      <th>0</th>\n",
              "      <td>26069</td>\n",
              "      <td>9631</td>\n",
              "    </tr>\n",
              "    <tr>\n",
              "      <th>1</th>\n",
              "      <td>12175</td>\n",
              "      <td>11844</td>\n",
              "    </tr>\n",
              "  </tbody>\n",
              "</table>\n",
              "</div>\n",
              "      <button class=\"colab-df-convert\" onclick=\"convertToInteractive('df-93695d93-2e44-4f80-ad46-828de5a88797')\"\n",
              "              title=\"Convert this dataframe to an interactive table.\"\n",
              "              style=\"display:none;\">\n",
              "        \n",
              "  <svg xmlns=\"http://www.w3.org/2000/svg\" height=\"24px\"viewBox=\"0 0 24 24\"\n",
              "       width=\"24px\">\n",
              "    <path d=\"M0 0h24v24H0V0z\" fill=\"none\"/>\n",
              "    <path d=\"M18.56 5.44l.94 2.06.94-2.06 2.06-.94-2.06-.94-.94-2.06-.94 2.06-2.06.94zm-11 1L8.5 8.5l.94-2.06 2.06-.94-2.06-.94L8.5 2.5l-.94 2.06-2.06.94zm10 10l.94 2.06.94-2.06 2.06-.94-2.06-.94-.94-2.06-.94 2.06-2.06.94z\"/><path d=\"M17.41 7.96l-1.37-1.37c-.4-.4-.92-.59-1.43-.59-.52 0-1.04.2-1.43.59L10.3 9.45l-7.72 7.72c-.78.78-.78 2.05 0 2.83L4 21.41c.39.39.9.59 1.41.59.51 0 1.02-.2 1.41-.59l7.78-7.78 2.81-2.81c.8-.78.8-2.07 0-2.86zM5.41 20L4 18.59l7.72-7.72 1.47 1.35L5.41 20z\"/>\n",
              "  </svg>\n",
              "      </button>\n",
              "      \n",
              "  <style>\n",
              "    .colab-df-container {\n",
              "      display:flex;\n",
              "      flex-wrap:wrap;\n",
              "      gap: 12px;\n",
              "    }\n",
              "\n",
              "    .colab-df-convert {\n",
              "      background-color: #E8F0FE;\n",
              "      border: none;\n",
              "      border-radius: 50%;\n",
              "      cursor: pointer;\n",
              "      display: none;\n",
              "      fill: #1967D2;\n",
              "      height: 32px;\n",
              "      padding: 0 0 0 0;\n",
              "      width: 32px;\n",
              "    }\n",
              "\n",
              "    .colab-df-convert:hover {\n",
              "      background-color: #E2EBFA;\n",
              "      box-shadow: 0px 1px 2px rgba(60, 64, 67, 0.3), 0px 1px 3px 1px rgba(60, 64, 67, 0.15);\n",
              "      fill: #174EA6;\n",
              "    }\n",
              "\n",
              "    [theme=dark] .colab-df-convert {\n",
              "      background-color: #3B4455;\n",
              "      fill: #D2E3FC;\n",
              "    }\n",
              "\n",
              "    [theme=dark] .colab-df-convert:hover {\n",
              "      background-color: #434B5C;\n",
              "      box-shadow: 0px 1px 3px 1px rgba(0, 0, 0, 0.15);\n",
              "      filter: drop-shadow(0px 1px 2px rgba(0, 0, 0, 0.3));\n",
              "      fill: #FFFFFF;\n",
              "    }\n",
              "  </style>\n",
              "\n",
              "      <script>\n",
              "        const buttonEl =\n",
              "          document.querySelector('#df-93695d93-2e44-4f80-ad46-828de5a88797 button.colab-df-convert');\n",
              "        buttonEl.style.display =\n",
              "          google.colab.kernel.accessAllowed ? 'block' : 'none';\n",
              "\n",
              "        async function convertToInteractive(key) {\n",
              "          const element = document.querySelector('#df-93695d93-2e44-4f80-ad46-828de5a88797');\n",
              "          const dataTable =\n",
              "            await google.colab.kernel.invokeFunction('convertToInteractive',\n",
              "                                                     [key], {});\n",
              "          if (!dataTable) return;\n",
              "\n",
              "          const docLinkHtml = 'Like what you see? Visit the ' +\n",
              "            '<a target=\"_blank\" href=https://colab.research.google.com/notebooks/data_table.ipynb>data table notebook</a>'\n",
              "            + ' to learn more about interactive tables.';\n",
              "          element.innerHTML = '';\n",
              "          dataTable['output_type'] = 'display_data';\n",
              "          await google.colab.output.renderOutput(dataTable, element);\n",
              "          const docLink = document.createElement('div');\n",
              "          docLink.innerHTML = docLinkHtml;\n",
              "          element.appendChild(docLink);\n",
              "        }\n",
              "      </script>\n",
              "    </div>\n",
              "  </div>\n",
              "  "
            ],
            "text/plain": [
              "       0      1\n",
              "0  26069   9631\n",
              "1  12175  11844"
            ]
          },
          "execution_count": 39,
          "metadata": {},
          "output_type": "execute_result"
        }
      ],
      "source": [
        "class_labels = pipeline_knn.named_steps['model'].classes_\n",
        "\n",
        "print(classification_report(y_test, y_pred))\n",
        "\n",
        "pd.DataFrame(confusion_matrix(y_test, y_pred), \n",
        "             columns=class_labels, index=class_labels)"
      ]
    }
  ],
  "metadata": {
    "colab": {
      "machine_shape": "hm",
      "name": "dominik_day3-4_lr_knn.ipynb",
      "provenance": []
    },
    "gpuClass": "standard",
    "kernelspec": {
      "display_name": "Python 3.10.5 ('cortexia3')",
      "language": "python",
      "name": "python3"
    },
    "language_info": {
      "codemirror_mode": {
        "name": "ipython",
        "version": 3
      },
      "file_extension": ".py",
      "mimetype": "text/x-python",
      "name": "python",
      "nbconvert_exporter": "python",
      "pygments_lexer": "ipython3",
      "version": "3.10.5"
    },
    "vscode": {
      "interpreter": {
        "hash": "393eaa007fcd2c7a4c179b44934792a94932bcce71862c954e102a685fb04132"
      }
    }
  },
  "nbformat": 4,
  "nbformat_minor": 0
}
