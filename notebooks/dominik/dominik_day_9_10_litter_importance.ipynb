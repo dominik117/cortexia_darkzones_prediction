{
  "cells": [
    {
      "cell_type": "code",
      "execution_count": 1,
      "metadata": {
        "colab": {
          "base_uri": "https://localhost:8080/"
        },
        "id": "hl7w6-dQqDug",
        "outputId": "d122d2ae-897a-430a-9041-107708e463f9"
      },
      "outputs": [],
      "source": [
        "# Load datasets if working on Google Colab\n",
        "import sys\n",
        "IN_COLAB = 'google.colab' in sys.modules\n",
        "\n",
        "if IN_COLAB:\n",
        "    from pydrive.auth import GoogleAuth\n",
        "    from pydrive.drive import GoogleDrive\n",
        "    from google.colab import auth\n",
        "    from oauth2client.client import GoogleCredentials\n",
        "\n",
        "    auth.authenticate_user()\n",
        "    gauth = GoogleAuth()\n",
        "    gauth.credentials = GoogleCredentials.get_application_default()\n",
        "    drive = GoogleDrive(gauth)\n",
        "\n",
        "    file_id = '...'\n",
        "    downloaded = drive.CreateFile({'id':file_id})\n",
        "    downloaded.FetchMetadata(fetch_all=True)\n",
        "    downloaded.GetContentFile(downloaded.metadata['title'])\n",
        "\n",
        "    f = open(\"V2data_6mounts2022.csv.zip\", \"wb\")\n",
        "    f.write(downloaded.content.getbuffer())\n",
        "    f.close()\n",
        "\n",
        "    !unzip V2data_6mounts2022.csv.zip"
      ]
    },
    {
      "cell_type": "code",
      "execution_count": 2,
      "metadata": {
        "id": "g-fT2Ow_RM4b"
      },
      "outputs": [],
      "source": [
        "import pandas as pd\n",
        "import numpy as np\n",
        "import sklearn\n",
        "import matplotlib.pyplot as plt\n",
        "import seaborn as sns\n",
        "import urllib.request\n",
        "import json \n",
        "import time\n",
        "\n",
        "from sklearn.model_selection import train_test_split\n",
        "from sklearn.metrics import confusion_matrix, classification_report, f1_score\n",
        "from sklearn.preprocessing import StandardScaler, OneHotEncoder\n",
        "from sklearn.compose import ColumnTransformer\n",
        "from sklearn.pipeline import Pipeline\n",
        "from sklearn.linear_model import LinearRegression, PoissonRegressor\n",
        "from sklearn.model_selection import GridSearchCV\n",
        "from sklearn.metrics import confusion_matrix, classification_report\n",
        "from sklearn import metrics\n",
        "\n",
        "import osmnx as ox\n",
        "\n",
        "sns.set_style('whitegrid')\n",
        "pd.set_option('display.max_columns', None)\n",
        "pd.set_option('display.max_rows', 300)"
      ]
    },
    {
      "cell_type": "markdown",
      "metadata": {
        "id": "hQaIlaszqDuo"
      },
      "source": [
        "## Dataset Import"
      ]
    },
    {
      "cell_type": "code",
      "execution_count": 3,
      "metadata": {
        "id": "6pHwDoOZqDur"
      },
      "outputs": [],
      "source": [
        "if IN_COLAB: df_main_url = '/content/data.csv'\n",
        "else: df_main_url = '../../data/datav2.csv'\n",
        "df_main = pd.read_csv(df_main_url, dtype = {'place.id': object})"
      ]
    },
    {
      "cell_type": "markdown",
      "metadata": {
        "id": "kPVCXegnqDuu"
      },
      "source": [
        "### Drop unneeded columns and rename columns to naming convention used"
      ]
    },
    {
      "cell_type": "code",
      "execution_count": 6,
      "metadata": {
        "id": "3-MqOqkcqDuv"
      },
      "outputs": [],
      "source": [
        "not_needed_columns = ['value.Vehicle_Mode', 'speed', '_id',]\n",
        "df_main.drop(not_needed_columns, axis=1, inplace=True, errors='ignore')\n",
        "df_main.rename(columns = {'suitcase.id':'suitcase_id', 'date.utc':'date_utc', \n",
        "                    'edge.id':'edge_id', 'edge.osmid':'edge_osmid', \n",
        "                    'place.id':'place_id', 'osm.highway':'osm_highway'}, inplace=True, errors='ignore')"
      ]
    },
    {
      "cell_type": "markdown",
      "metadata": {
        "id": "PpKEo5DQqDuz"
      },
      "source": [
        "### Make a copy of the dataframe to work with"
      ]
    },
    {
      "cell_type": "code",
      "execution_count": 7,
      "metadata": {
        "id": "v4vg37B3qDu0"
      },
      "outputs": [],
      "source": [
        "df = df_main.copy()\n",
        "# df_test = df[~df['place.id'].isna()]"
      ]
    },
    {
      "cell_type": "markdown",
      "metadata": {
        "id": "qT30PkZQqDu0"
      },
      "source": [
        "## Data Cleaning"
      ]
    },
    {
      "cell_type": "code",
      "execution_count": 8,
      "metadata": {
        "id": "TDSjcp0-qDu1"
      },
      "outputs": [],
      "source": [
        "litter_columns = []\n",
        "for item in df.columns.to_list():\n",
        "    if item.isdigit(): litter_columns.append(item) \n",
        "\n",
        "def clean_df(df_arg, mapping):\n",
        "    df = df_arg\n",
        "    df = df.dropna(subset=[mapping]).copy()\n",
        "    df.drop('place_id', axis=1, inplace=True)\n",
        "    df['date_utc'] = pd.to_datetime(df['date_utc']).dt.date\n",
        "    df[litter_columns] = df[litter_columns].fillna(0)\n",
        "    df[litter_columns] = df[litter_columns].astype(np.int64) \n",
        "    df['total_litter'] = df[litter_columns].sum(axis=1)\n",
        "    return df\n",
        "\n",
        "df = clean_df(df, 'edge_id')"
      ]
    },
    {
      "cell_type": "markdown",
      "metadata": {
        "id": "mZgukM84qDu2"
      },
      "source": [
        "## Data Aggregation"
      ]
    },
    {
      "cell_type": "code",
      "execution_count": 9,
      "metadata": {
        "id": "brmF7RmLqDu3"
      },
      "outputs": [],
      "source": [
        "aggregation_type = 'sum'\n",
        "to_agg = {'edge_osmid' : 'first', 'osm_highway' : 'first', 'total_litter' : aggregation_type}\n",
        "for litter in litter_columns:\n",
        "    to_agg[litter] = aggregation_type\n",
        "df = df.groupby(['date_utc', 'edge_id'], as_index=False).agg(to_agg)"
      ]
    },
    {
      "cell_type": "markdown",
      "metadata": {
        "id": "j0INyDbJqDu4"
      },
      "source": [
        "## Feauture Creation"
      ]
    },
    {
      "cell_type": "markdown",
      "metadata": {
        "id": "R7QesIVtqDu5"
      },
      "source": [
        "### Splitting the date"
      ]
    },
    {
      "cell_type": "code",
      "execution_count": 10,
      "metadata": {
        "id": "a2a-1UdFqDu5"
      },
      "outputs": [],
      "source": [
        "df['Year'] = pd.DatetimeIndex(df['date_utc']).year.astype(object)\n",
        "df['month'] = pd.DatetimeIndex(df['date_utc']).month.astype(object)\n",
        "df['day'] = pd.DatetimeIndex(df['date_utc']).day.astype(object)"
      ]
    },
    {
      "cell_type": "markdown",
      "metadata": {
        "id": "cdQfPWMoqDu5"
      },
      "source": [
        "### Add weekday"
      ]
    },
    {
      "cell_type": "code",
      "execution_count": 11,
      "metadata": {
        "id": "WX68ZzsaqDu5"
      },
      "outputs": [],
      "source": [
        "weekdays = ('Monday', 'Tuesday', 'Wednesday', 'Thursday', 'Friday', 'Saturday', 'Sunday')\n",
        "df['weekday'] = pd.to_datetime(df['date_utc']).dt.date.apply(lambda x: x.weekday())\n",
        "df['weekday'] = df['weekday'].apply(lambda x: weekdays[x])"
      ]
    },
    {
      "cell_type": "markdown",
      "metadata": {
        "id": "sjcrUYEsqIl5"
      },
      "source": [
        "### Add holiday"
      ]
    },
    {
      "cell_type": "code",
      "execution_count": 12,
      "metadata": {
        "id": "vKoeDkYlqIl5"
      },
      "outputs": [],
      "source": [
        "from datetime import datetime\n",
        "from datetime import timedelta\n",
        "from holidays import Switzerland\n",
        "\n",
        "holiday = [holiday for holiday in Switzerland(years=[2021, 2022]).items()]\n",
        "for day in set(holiday):\n",
        "    holiday.append(((day[0] + timedelta(days=1)), day[1]))\n",
        "    holiday.append(((day[0] + timedelta(days=2)), day[1]))\n",
        "\n",
        "holidays_df = pd.DataFrame(holiday, columns=[\"date\", \"holiday\"])\n",
        "holidays_df['holiday'] = holidays_df['holiday'].astype(str)\n",
        "df['holiday'] = df['date_utc'].apply(lambda x: 1 if x in holidays_df['date'].values else 0)"
      ]
    },
    {
      "cell_type": "markdown",
      "metadata": {
        "id": "OVoqTuuE1k0t"
      },
      "source": [
        "### Add latitude and longitude"
      ]
    },
    {
      "cell_type": "markdown",
      "metadata": {
        "id": "77TpHv881k0t"
      },
      "source": [
        "#### Make a dataframe with edge_id and it's latitudes based on geojson file"
      ]
    },
    {
      "cell_type": "code",
      "execution_count": 14,
      "metadata": {
        "id": "c7EFh53v1k0t"
      },
      "outputs": [],
      "source": [
        "add_coordinates = True\n",
        "if add_coordinates:\n",
        "    if IN_COLAB:\n",
        "        with urllib.request.urlopen('https://raw.githubusercontent.com/dominik117/cortexia-darkzones-prediction/main/src/data/edges.geojson') as url:\n",
        "            data = json.loads(url.read().decode())\n",
        "    else:\n",
        "        with open('../../src/data/edges.geojson') as f:\n",
        "            data = json.load(f)\n",
        " \n",
        "    df_edges = pd.DataFrame(data['features'])  # <-- The only column needed\n",
        "    df_edges = pd.concat([df_edges.drop(['properties'], axis=1), df_edges['properties'].apply(pd.Series)], axis=1)  # <--Explode properties dictionary inside cells\n",
        "    df_edges.rename(columns = {'id':'edge_id'}, inplace = True)\n",
        "    # Rearrange BBOX (lat_north, lat_south, lon_east, lon_west)\n",
        "    def sort_bbox(x):\n",
        "        lat = sorted([x[1], x[3]], key=float, reverse=True)\n",
        "        lon = sorted([x[0], x[2]], key=float, reverse=True)\n",
        "        return lat + lon\n",
        "    df_edges['bbox'] = df_edges['bbox'].apply(sort_bbox)\n",
        "    df_coordinates = df_edges[['edge_id', 'bbox']].copy()\n",
        "    bbox_exploded = pd.DataFrame(df_coordinates[\"bbox\"].to_list(), columns=['lat_north', 'lat_south', 'lon_east', 'lon_west'])\n",
        "    df_coordinates = pd.concat([df_coordinates, bbox_exploded], axis=1)\n",
        "    df_coordinates.drop(['bbox'], axis=1, inplace=True)\n",
        "    df = pd.merge(df, df_coordinates, how=\"left\", on=\"edge_id\")\n",
        "else:\n",
        "    print(\"To add coordinates change the add_coordinates variable to true\")"
      ]
    },
    {
      "cell_type": "markdown",
      "metadata": {
        "id": "jeGXS6GGMS_U"
      },
      "source": [
        "### Add length of edge (street segment)"
      ]
    },
    {
      "cell_type": "markdown",
      "metadata": {
        "id": "QM9RIsh0MS_U"
      },
      "source": [
        "#### Formula to get distance between two points on Earth"
      ]
    },
    {
      "cell_type": "code",
      "execution_count": 15,
      "metadata": {
        "id": "iH47dROmMS_V"
      },
      "outputs": [],
      "source": [
        "from math import atan, cos, radians, sin, tan, asin, sqrt\n",
        "\n",
        "def haversine_distance(lat1, lon1, lat2, lon2):\n",
        "    lon1, lat1, lon2, lat2 = map(radians, [lon1, lat1, lon2, lat2])\n",
        "    dlon = lon2 - lon1 \n",
        "    dlat = lat2 - lat1 \n",
        "    a = sin(dlat/2)**2 + cos(lat1) * cos(lat2) * sin(dlon/2)**2\n",
        "    c = 2 * asin(sqrt(a)) \n",
        "    EQUATORIAL_RADIUS = 6378 # Radius of earth in kilometers\n",
        "    return c * EQUATORIAL_RADIUS\n",
        "\n",
        "def lamberts_ellipsoidal_distance(lat1: float, lon1: float, lat2: float, lon2: float) -> float:\n",
        "    AXIS_A = 6378137.0\n",
        "    AXIS_B = 6356752.314245\n",
        "    EQUATORIAL_RADIUS = 6378137\n",
        "    flattening = (AXIS_A - AXIS_B) / AXIS_A\n",
        "    b_lat1 = atan((1 - flattening) * tan(radians(lat1)))\n",
        "    b_lat2 = atan((1 - flattening) * tan(radians(lat2)))\n",
        "    sigma = haversine_distance(lat1, lon1, lat2, lon2) / EQUATORIAL_RADIUS\n",
        "    P_value = (b_lat1 + b_lat2) / 2\n",
        "    Q_value = (b_lat2 - b_lat1) / 2\n",
        "    X_numerator = (sin(P_value) ** 2) * (cos(Q_value) ** 2)\n",
        "    X_demonimator = cos(sigma / 2) ** 2\n",
        "    X_value = (sigma - sin(sigma)) * (X_numerator / X_demonimator)\n",
        "    Y_numerator = (cos(P_value) ** 2) * (sin(Q_value) ** 2)\n",
        "    Y_denominator = sin(sigma / 2) ** 2\n",
        "    Y_value = (sigma + sin(sigma)) * (Y_numerator / Y_denominator)\n",
        "    distance = abs(EQUATORIAL_RADIUS * (sigma - ((flattening / 2) * (X_value + Y_value))))\n",
        "    return int(distance)\n",
        "\n",
        "df['edge_length'] = df.apply(lambda x: lamberts_ellipsoidal_distance(x.lat_north, x.lon_east, x.lat_south, x.lon_west), axis=1)"
      ]
    },
    {
      "cell_type": "markdown",
      "metadata": {
        "id": "Wim4F4ZAqIl-"
      },
      "source": [
        "### Add weather features"
      ]
    },
    {
      "cell_type": "code",
      "execution_count": 17,
      "metadata": {
        "id": "CNSzoyAPqIl_"
      },
      "outputs": [],
      "source": [
        "if IN_COLAB: df_weather = pd.read_csv(\"https://raw.githubusercontent.com/dominik117/cortexia-darkzones-prediction/main/src/data/weather_basel_2021-2022.csv\")\n",
        "else: df_weather = pd.read_csv(\"../../src/data/weather_basel_2021-2022.csv\")\n",
        "# Data obtained from https://www.meteoblue.com/en/weather/archive/export/basel_switzerland_2661604\n",
        "df['date_utc'] = pd.to_datetime(df['date_utc']).dt.date\n",
        "weather_columns = {'location':'date_utc', 'Basel':'temperature_max', 'Basel.1':'temperature_min', 'Basel.2':'temperature_mean', 'Basel.3':'precipitation',\n",
        "                   'Basel.4':'snowfall', 'Basel.5':'humidity_max', 'Basel.6':'humidity_min', 'Basel.7':'humidity_mean', 'Basel.8':'cloud_coverage',\n",
        "                   'Basel.9':'wind_speed_max', 'Basel.10':'wind_speed_min', 'Basel.11':'wind_speed_mean'}\n",
        "df_weather.rename(columns = weather_columns, inplace = True)\n",
        "df_weather.drop(['Basel.12'], axis=1, inplace=True)\n",
        "df_weather = df_weather.iloc[9:].copy()  # <-- Rows with metadata\n",
        "df_weather['date_utc'] = pd.to_datetime(df_weather['date_utc']).dt.date  # <-- Match main df type and name\n",
        "weather_date = df_weather.pop('date_utc')  # <-- Pop date so it doesn't get converted\n",
        "df_weather = df_weather.apply(pd.to_numeric)\n",
        "df_weather = df_weather.round(decimals = 1)\n",
        "df_weather.insert(0, 'date_utc', weather_date) # <-- Reassign unmodified date to df\n",
        "df = pd.merge(df, df_weather, how=\"left\", on=\"date_utc\")\n",
        "df['date_utc'] = df['date_utc'].astype(str)"
      ]
    },
    {
      "cell_type": "markdown",
      "metadata": {
        "id": "_aWNf98U1k0u"
      },
      "source": [
        "### Add features from Open Street Maps (OSM)"
      ]
    },
    {
      "cell_type": "markdown",
      "metadata": {
        "id": "nAYVh8Bu1k0u"
      },
      "source": [
        "#### Make the datasets with points of interest"
      ]
    },
    {
      "cell_type": "code",
      "execution_count": 18,
      "metadata": {
        "colab": {
          "base_uri": "https://localhost:8080/"
        },
        "id": "XRvfwJmL1k0u",
        "outputId": "b6882ca0-0141-46a6-868e-4856bcc03d81"
      },
      "outputs": [
        {
          "name": "stderr",
          "output_type": "stream",
          "text": [
            "/Users/bacher/opt/anaconda3/envs/cortexia3/lib/python3.10/site-packages/osmnx/geometries.py:805: ShapelyDeprecationWarning: Iteration over multi-part geometries is deprecated and will be removed in Shapely 2.0. Use the `geoms` property to access the constituent parts of a multi-part geometry.\n",
            "  for merged_outer_linestring in list(merged_outer_linestrings):\n",
            "/Users/bacher/opt/anaconda3/envs/cortexia3/lib/python3.10/site-packages/osmnx/geometries.py:805: ShapelyDeprecationWarning: __len__ for multi-part geometries is deprecated and will be removed in Shapely 2.0. Check the length of the `geoms` property instead to get the  number of parts of a multi-part geometry.\n",
            "  for merged_outer_linestring in list(merged_outer_linestrings):\n"
          ]
        }
      ],
      "source": [
        "add_points_of_interest = True\n",
        "# Since we need longitude and latitude to add OSM features, turn it on when adding points of interest if off\n",
        "if add_coordinates is False and add_points_of_interest:\n",
        "    add_points_of_interest = True\n",
        "    add_coordinates = True\n",
        "    print(\"WARNING: add_coordinates was turned on since it's needed to aggregate points of interest\")\n",
        "    print(f\"add_coordinates = {add_coordinates},  add_points_of_interest = {add_points_of_interest}\")\n",
        "\n",
        "# Extraction of the features on the dictionary from OSM\n",
        "basel = 'Basel, Basel, Switzerland'\n",
        "# Features dictionary at https://wiki.openstreetmap.org/wiki/Map_features\n",
        "\n",
        "tags = {'amenity': ['vending_machine', 'bench', 'bar', 'fast_food', 'ice_cream', 'kindergarten', 'school', 'hospital', 'cinema', \n",
        "                    'fountain', 'dog_toilet', 'recycling', 'waste_basket', 'waste_disposal', 'childcare', 'marketplace',\n",
        "                    'bus_station', 'fuel', 'taxi', 'parking', 'atm', 'clinic', 'nightclub', 'toilets'\n",
        "                    ]}\n",
        "amenity = ox.geometries_from_place(basel, tags=tags)\n",
        "# tags = {'leisure': 'park'}\n",
        "# leisure = ox.geometries_from_place(basel, tags=tags)"
      ]
    },
    {
      "cell_type": "markdown",
      "metadata": {
        "id": "gseOabWX1k0v"
      },
      "source": [
        "#### Make dataframe with points of interest and their coordinates"
      ]
    },
    {
      "cell_type": "code",
      "execution_count": 19,
      "metadata": {
        "id": "jThVZsFACh30"
      },
      "outputs": [],
      "source": [
        "df_osm = pd.DataFrame(amenity)  # <-- Convert to DF\n",
        "df_osm = df_osm[['amenity', 'geometry']].copy()  # <-- Select the only needed columns\n",
        "df_osm['osm_id'] = df_osm.index.to_numpy()  # <-- Detach the index and assign it to a normal column\n",
        "df_osm.reset_index(drop=True, inplace=True)  # <-- Drop index\n",
        "osm_id_exploded = pd.DataFrame(df_osm[\"osm_id\"].to_list(), columns=['type', 'osm'])  # <-- Explode index since it contains two indices\n",
        "df_osm = pd.concat([df_osm, osm_id_exploded], axis=1) \n",
        "df_osm.drop(['osm_id', 'osm'], axis=1, inplace=True)\n",
        "df_osm = df_osm[df_osm['type'] == 'node']  # <-- Drop Multipoligon points\n",
        "#### Clean the coordinates from the GeoPandas geometry format to latitude and longitude columns\n",
        "df_osm['lon'] = df_osm[df_osm['type'] == \"node\"]['geometry'].apply(lambda p: p.x)\n",
        "df_osm['lat'] = df_osm[df_osm['type'] == \"node\"]['geometry'].apply(lambda p: p.y)\n",
        "df_osm.drop(['geometry', 'type'], axis=1, inplace=True)"
      ]
    },
    {
      "cell_type": "markdown",
      "metadata": {
        "id": "rjpfSwH11k0v"
      },
      "source": [
        "#### Merge the amenity based on coordinates with the corresponding coordinates from the edge_id"
      ]
    },
    {
      "cell_type": "code",
      "execution_count": 20,
      "metadata": {
        "id": "PM0y6MZ-1k0w"
      },
      "outputs": [],
      "source": [
        "if add_points_of_interest:\n",
        "    df_edges_coordinates = df[['edge_id', 'lat_north', 'lat_south', 'lon_east', 'lon_west']].copy()\n",
        "    df_edges_coordinates = df_edges_coordinates.drop_duplicates(subset='edge_id', keep='first')\n",
        "\n",
        "    # Make a list of the edges that have an amenity to them based on lat,lon conditional\n",
        "    def is_between(a, x, b):\n",
        "        return min(a, b) < x < max(a, b)\n",
        "    edges_dict = []\n",
        "    for edges_row in df_edges_coordinates.itertuples():\n",
        "        for osm_row in df_osm.itertuples():\n",
        "            if is_between(edges_row.lat_south, osm_row.lat, edges_row.lat_north) and is_between(edges_row.lon_west, osm_row.lon, edges_row.lon_east):\n",
        "                edges_dict.append([edges_row.edge_id, osm_row.amenity])\n",
        "\n",
        "    # Group by edge_id and get the value counts per amenity\n",
        "    df_edges_dict = pd.DataFrame(edges_dict, columns = ['edge_id', 'amenity'])\n",
        "    df_edges_dict = df_edges_dict.groupby('edge_id')['amenity'].value_counts().unstack(fill_value=0).reset_index()\n",
        "    df = pd.merge(df, df_edges_dict, how=\"left\", on=\"edge_id\")\n",
        "    osm_columns = list(df_edges_dict.columns[1:])\n",
        "    df[osm_columns] = df[osm_columns].fillna(value=0)  # <-- Fill missing values, since not all edges have amenities\n",
        "    df[osm_columns] = df[osm_columns].astype(int)\n",
        "else:\n",
        "    print(\"To add a count of points of interest from OSM, change add_points_of_interest variable to True\")"
      ]
    },
    {
      "cell_type": "markdown",
      "metadata": {
        "id": "HiTTuYS8qImF"
      },
      "source": [
        "## Quick EDA"
      ]
    },
    {
      "cell_type": "code",
      "execution_count": 21,
      "metadata": {
        "id": "6N5b0nhPqImF"
      },
      "outputs": [],
      "source": [
        "columns_df_litters = ['edge_id', 'date_utc', 'month', 'day', 'weekday', 'total_litter']\n",
        "columns_df_litters.extend(litter_columns)\n",
        "df_litters = df[columns_df_litters].copy()\n",
        "aggregation_type = 'sum'\n",
        "to_agg = {'total_litter' : aggregation_type}\n",
        "for litter in litter_columns:\n",
        "    to_agg[litter] = aggregation_type\n",
        "df_litters_agg = df_litters.groupby(['weekday'], as_index=False).agg(to_agg)"
      ]
    },
    {
      "cell_type": "code",
      "execution_count": 22,
      "metadata": {
        "id": "4Icxk0Q5qImG"
      },
      "outputs": [],
      "source": [
        "sum_of_litters = df[litter_columns].sum(axis=0)"
      ]
    },
    {
      "cell_type": "markdown",
      "metadata": {
        "id": "q4ev6ys51k0z"
      },
      "source": [
        "## Regression Models"
      ]
    },
    {
      "cell_type": "markdown",
      "metadata": {
        "id": "PLt1PeCO6WU5"
      },
      "source": [
        "## Train / Test and Pipelines for Regression Models"
      ]
    },
    {
      "cell_type": "code",
      "execution_count": 40,
      "metadata": {
        "id": "Gm0sHDQm1k0z"
      },
      "outputs": [],
      "source": [
        "# Train/ test split\n",
        "columns_to_drop = ['total_litter', 'total_litter_ratio']\n",
        "columns_to_drop.extend(litter_columns)\n",
        "columns_to_drop.extend(osm_columns)\n",
        "\n",
        "X = df.drop(columns=columns_to_drop, errors='ignore')\n",
        "y = df['total_litter']\n",
        "\n",
        "X_train, X_test, y_train, y_test = train_test_split(X, y, test_size=0.1, random_state=42)\n",
        "\n",
        "# Pipeline\n",
        "categorical_features = X_train.select_dtypes(include=['object', 'category']).columns.tolist()\n",
        "numeric_features = X_train.select_dtypes(include=['int', 'float']).columns.tolist()\n",
        "\n",
        "categorical_transformer = Pipeline(steps=[(\"onehot\", OneHotEncoder(handle_unknown=\"ignore\"))\n",
        "                                          ])\n",
        "numeric_transformer = Pipeline(steps=[(\"scaler\", StandardScaler())\n",
        "                                      ])\n",
        "preprocessor = ColumnTransformer(transformers=[(\"num\", numeric_transformer, numeric_features),\n",
        "                                               (\"cat\", categorical_transformer, categorical_features)\n",
        "                                               ])\n",
        "\n",
        "# print(X_train.shape, X_test.shape)\n",
        "# print(f\"Categorical features: {categorical_features}\")\n",
        "# print(f\"Numeric features: {numeric_features}\")\n",
        "# X_train.head(1)"
      ]
    },
    {
      "cell_type": "markdown",
      "metadata": {
        "id": "b5ONpZ7xaKen"
      },
      "source": [
        "## Models and Predictions"
      ]
    },
    {
      "cell_type": "markdown",
      "metadata": {
        "id": "dkPV1zee4H3q"
      },
      "source": [
        "### Poisson Regression"
      ]
    },
    {
      "cell_type": "code",
      "execution_count": 41,
      "metadata": {
        "id": "1IFBggC9qhLx"
      },
      "outputs": [],
      "source": [
        "model_poisson = PoissonRegressor()\n",
        "\n",
        "pipeline_poisson = Pipeline(steps=[(\"pre_process\", preprocessor), (\"poisson_model\", model_poisson)])\n",
        "\n",
        "grid_search_poisson = {'poisson_model__alpha' : [1e-10],\n",
        "                       'poisson_model__max_iter' : [500],\n",
        "                        }\n",
        "\n",
        "model_poisson = GridSearchCV(estimator=pipeline_poisson, param_grid=grid_search_poisson,\n",
        "                             scoring='neg_mean_poisson_deviance', verbose=5, n_jobs=-1)"
      ]
    },
    {
      "cell_type": "code",
      "execution_count": 42,
      "metadata": {
        "colab": {
          "base_uri": "https://localhost:8080/"
        },
        "id": "ty1QRkNCiekx",
        "outputId": "2c0045e9-1abe-4daa-a5f1-b445ccfeba4d"
      },
      "outputs": [
        {
          "name": "stdout",
          "output_type": "stream",
          "text": [
            "Fitting 5 folds for each of 1 candidates, totalling 5 fits\n",
            "--- 2.124316159884135 minutes ---\n"
          ]
        },
        {
          "name": "stderr",
          "output_type": "stream",
          "text": [
            "/usr/local/lib/python3.7/dist-packages/sklearn/linear_model/_glm/glm.py:323: ConvergenceWarning: lbfgs failed to converge (status=1):\n",
            "STOP: TOTAL NO. of ITERATIONS REACHED LIMIT.\n",
            "\n",
            "Increase the number of iterations (max_iter) or scale the data as shown in:\n",
            "    https://scikit-learn.org/stable/modules/preprocessing.html\n",
            "  self.n_iter_ = _check_optimize_result(\"lbfgs\", opt_res)\n"
          ]
        }
      ],
      "source": [
        "start_time = time.time()  # <-- Just to count how long the model takes to predict\n",
        "\n",
        "model_poisson.fit(X_train, y_train)\n",
        "\n",
        "print(f\"--- {(time.time() - start_time)/60} minutes ---\")"
      ]
    },
    {
      "cell_type": "code",
      "execution_count": 43,
      "metadata": {
        "colab": {
          "base_uri": "https://localhost:8080/"
        },
        "id": "2ZqzCRkyMS_q",
        "outputId": "c4e159a2-2b42-40cf-fcb9-c0cb493750e4"
      },
      "outputs": [
        {
          "name": "stdout",
          "output_type": "stream",
          "text": [
            "MAE 24.114209849534912\n",
            "MSE 5588.227100415825\n",
            "RMSE 74.75444535554942\n",
            "R2 Score 0.41853304116357004\n",
            "D2 Score 0.6393622107772697\n"
          ]
        }
      ],
      "source": [
        "best_model_poisson = model_poisson.best_estimator_\n",
        "y_pred_poisson = best_model_poisson.predict(X_test)\n",
        "y_pred_poisson = y_pred_poisson.astype(int)\n",
        "\n",
        "print('MAE', metrics.mean_absolute_error(y_test, y_pred_poisson))\n",
        "print('MSE', metrics.mean_squared_error(y_test, y_pred_poisson))\n",
        "print('RMSE', np.sqrt(metrics.mean_squared_error(y_test, y_pred_poisson)))\n",
        "print('R2 Score', metrics.r2_score(y_test, y_pred_poisson))\n",
        "print('D2 Score', best_model_poisson.score(X_test, y_test))"
      ]
    },
    {
      "cell_type": "code",
      "execution_count": null,
      "metadata": {
        "id": "AahdnUWTqrPR"
      },
      "outputs": [],
      "source": [
        "poisson_scores = []\n",
        "\n",
        "for litter in litter_columns:\n",
        "    X = df.drop(columns=columns_to_drop, errors='ignore')\n",
        "    y = df[litter]\n",
        "    X_train, X_test, y_train, y_test = train_test_split(X, y, test_size=0.1, random_state=42)\n",
        "\n",
        "    model_poisson.fit(X_train,y_train)\n",
        "    predictionforest = model_poisson.best_estimator_.predict(X_test)\n",
        "\n",
        "    best_model_poisson = model_poisson.best_estimator_\n",
        "    y_pred_poisson = best_model_poisson.predict(X_test)\n",
        "    y_pred_poisson = y_pred_poisson.astype(int)\n",
        "\n",
        "    score = best_model_poisson.score(X_test, y_test)\n",
        "    poisson_scores.append([litter, score])\n",
        "\n",
        "for value in poisson_scores:\n",
        "    value[1] = round(value[1], 4)\n",
        "from operator import itemgetter\n",
        "poisson_scores = sorted(poisson_scores, key=itemgetter(1), reverse=True)\n",
        "df_poisson_scores = pd.DataFrame(poisson_scores, columns=['litter', 'score'])\n",
        "df_poisson_scores.head(10)"
      ]
    },
    {
      "cell_type": "markdown",
      "metadata": {
        "id": "RRa675xrqrmA"
      },
      "source": [
        "### Poisson Loop Scores"
      ]
    },
    {
      "cell_type": "markdown",
      "metadata": {
        "id": "XENRHR5AqImQ"
      },
      "source": [
        "### Linear Regression"
      ]
    },
    {
      "cell_type": "code",
      "execution_count": null,
      "metadata": {
        "id": "z-ujxeufqImQ"
      },
      "outputs": [],
      "source": [
        "model_linear_r =  LinearRegression()\n",
        "pipeline_linear_r = Pipeline(steps=[(\"pre_process\", preprocessor), (\"model\", model_linear_r)])"
      ]
    },
    {
      "cell_type": "code",
      "execution_count": null,
      "metadata": {
        "id": "Op5AHTrQqImR",
        "outputId": "6d532cb8-7b14-40b6-e713-1ec2806875ae"
      },
      "outputs": [
        {
          "name": "stdout",
          "output_type": "stream",
          "text": [
            "--- 0.5773236989974976 minutes ---\n"
          ]
        }
      ],
      "source": [
        "start_time = time.time()  # <-- Just to count how long the model takes to predict\n",
        "\n",
        "pipeline_linear_r.fit(X_train, y_train)\n",
        "y_pred_linear_r = pipeline_linear_r.predict(X_test)\n",
        "\n",
        "print(f\"--- {(time.time() - start_time)/60} minutes ---\")"
      ]
    },
    {
      "cell_type": "code",
      "execution_count": null,
      "metadata": {
        "id": "0L9NDsFKqImR",
        "outputId": "9c6035d0-037d-4f89-fefe-dfd6d9cc5d64"
      },
      "outputs": [
        {
          "name": "stdout",
          "output_type": "stream",
          "text": [
            "MAE 32.686415362403764\n",
            "MSE 6887.252300769041\n",
            "RMSE 82.98947102355238\n",
            "R2 Score 0.2833666960726443\n"
          ]
        }
      ],
      "source": [
        "from sklearn import metrics\n",
        "\n",
        "print('MAE', metrics.mean_absolute_error(y_test, y_pred_linear_r))\n",
        "print('MSE', metrics.mean_squared_error(y_test, y_pred_linear_r))\n",
        "print('RMSE', np.sqrt(metrics.mean_squared_error(y_test, y_pred_linear_r)))\n",
        "print('R2 Score', metrics.r2_score(y_test, y_pred_linear_r))"
      ]
    },
    {
      "cell_type": "markdown",
      "metadata": {
        "id": "oXPwdRrt6Kcd"
      },
      "source": [
        "### Random Forest"
      ]
    },
    {
      "cell_type": "code",
      "execution_count": null,
      "metadata": {
        "id": "AdOsQC4x3If4"
      },
      "outputs": [],
      "source": [
        "# TODO: Add grid and parameter tunning\n",
        "\n",
        "from sklearn.ensemble import RandomForestRegressor\n",
        "\n",
        "rfr_model =  RandomForestRegressor(n_estimators=20,\n",
        "                             max_depth=10,\n",
        "                             criterion='mse',\n",
        "                            )\n",
        "\n",
        "pipeline_rfr = Pipeline(steps=[(\"pre_process\", preprocessor), \n",
        "                               (\"model\", rfr_model)\n",
        "                              ])"
      ]
    },
    {
      "cell_type": "code",
      "execution_count": null,
      "metadata": {
        "colab": {
          "base_uri": "https://localhost:8080/"
        },
        "id": "5IFCtqo6KD_K",
        "outputId": "7629b32e-4f30-47d5-903f-0608bcc6754f"
      },
      "outputs": [
        {
          "name": "stderr",
          "output_type": "stream",
          "text": [
            "/usr/local/lib/python3.7/dist-packages/sklearn/ensemble/_forest.py:400: FutureWarning: Criterion 'mse' was deprecated in v1.0 and will be removed in version 1.2. Use `criterion='squared_error'` which is equivalent.\n",
            "  FutureWarning,\n"
          ]
        },
        {
          "name": "stdout",
          "output_type": "stream",
          "text": [
            "--- 1.9101166685422262 minutes ---\n"
          ]
        }
      ],
      "source": [
        "start_time = time.time()  # <-- Just to count how long the model takes to predict\n",
        "\n",
        "pipeline_rfr.fit(X_train, y_train)\n",
        "pred_rfr = pipeline_rfr.predict(X_test)\n",
        "\n",
        "print(f\"--- {(time.time() - start_time)/60} minutes ---\")"
      ]
    },
    {
      "cell_type": "code",
      "execution_count": null,
      "metadata": {
        "colab": {
          "base_uri": "https://localhost:8080/"
        },
        "id": "JKBN4Xtt3IdE",
        "outputId": "64c97300-92f7-4c96-d35c-c088da52fcfc"
      },
      "outputs": [
        {
          "name": "stdout",
          "output_type": "stream",
          "text": [
            "MAE 32.67003320057788\n",
            "MSE 7988.979951550463\n",
            "RMSE 89.3810939267945\n",
            "R2 Score 0.16872958218043888\n"
          ]
        }
      ],
      "source": [
        "from sklearn import metrics\n",
        "\n",
        "print('MAE', metrics.mean_absolute_error(y_test, pred_rfr))\n",
        "print('MSE', metrics.mean_squared_error(y_test, pred_rfr))\n",
        "print('RMSE', np.sqrt(metrics.mean_squared_error(y_test, pred_rfr)))\n",
        "print('R2 Score', metrics.r2_score(y_test, pred_rfr))"
      ]
    },
    {
      "cell_type": "markdown",
      "metadata": {
        "id": "jtNE5zSz1k0w"
      },
      "source": [
        "## Classification Model"
      ]
    },
    {
      "cell_type": "markdown",
      "metadata": {
        "id": "18OlS5JwGHfg"
      },
      "source": [
        "### Make the classification output"
      ]
    },
    {
      "cell_type": "code",
      "execution_count": null,
      "metadata": {
        "colab": {
          "base_uri": "https://localhost:8080/"
        },
        "id": "DQa83wfrFLx5",
        "outputId": "2e6c4177-2271-4e40-ee18-7ac626bbc8c4"
      },
      "outputs": [
        {
          "data": {
            "text/plain": [
              "0    357032\n",
              "1    241775\n",
              "Name: total_litter_ratio, dtype: int64"
            ]
          },
          "metadata": {},
          "output_type": "display_data"
        }
      ],
      "source": [
        "#### We want half to be clean half dirty for the moment\n",
        "df['total_litter_ratio'] = [1 if x>10 else 0 for x in df['total_litter']]\n",
        "df['total_litter_ratio'].value_counts()"
      ]
    },
    {
      "cell_type": "markdown",
      "metadata": {
        "id": "AttzPSWcqDu-"
      },
      "source": [
        "### Train / Test and Pipelines for Classification Models"
      ]
    },
    {
      "cell_type": "code",
      "execution_count": null,
      "metadata": {
        "colab": {
          "base_uri": "https://localhost:8080/"
        },
        "id": "jmxVR0iBZ514",
        "outputId": "4a8aeb90-6bfd-4e83-ea5c-93bbb2a5dd25"
      },
      "outputs": [
        {
          "name": "stdout",
          "output_type": "stream",
          "text": [
            "(538926, 44) (59881, 44)\n",
            "Categorical features: ['edge_id', 'osm_highway', 'Year', 'month', 'day', 'weekday']\n",
            "Numeric features: ['temperature_max', 'temperature_min', 'temperature_mean', 'precipitation', 'snowfall', 'humidity_max', 'humidity_min', 'humidity_mean', 'cloud_coverage', 'wind_speed_max', 'wind_speed_min', 'wind_speed_mean', 'lat_north', 'lat_south', 'lon_east', 'lon_west', 'edge_length', 'atm', 'bar', 'bench', 'childcare', 'cinema', 'clinic', 'fast_food', 'fountain', 'fuel', 'ice_cream', 'kindergarten', 'marketplace', 'nightclub', 'parking', 'recycling', 'school', 'taxi', 'toilets', 'vending_machine', 'waste_basket', 'waste_disposal']\n"
          ]
        },
        {
          "data": {
            "text/html": [
              "<div>\n",
              "<style scoped>\n",
              "    .dataframe tbody tr th:only-of-type {\n",
              "        vertical-align: middle;\n",
              "    }\n",
              "\n",
              "    .dataframe tbody tr th {\n",
              "        vertical-align: top;\n",
              "    }\n",
              "\n",
              "    .dataframe thead th {\n",
              "        text-align: right;\n",
              "    }\n",
              "</style>\n",
              "<table border=\"1\" class=\"dataframe\">\n",
              "  <thead>\n",
              "    <tr style=\"text-align: right;\">\n",
              "      <th></th>\n",
              "      <th>edge_id</th>\n",
              "      <th>osm_highway</th>\n",
              "      <th>Year</th>\n",
              "      <th>month</th>\n",
              "      <th>day</th>\n",
              "      <th>weekday</th>\n",
              "      <th>temperature_max</th>\n",
              "      <th>temperature_min</th>\n",
              "      <th>temperature_mean</th>\n",
              "      <th>precipitation</th>\n",
              "      <th>snowfall</th>\n",
              "      <th>humidity_max</th>\n",
              "      <th>humidity_min</th>\n",
              "      <th>humidity_mean</th>\n",
              "      <th>cloud_coverage</th>\n",
              "      <th>wind_speed_max</th>\n",
              "      <th>wind_speed_min</th>\n",
              "      <th>wind_speed_mean</th>\n",
              "      <th>lat_north</th>\n",
              "      <th>lat_south</th>\n",
              "      <th>lon_east</th>\n",
              "      <th>lon_west</th>\n",
              "      <th>edge_length</th>\n",
              "      <th>atm</th>\n",
              "      <th>bar</th>\n",
              "      <th>bench</th>\n",
              "      <th>childcare</th>\n",
              "      <th>cinema</th>\n",
              "      <th>clinic</th>\n",
              "      <th>fast_food</th>\n",
              "      <th>fountain</th>\n",
              "      <th>fuel</th>\n",
              "      <th>ice_cream</th>\n",
              "      <th>kindergarten</th>\n",
              "      <th>marketplace</th>\n",
              "      <th>nightclub</th>\n",
              "      <th>parking</th>\n",
              "      <th>recycling</th>\n",
              "      <th>school</th>\n",
              "      <th>taxi</th>\n",
              "      <th>toilets</th>\n",
              "      <th>vending_machine</th>\n",
              "      <th>waste_basket</th>\n",
              "      <th>waste_disposal</th>\n",
              "    </tr>\n",
              "  </thead>\n",
              "  <tbody>\n",
              "    <tr>\n",
              "      <th>334934</th>\n",
              "      <td>(273223783, 273223789, 0)</td>\n",
              "      <td>residential</td>\n",
              "      <td>2022</td>\n",
              "      <td>4</td>\n",
              "      <td>12</td>\n",
              "      <td>Tuesday</td>\n",
              "      <td>24.0</td>\n",
              "      <td>6.3</td>\n",
              "      <td>15.5</td>\n",
              "      <td>0.0</td>\n",
              "      <td>0.0</td>\n",
              "      <td>66.0</td>\n",
              "      <td>31.0</td>\n",
              "      <td>46.2</td>\n",
              "      <td>39.2</td>\n",
              "      <td>18.2</td>\n",
              "      <td>6.0</td>\n",
              "      <td>13.9</td>\n",
              "      <td>47.561804</td>\n",
              "      <td>47.560409</td>\n",
              "      <td>7.600955</td>\n",
              "      <td>7.599665</td>\n",
              "      <td>201</td>\n",
              "      <td>0</td>\n",
              "      <td>0</td>\n",
              "      <td>0</td>\n",
              "      <td>0</td>\n",
              "      <td>0</td>\n",
              "      <td>0</td>\n",
              "      <td>0</td>\n",
              "      <td>0</td>\n",
              "      <td>0</td>\n",
              "      <td>0</td>\n",
              "      <td>0</td>\n",
              "      <td>0</td>\n",
              "      <td>0</td>\n",
              "      <td>0</td>\n",
              "      <td>0</td>\n",
              "      <td>0</td>\n",
              "      <td>0</td>\n",
              "      <td>0</td>\n",
              "      <td>0</td>\n",
              "      <td>0</td>\n",
              "      <td>0</td>\n",
              "    </tr>\n",
              "  </tbody>\n",
              "</table>\n",
              "</div>"
            ],
            "text/plain": [
              "                          edge_id  osm_highway  Year month day  weekday  \\\n",
              "334934  (273223783, 273223789, 0)  residential  2022     4  12  Tuesday   \n",
              "\n",
              "        temperature_max  temperature_min  temperature_mean  precipitation  \\\n",
              "334934             24.0              6.3              15.5            0.0   \n",
              "\n",
              "        snowfall  humidity_max  humidity_min  humidity_mean  cloud_coverage  \\\n",
              "334934       0.0          66.0          31.0           46.2            39.2   \n",
              "\n",
              "        wind_speed_max  wind_speed_min  wind_speed_mean  lat_north  lat_south  \\\n",
              "334934            18.2             6.0             13.9  47.561804  47.560409   \n",
              "\n",
              "        lon_east  lon_west  edge_length  atm  bar  bench  childcare  cinema  \\\n",
              "334934  7.600955  7.599665          201    0    0      0          0       0   \n",
              "\n",
              "        clinic  fast_food  fountain  fuel  ice_cream  kindergarten  \\\n",
              "334934       0          0         0     0          0             0   \n",
              "\n",
              "        marketplace  nightclub  parking  recycling  school  taxi  toilets  \\\n",
              "334934            0          0        0          0       0     0        0   \n",
              "\n",
              "        vending_machine  waste_basket  waste_disposal  \n",
              "334934                0             0               0  "
            ]
          },
          "metadata": {},
          "output_type": "display_data"
        }
      ],
      "source": [
        "columns_to_drop = ['total_litter_ratio', 'date_utc', 'edge_osmid', 'total_litter']\n",
        "columns_to_drop.extend(litter_columns)\n",
        "#columns_to_drop.extend(osm_columns)\n",
        "\n",
        "X = df.drop(columns=columns_to_drop, errors='ignore')\n",
        "y = df['total_litter_ratio']\n",
        "X_train, X_test, y_train, y_test = train_test_split(X, y, test_size=0.1, random_state=42)\n",
        "\n",
        "categorical_features = X_train.select_dtypes(include=['object', 'category']).columns.tolist()\n",
        "numeric_features = X_train.select_dtypes(include=['int', 'float']).columns.tolist()\n",
        "\n",
        "categorical_transformer = Pipeline(steps=[(\"onehot\", OneHotEncoder(handle_unknown=\"ignore\"))\n",
        "                                          ])\n",
        "numeric_transformer = Pipeline(steps=[(\"scaler\", StandardScaler())\n",
        "                                      ])\n",
        "preprocessor = ColumnTransformer(transformers=[(\"num\", numeric_transformer, numeric_features),\n",
        "                                               (\"cat\", categorical_transformer, categorical_features)\n",
        "                                               ])\n",
        "\n",
        "print(X_train.shape, X_test.shape)\n",
        "print(f\"Categorical features: {categorical_features}\")\n",
        "print(f\"Numeric features: {numeric_features}\")\n",
        "X_train.head(1)"
      ]
    },
    {
      "cell_type": "markdown",
      "metadata": {
        "id": "TxbupJ3hSJfX"
      },
      "source": [
        "### SVC [Classification Model]"
      ]
    },
    {
      "cell_type": "code",
      "execution_count": null,
      "metadata": {
        "id": "C2blv0a_SOlm",
        "outputId": "bd7c9a87-8e7b-4a50-d584-7079462381be"
      },
      "outputs": [
        {
          "name": "stderr",
          "output_type": "stream",
          "text": [
            "/Users/bacher/opt/anaconda3/envs/cortexia/lib/python3.10/site-packages/sklearn/svm/_base.py:1225: ConvergenceWarning: Liblinear failed to converge, increase the number of iterations.\n",
            "  warnings.warn(\n"
          ]
        },
        {
          "name": "stdout",
          "output_type": "stream",
          "text": [
            "--- 9.62 minutes ---\n"
          ]
        }
      ],
      "source": [
        "from sklearn.svm import LinearSVC\n",
        "\n",
        "model_svc = LinearSVC(random_state=42)\n",
        "pipeline_svc = Pipeline([(\"pre_process\", preprocessor), \n",
        "                         (\"model\", model_svc)])\n",
        "\n",
        "start_time = time.time()  # <-- Just to count how long the model takes to predict\n",
        "pipeline_svc.fit(X_train, y_train)\n",
        "y_pred_svc = pipeline_svc.predict(X_test)\n",
        "print(f\"--- {round(((time.time() - start_time)/60), 2)} minutes ---\")"
      ]
    },
    {
      "cell_type": "code",
      "execution_count": null,
      "metadata": {
        "colab": {
          "base_uri": "https://localhost:8080/"
        },
        "id": "rgeATAsHS7mh",
        "outputId": "2d5bdf66-8b21-47e9-fffb-e654d79a1fd8"
      },
      "outputs": [
        {
          "name": "stdout",
          "output_type": "stream",
          "text": [
            "              precision    recall  f1-score   support\n",
            "\n",
            "           0       0.80      0.84      0.82     35700\n",
            "           1       0.75      0.69      0.72     24181\n",
            "\n",
            "    accuracy                           0.78     59881\n",
            "   macro avg       0.77      0.76      0.77     59881\n",
            "weighted avg       0.78      0.78      0.78     59881\n",
            "\n"
          ]
        }
      ],
      "source": [
        "# Prediction scores\n",
        "class_labels = pipeline_svc.named_steps['model'].classes_\n",
        "print(classification_report(y_test, y_pred_svc))\n",
        "# pd.DataFrame(confusion_matrix(y_test, y_pred_svc), columns=class_labels, index=class_labels)\n",
        "# classification_scores['svc'] = round(f1_score(y_test, y_pred_svc, average='weighted'), 3)"
      ]
    }
  ],
  "metadata": {
    "colab": {
      "collapsed_sections": [
        "jtNE5zSz1k0w"
      ],
      "machine_shape": "hm",
      "name": "dominik_day_9_10_litter_importance.ipynb",
      "provenance": []
    },
    "gpuClass": "standard",
    "kernelspec": {
      "display_name": "Python 3.10.5 ('cortexia3')",
      "language": "python",
      "name": "python3"
    },
    "language_info": {
      "codemirror_mode": {
        "name": "ipython",
        "version": 3
      },
      "file_extension": ".py",
      "mimetype": "text/x-python",
      "name": "python",
      "nbconvert_exporter": "python",
      "pygments_lexer": "ipython3",
      "version": "3.10.5"
    },
    "vscode": {
      "interpreter": {
        "hash": "393eaa007fcd2c7a4c179b44934792a94932bcce71862c954e102a685fb04132"
      }
    }
  },
  "nbformat": 4,
  "nbformat_minor": 0
}
