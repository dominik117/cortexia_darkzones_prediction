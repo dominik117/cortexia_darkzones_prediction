{
  "cells": [
    {
      "cell_type": "code",
      "execution_count": null,
      "metadata": {
        "id": "g-fT2Ow_RM4b"
      },
      "outputs": [],
      "source": [
        "import pandas as pd\n",
        "import matplotlib.pyplot as plt\n",
        "\n",
        "pd.set_option('display.max_columns', None)"
      ]
    },
    {
      "cell_type": "code",
      "execution_count": null,
      "metadata": {
        "id": "wlt1L9Q8RPQh"
      },
      "outputs": [],
      "source": [
        "df = pd.read_csv('/content/output/all_in_one.csv')"
      ]
    },
    {
      "cell_type": "code",
      "execution_count": null,
      "metadata": {
        "id": "SJMCtzRicTxo"
      },
      "outputs": [],
      "source": [
        "from tabulate import tabulate\n",
        "\n",
        "def visualize(df, small=False):\n",
        "    print(f\"Data Frame has {df.shape[0]} rows and {df.shape[1]} rows\\n\")\n",
        "    print(\"These are the column names:\")\n",
        "\n",
        "    information = []\n",
        "    counter = 0\n",
        "\n",
        "    for column in df.columns:\n",
        "        information.append([f\"{counter}: {column}\", f\"{df[column].nunique()} unique values\", f\"{df[column].isna().sum()} are NaN\", f\"Type: {df[column].dtype}\"])\n",
        "        counter += 1\n",
        "\n",
        "    print(tabulate(information, headers=['Column', 'Values', 'NaN', 'Type']))\n",
        "\n",
        "    print(\"\\n\")\n",
        "\n",
        "    if small == False:\n",
        "      counter = 0\n",
        "      for column in df.columns:\n",
        "          print(f\"{counter}: {column} has {df[column].nunique()} unique values. {df[column].isna().sum()} are NaN.\")\n",
        "          print(f\"It's {df[column].dtype}. These are the unique values:\")\n",
        "          print(f\"{df[column].unique()}\\n\")\n",
        "          counter += 1"
      ]
    },
    {
      "cell_type": "code",
      "execution_count": null,
      "metadata": {
        "colab": {
          "base_uri": "https://localhost:8080/"
        },
        "id": "YlDzXUwjrTDH",
        "outputId": "6d930809-b689-4737-eb68-ca62e02971e2"
      },
      "outputs": [
        {
          "data": {
            "text/plain": [
              "(13897047, 34)"
            ]
          },
          "execution_count": 9,
          "metadata": {},
          "output_type": "execute_result"
        }
      ],
      "source": [
        "df.shape"
      ]
    },
    {
      "cell_type": "code",
      "execution_count": null,
      "metadata": {
        "colab": {
          "base_uri": "https://localhost:8080/",
          "height": 358
        },
        "id": "yvO0ssYKBHZg",
        "outputId": "53173460-d313-488a-d53f-b3cbaea34857"
      },
      "outputs": [
        {
          "data": {
            "text/plain": [
              "<matplotlib.axes._subplots.AxesSubplot at 0x7f15cd590f90>"
            ]
          },
          "execution_count": 11,
          "metadata": {},
          "output_type": "execute_result"
        },
        {
          "data": {
            "image/png": "[encoded data removed]",
            "text/plain": [
              "<Figure size 432x288 with 1 Axes>"
            ]
          },
          "metadata": {
            "needs_background": "light"
          },
          "output_type": "display_data"
        }
      ],
      "source": [
        "df['osm_type'].value_counts().plot.bar()"
      ]
    },
    {
      "cell_type": "code",
      "execution_count": null,
      "metadata": {
        "colab": {
          "base_uri": "https://localhost:8080/"
        },
        "id": "anf9p-N-B6UR",
        "outputId": "11b88498-dfab-4a11-ce66-7b4e42729848"
      },
      "outputs": [
        {
          "data": {
            "text/plain": [
              "osm_type\n",
              "cycleway          27\n",
              "footway           27\n",
              "living_street     26\n",
              "motorway          26\n",
              "motorway_link     26\n",
              "path              27\n",
              "pedestrian        23\n",
              "primary           27\n",
              "primary_link      23\n",
              "residential       27\n",
              "secondary         27\n",
              "secondary_link    26\n",
              "service           26\n",
              "steps             25\n",
              "tertiary          27\n",
              "tertiary_link     24\n",
              "track             21\n",
              "unclassified      27\n",
              "Name: suitcase_id, dtype: int64"
            ]
          },
          "execution_count": 12,
          "metadata": {},
          "output_type": "execute_result"
        }
      ],
      "source": [
        "df.groupby('osm_type')['suitcase_id'].nunique()"
      ]
    },
    {
      "cell_type": "markdown",
      "metadata": {
        "id": "IwtAArhaDhJ7"
      },
      "source": [
        "It looks like the osm type uses always from 21 to all(27) of the suitcase_id"
      ]
    },
    {
      "cell_type": "code",
      "execution_count": null,
      "metadata": {
        "colab": {
          "base_uri": "https://localhost:8080/"
        },
        "id": "m1bV-xhTDwXm",
        "outputId": "3f88ec1f-7409-4fbf-9691-06bf3ccf80b0"
      },
      "outputs": [
        {
          "name": "stdout",
          "output_type": "stream",
          "text": [
            "There are 6797 different OSM\n",
            "There are 13745 different Edge\n"
          ]
        }
      ],
      "source": [
        "print_var1 = df['osm_id'].nunique()\n",
        "print(f\"There are {print_var1} different OSM\")\n",
        "\n",
        "print_var1 = df['edge_id'].nunique()\n",
        "print(f\"There are {print_var1} different Edge\")"
      ]
    },
    {
      "cell_type": "markdown",
      "metadata": {
        "id": "vgh2vzpMFxrU"
      },
      "source": [
        "What does suitcase mean?"
      ]
    },
    {
      "cell_type": "code",
      "execution_count": null,
      "metadata": {
        "colab": {
          "base_uri": "https://localhost:8080/"
        },
        "id": "ufL5qEB1F1R1",
        "outputId": "a410f466-6be1-4749-8e5f-82cdfea7db52"
      },
      "outputs": [
        {
          "data": {
            "text/plain": [
              "array([ 86, 101,  70, 105, 111,  95, 102, 109,  63,  94,  78, 110,  92,\n",
              "       104, 108,  79, 107, 112, 103,  75, 106,  74,  84, 116, 120, 118,\n",
              "       121])"
            ]
          },
          "execution_count": 14,
          "metadata": {},
          "output_type": "execute_result"
        }
      ],
      "source": [
        "df['suitcase_id'].unique()"
      ]
    },
    {
      "cell_type": "code",
      "execution_count": null,
      "metadata": {
        "colab": {
          "base_uri": "https://localhost:8080/"
        },
        "id": "Ubs0zCW0acAW",
        "outputId": "9d332c03-52f5-468b-e33d-64afde9774e0"
      },
      "outputs": [
        {
          "name": "stdout",
          "output_type": "stream",
          "text": [
            "Data Frame has 13897047 rows and 34 rows\n",
            "\n",
            "These are the column names:\n",
            "Column                  Values                 NaN               Type\n",
            "----------------------  ---------------------  ----------------  -------------\n",
            "0: suitcase_id          27 unique values       0 are NaN         Type: int64\n",
            "1: date_utc             3943831 unique values  0 are NaN         Type: object\n",
            "2: lat                  259642 unique values   0 are NaN         Type: float64\n",
            "3: lon                  260396 unique values   0 are NaN         Type: float64\n",
            "4: edge_id              13745 unique values    0 are NaN         Type: object\n",
            "5: osm_id               6797 unique values     0 are NaN         Type: int64\n",
            "6: osm_type             18 unique values       0 are NaN         Type: object\n",
            "7: 1                    178 unique values      12249775 are NaN  Type: float64\n",
            "8: 2                    161 unique values      11059193 are NaN  Type: float64\n",
            "9: 3                    177 unique values      13018129 are NaN  Type: float64\n",
            "10: 4                   48 unique values       12679268 are NaN  Type: float64\n",
            "11: 5                   21 unique values       13688303 are NaN  Type: float64\n",
            "12: 7                   10 unique values       13861042 are NaN  Type: float64\n",
            "13: 8                   9 unique values        13883371 are NaN  Type: float64\n",
            "14: 14                  5 unique values        13859140 are NaN  Type: float64\n",
            "15: 16                  4 unique values        13896952 are NaN  Type: float64\n",
            "16: 25                  4 unique values        13889579 are NaN  Type: float64\n",
            "17: 26                  12 unique values       13889940 are NaN  Type: float64\n",
            "18: 27                  44 unique values       13796910 are NaN  Type: float64\n",
            "19: 28                  7 unique values        13889767 are NaN  Type: float64\n",
            "20: 29                  19 unique values       13887795 are NaN  Type: float64\n",
            "21: 30                  10 unique values       13860092 are NaN  Type: float64\n",
            "22: 31                  5 unique values        13893080 are NaN  Type: float64\n",
            "23: 32                  7 unique values        13862239 are NaN  Type: float64\n",
            "24: 33                  3 unique values        13896733 are NaN  Type: float64\n",
            "25: 35                  35 unique values       13745205 are NaN  Type: float64\n",
            "26: 36                  3 unique values        13891692 are NaN  Type: float64\n",
            "27: 37                  9 unique values        13849961 are NaN  Type: float64\n",
            "28: 39                  11 unique values       13807968 are NaN  Type: float64\n",
            "29: 49                  7 unique values        13850205 are NaN  Type: float64\n",
            "30: 61                  26 unique values       13878773 are NaN  Type: float64\n",
            "31: 63                  6 unique values        13878484 are NaN  Type: float64\n",
            "32: value.Vehicle_Mode  1 unique values        0 are NaN         Type: float64\n",
            "33: speed               1 unique values        0 are NaN         Type: float64\n",
            "\n",
            "\n"
          ]
        }
      ],
      "source": [
        "visualize(df, small=True)"
      ]
    },
    {
      "cell_type": "markdown",
      "metadata": {
        "id": "fcoB02Nm-sJz"
      },
      "source": [
        "## EDA with DataFrame that contains only the rows with data"
      ]
    },
    {
      "cell_type": "code",
      "execution_count": null,
      "metadata": {
        "colab": {
          "base_uri": "https://localhost:8080/"
        },
        "id": "VsjbiOZOCV7p",
        "outputId": "c75cdb7f-1abe-4050-d7a3-90055279a696"
      },
      "outputs": [
        {
          "name": "stdout",
          "output_type": "stream",
          "text": [
            "suitcase_id, date_utc, lat, lon, edge_id, osm_id, osm_type, 1, 2, 3, 4, 5, 7, 8, 14, 16, 25, 26, 27, 28, 29, 30, 31, 32, 33, 35, 36, 37, 39, 49, 61, 63, value.Vehicle_Mode, speed, \n"
          ]
        }
      ],
      "source": [
        "columns = ''\n",
        "for col in df.columns:\n",
        "    columns += f\"{col}, \"\n",
        "print(columns)"
      ]
    },
    {
      "cell_type": "code",
      "execution_count": null,
      "metadata": {
        "id": "G9lvg6VbrxuA"
      },
      "outputs": [],
      "source": [
        "# Create DF whith the values that do have data in the numerical columns\n",
        "numerical_columns = ['1', '2', '3', '4', '5', '7', '8', '14', '16', '25', '26', '27', '28', '29', '30', '31', '32', '33', '35', '36', '37', '39', '49', '61', '63']\n",
        "df_small = df[~df[numerical_columns].isnull().all(axis=1)]\n",
        "df_small = df_small.drop(['value.Vehicle_Mode', 'speed'], axis = 1)"
      ]
    },
    {
      "cell_type": "code",
      "execution_count": 46,
      "metadata": {
        "colab": {
          "base_uri": "https://localhost:8080/"
        },
        "id": "qPYG1oRpx4e_",
        "outputId": "a091d8b6-4058-44af-b1e9-6dde3e9769a2"
      },
      "outputs": [
        {
          "data": {
            "text/plain": [
              "25"
            ]
          },
          "execution_count": 46,
          "metadata": {},
          "output_type": "execute_result"
        }
      ],
      "source": [
        "len(numerical_columns)"
      ]
    },
    {
      "cell_type": "code",
      "execution_count": null,
      "metadata": {
        "colab": {
          "base_uri": "https://localhost:8080/"
        },
        "id": "krJGOOF2g0wC",
        "outputId": "54d0e342-2e1c-43e4-dfaf-b05ecc1d50a6"
      },
      "outputs": [
        {
          "data": {
            "text/plain": [
              "(5453813, 32)"
            ]
          },
          "execution_count": 21,
          "metadata": {},
          "output_type": "execute_result"
        }
      ],
      "source": [
        "df_small.shape"
      ]
    },
    {
      "cell_type": "code",
      "execution_count": null,
      "metadata": {
        "colab": {
          "base_uri": "https://localhost:8080/",
          "height": 358
        },
        "id": "gMe_DplRdPs8",
        "outputId": "06bbdc97-bdf3-44fd-f459-965854086079"
      },
      "outputs": [
        {
          "data": {
            "text/plain": [
              "<matplotlib.axes._subplots.AxesSubplot at 0x7f15cb829c10>"
            ]
          },
          "execution_count": 22,
          "metadata": {},
          "output_type": "execute_result"
        },
        {
          "data": {
            "image/png": "[encoded data removed]",
            "text/plain": [
              "<Figure size 432x288 with 1 Axes>"
            ]
          },
          "metadata": {
            "needs_background": "light"
          },
          "output_type": "display_data"
        }
      ],
      "source": [
        "df_small['osm_type'].value_counts().plot.bar()"
      ]
    },
    {
      "cell_type": "code",
      "execution_count": null,
      "metadata": {
        "id": "MlsGcNkfpMbs"
      },
      "outputs": [],
      "source": [
        "# df_small.iloc[9218]\n",
        "# Some entries have more than one numerical column"
      ]
    },
    {
      "cell_type": "markdown",
      "metadata": {
        "id": "HTybgodvdWil"
      },
      "source": [
        "## Data Frame with dirtiest entries (assuming numerical data means category of trash"
      ]
    },
    {
      "cell_type": "code",
      "execution_count": null,
      "metadata": {
        "id": "Bn5G_THGde0e"
      },
      "outputs": [],
      "source": [
        "df_dirty = df_small.copy()\n",
        "df_dirty['sum'] = df_dirty[numerical_columns].sum(axis=1)\n",
        "df_dirty = df_dirty.drop(numerical_columns, axis = 1)"
      ]
    },
    {
      "cell_type": "code",
      "execution_count": null,
      "metadata": {
        "colab": {
          "base_uri": "https://localhost:8080/"
        },
        "id": "QnGx0C9aen3B",
        "outputId": "04f7b97a-af9a-4a75-bd92-86a27628e90d"
      },
      "outputs": [
        {
          "data": {
            "text/plain": [
              "array([  1.,   3.,   2.,   4.,   6.,   7.,   5.,  14.,  17.,   8.,   9.,\n",
              "        13.,  10.,  11.,  19.,  25.,  44.,  16.,  12.,  26.,  21.,  35.,\n",
              "        18.,  29.,  43.,  22.,  15.,  24.,  53.,  74.,  38.,  27.,  20.,\n",
              "        46.,  40.,  33.,  45.,  28.,  31.,  30.,  51.,  73.,  48.,  32.,\n",
              "        41.,  67.,  34.,  23.,  42.,  39.,  36.,  54.,  92.,  72.,  37.,\n",
              "        49.,  70.,  61.,  66.,  58.,  64.,  71.,  62.,  52.,  57.,  60.,\n",
              "        47.,  77.,  55.,  94.,  90.,  69.,  68.,  50.,  87.,  79.,  65.,\n",
              "        63.,  78.,  56., 100., 160.,  96., 121., 127., 141., 130., 119.,\n",
              "       117., 124., 126.,  89.,  93.,  85., 102.,  83., 136.,  59., 158.,\n",
              "        97.,  76.,  98., 171.,  81.,  84., 198., 163., 233., 137., 253.,\n",
              "       110., 111.,  75.,  80., 107., 114., 103.,  86.,  88., 123., 115.,\n",
              "       112.,  82.,  95., 109.,  99., 108., 118., 106., 167., 132., 105.,\n",
              "       148., 152., 153., 164., 139., 149., 133., 147., 146.,  91., 101.,\n",
              "       142., 116., 135., 104., 113., 129., 176., 155., 193., 120., 125.,\n",
              "       159., 122., 128., 131., 138., 156., 154., 157., 150., 144., 162.,\n",
              "       161., 168., 173., 170., 179., 210., 134., 174., 178., 172., 190.,\n",
              "       221., 151., 207., 189., 166., 187., 175., 219., 143., 140., 205.,\n",
              "       202., 204., 197., 184., 307., 321., 286., 269., 145., 280., 196.,\n",
              "       220., 275., 325., 225., 181., 165., 267., 252., 242., 230., 251.,\n",
              "       200., 188., 180., 183., 387., 311., 240., 313., 303., 257., 191.,\n",
              "       261., 182., 237.])"
            ]
          },
          "execution_count": 30,
          "metadata": {},
          "output_type": "execute_result"
        }
      ],
      "source": [
        "df_dirty['sum'].unique()"
      ]
    },
    {
      "cell_type": "code",
      "execution_count": null,
      "metadata": {
        "id": "-o9h4m-4henM"
      },
      "outputs": [],
      "source": [
        "df_dirty = df_dirty[df_dirty['sum'] >= 20]"
      ]
    },
    {
      "cell_type": "code",
      "execution_count": null,
      "metadata": {
        "colab": {
          "base_uri": "https://localhost:8080/"
        },
        "id": "h3joIRvvh-y5",
        "outputId": "c5bbe904-c1eb-4305-f849-38b55ba6aa95"
      },
      "outputs": [
        {
          "data": {
            "text/plain": [
              "(122047, 8)"
            ]
          },
          "execution_count": 32,
          "metadata": {},
          "output_type": "execute_result"
        }
      ],
      "source": [
        "df_dirty.shape"
      ]
    },
    {
      "cell_type": "code",
      "execution_count": null,
      "metadata": {
        "colab": {
          "base_uri": "https://localhost:8080/"
        },
        "id": "sB3gv8VXgMiu",
        "outputId": "9a9b2ece-fb2b-4d45-8cd0-da6b907d2299"
      },
      "outputs": [
        {
          "name": "stdout",
          "output_type": "stream",
          "text": [
            "sum\n",
            "20.0     10529\n",
            "21.0      9554\n",
            "22.0      8401\n",
            "23.0      7700\n",
            "24.0      6992\n",
            "         ...  \n",
            "311.0        1\n",
            "313.0        1\n",
            "321.0        2\n",
            "325.0        1\n",
            "387.0        1\n",
            "Name: suitcase_id, Length: 204, dtype: int64\n"
          ]
        }
      ],
      "source": [
        "print(df_dirty.groupby('sum')['suitcase_id'].count())"
      ]
    }
  ],
  "metadata": {
    "colab": {
      "machine_shape": "hm",
      "name": "Cortexia_day_1.ipynb",
      "provenance": []
    },
    "gpuClass": "standard",
    "kernelspec": {
      "display_name": "Python 3",
      "name": "python3"
    },
    "language_info": {
      "name": "python"
    }
  },
  "nbformat": 4,
  "nbformat_minor": 0
}
