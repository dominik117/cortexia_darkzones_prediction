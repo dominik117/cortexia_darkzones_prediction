{
  "cells": [
    {
      "cell_type": "code",
      "execution_count": 1,
      "metadata": {
        "id": "q2bEgj4Xl0Q2"
      },
      "outputs": [],
      "source": [
        "# Install OSMNX only if working on Google Colab\n",
        "import sys\n",
        "IN_COLAB = 'google.colab' in sys.modules\n",
        "if IN_COLAB:\n",
        "    !pip install osmnx"
      ]
    },
    {
      "cell_type": "code",
      "execution_count": 1,
      "metadata": {
        "colab": {
          "base_uri": "https://localhost:8080/"
        },
        "id": "Hz8-MX7cl0Q5",
        "outputId": "50b77e61-7ab8-406a-ead5-92a6087a11c0"
      },
      "outputs": [],
      "source": [
        "# Load datasets if working on Google Colab\n",
        "import sys\n",
        "IN_COLAB = 'google.colab' in sys.modules\n",
        "if IN_COLAB:\n",
        "    from pydrive.auth import GoogleAuth\n",
        "    from pydrive.drive import GoogleDrive\n",
        "    from google.colab import auth\n",
        "    from oauth2client.client import GoogleCredentials\n",
        "    auth.authenticate_user()\n",
        "    gauth = GoogleAuth()\n",
        "    gauth.credentials = GoogleCredentials.get_application_default()\n",
        "    drive = GoogleDrive(gauth)\n",
        "    file_id = '...'\n",
        "    downloaded = drive.CreateFile({'id':file_id})\n",
        "    downloaded.FetchMetadata(fetch_all=True)\n",
        "    downloaded.GetContentFile(downloaded.metadata['title'])\n",
        "    f = open(\"V2data_6mounts2022.csv.zip\", \"wb\")\n",
        "    f.write(downloaded.content.getbuffer())\n",
        "    f.close()\n",
        "    !unzip V2data_6mounts2022.csv.zip"
      ]
    },
    {
      "cell_type": "code",
      "execution_count": 2,
      "metadata": {
        "id": "g-fT2Ow_RM4b"
      },
      "outputs": [],
      "source": [
        "import pandas as pd\n",
        "import numpy as np\n",
        "import matplotlib.pyplot as plt\n",
        "import seaborn as sns\n",
        "import time\n",
        "import datetime\n",
        "import sys\n",
        "import pickle\n",
        "import osmnx as ox\n",
        "import networkx as nx\n",
        "import urllib, json\n",
        "import requests\n",
        "\n",
        "IN_COLAB = 'google.colab' in sys.modules\n",
        "if IN_COLAB:\n",
        "    r = requests.get('https://raw.githubusercontent.com/dominik117/cortexia-darkzones-prediction/main/src/helper_scripts/data_processor.py')\n",
        "    with open('data_processor.py', 'w') as f:\n",
        "        f.write(r.text)\n",
        "        import data_processor\n",
        "    r = requests.get('https://raw.githubusercontent.com/dominik117/cortexia-darkzones-prediction/main/src/helper_scripts/darkzone_creator.py')\n",
        "    with open('darkzone_creator.py', 'w') as f:\n",
        "        f.write(r.text)\n",
        "        import darkzone_creator\n",
        "else:\n",
        "    sys.path.insert(1, '../../src/')\n",
        "    import helper_scripts.data_processor as data_processor\n",
        "\n",
        "sns.set_style('whitegrid')\n",
        "pd.set_option('display.max_columns', None)\n",
        "pd.set_option('display.max_rows', 300)"
      ]
    },
    {
      "cell_type": "markdown",
      "metadata": {
        "id": "hQaIlaszqDuo"
      },
      "source": [
        "## Dataset Import"
      ]
    },
    {
      "cell_type": "code",
      "execution_count": 2,
      "metadata": {
        "id": "6pHwDoOZqDur"
      },
      "outputs": [],
      "source": [
        "IN_COLAB = 'google.colab' in sys.modules\n",
        "if IN_COLAB: df_main_url = '/content/data.csv'\n",
        "else: df_main_url = '../../../Information/output/datav2.csv'\n",
        "df_main = pd.read_csv(df_main_url, dtype = {'place.id': object})\n",
        "df_main.drop('Unnamed: 0', axis=1, inplace=True, errors='ignore')\n",
        "df_main = data_processor.clean_df(df_main)\n",
        "df_main = data_processor.aggregate_df(df_main)\n",
        "df_main['date_utc'] = df_main['date_utc'].astype(str)\n",
        "df_main['row_type'] = \"ground truth\""
      ]
    },
    {
      "cell_type": "code",
      "execution_count": 3,
      "metadata": {
        "id": "FIY4i_eCnYjB"
      },
      "outputs": [],
      "source": [
        "# Load datasets if working on Google Colab\n",
        "import sys\n",
        "IN_COLAB = 'google.colab' in sys.modules\n",
        "if IN_COLAB:\n",
        "    from pydrive.auth import GoogleAuth\n",
        "    from pydrive.drive import GoogleDrive\n",
        "    from google.colab import auth\n",
        "    from oauth2client.client import GoogleCredentials\n",
        "    auth.authenticate_user()\n",
        "    gauth = GoogleAuth()\n",
        "    gauth.credentials = GoogleCredentials.get_application_default()\n",
        "    drive = GoogleDrive(gauth)\n",
        "    file_id = '190i18Wz2-HBXa82iajuNEPpCdFaOVL2r'\n",
        "    downloaded = drive.CreateFile({'id':file_id})\n",
        "    downloaded.FetchMetadata(fetch_all=True)\n",
        "    downloaded.GetContentFile(downloaded.metadata['title'])\n",
        "    f = open(\"darkzones_predicted.csv\", \"wb\")\n",
        "    f.write(downloaded.content.getbuffer())\n",
        "    f.close()\n",
        "\n",
        "if IN_COLAB: df_darkzones_url = '/content/darkzones_predicted.csv'\n",
        "else: df_darkzones_url = '../../src/data/darkzones_predicted.csv'\n",
        "df_darkzones = pd.read_csv(df_darkzones_url)\n",
        "df_darkzones.drop('Unnamed: 0', axis=1, inplace=True, errors='ignore')\n",
        "df_darkzones.drop('predicted_total', axis=1, inplace=True, errors='ignore')\n",
        "df_darkzones.rename(columns = {'actual_total':'total_litter'}, inplace = True)"
      ]
    },
    {
      "cell_type": "code",
      "execution_count": 4,
      "metadata": {
        "id": "rerPl_Dll0RK"
      },
      "outputs": [],
      "source": [
        "df = pd.concat([df_main, df_darkzones], ignore_index=True)"
      ]
    },
    {
      "cell_type": "markdown",
      "metadata": {
        "id": "SX7sIGQSH2A_"
      },
      "source": [
        "# Mapping"
      ]
    },
    {
      "cell_type": "code",
      "execution_count": 9,
      "metadata": {
        "id": "OPZRzruzl0RW"
      },
      "outputs": [],
      "source": [
        "def clean_coordinates(coordinates):\n",
        "    new = []\n",
        "    for pair in coordinates:\n",
        "        new.append((pair[1], pair[0]))\n",
        "    return new\n",
        "with urllib.request.urlopen('https://raw.githubusercontent.com/dominik117/data-science-toolkit/main/data/edges.geojson') as url:\n",
        "    data = json.loads(url.read().decode())\n",
        "df_edges = pd.DataFrame(data['features'])  # <-- The only column needed\n",
        "df_edges.rename(columns = {'id':'edge_id'}, inplace = True)\n",
        "df_edges = pd.concat([df_edges.drop(['geometry'], axis=1), df_edges['geometry'].apply(pd.Series)], axis=1)  # <--Explode dictionary inside cells\n",
        "df_edges = pd.concat([df_edges.drop(['properties'], axis=1), df_edges['properties'].apply(pd.Series)], axis=1)  # <--Explode dictionary inside cells\n",
        "df_edges = df_edges[['edge_id', 'coordinates', 'name', 'length']]\n",
        "df_edges['coordinates'] = df_edges['coordinates'].apply(clean_coordinates)\n",
        "df = pd.merge(df, df_edges[['edge_id', 'length']], how=\"left\", on=\"edge_id\")"
      ]
    },
    {
      "cell_type": "code",
      "execution_count": 6,
      "metadata": {},
      "outputs": [],
      "source": [
        "north = 47.574840  #47.569840\n",
        "south = 47.559453  #47.565453\n",
        "west = 7.579114  #7.585114\n",
        "east = 7.609701  #7.594701\n",
        "\n",
        "route = []\n",
        "for index, row in df_edges.iterrows():\n",
        "    for pair in row['coordinates']:\n",
        "        if (pair[0] < north) & (pair[0] > south) & (pair[1] > west) & (pair[1] < east):\n",
        "            route.append(row['edge_id'])\n",
        "route_set = set(route)\n",
        "route = []\n",
        "for item in route_set:\n",
        "    route.append(item)"
      ]
    },
    {
      "cell_type": "code",
      "execution_count": null,
      "metadata": {},
      "outputs": [],
      "source": [
        "import folium\n",
        "\n",
        "df_map = df[(df['date_utc'] == '2022-06-24') & (df['length'] > 25)]\n",
        "\n",
        "df_map_route = df_map.copy()\n",
        "df_map_route = df_map[pd.DataFrame(df_map['edge_id'].tolist()).isin(route).any(1).values]\n",
        "\n",
        "df_map_ground = df_map_route[(df_map_route['row_type'] == \"ground truth\")]\n",
        "df_map_darkzone = df_map_route[(df_map_route['row_type'] == \"darkzone\")]\n",
        "df_map.shape\n",
        "\n",
        "# cartodbdark_matter, cartodbpositron\n",
        "m = folium.Map(location=[47.5596, 7.5886], zoom_start=13.5, prefer_canvas=True, tiles=\"cartodbpositron\")\n",
        "\n",
        "for index, row in df_map_ground.iterrows():\n",
        "        loc = df_edges['coordinates'][df_edges['edge_id'] == row['edge_id']].tolist()\n",
        "        loc = loc[0]\n",
        "        folium.PolyLine(loc, color='seagreen',weight=2,opacity=1).add_to(m)  #3e75bd #00bbf9 #049ed1\n",
        "for index, row in df_map_darkzone.iterrows():\n",
        "        loc = df_edges['coordinates'][df_edges['edge_id'] == row['edge_id']].tolist()\n",
        "        loc = loc[0]\n",
        "        folium.PolyLine(loc, color='seagreen',weight=2,opacity=1).add_to(m)   #fee440  #ebc810\n",
        "# royalblue, seagreen, indianred, #087E8B\n",
        "m"
      ]
    },
    {
      "cell_type": "code",
      "execution_count": 34,
      "metadata": {
        "id": "tvbWmpeBl0Rc"
      },
      "outputs": [],
      "source": [
        "m.save('map.html')"
      ]
    },
    {
      "cell_type": "code",
      "execution_count": null,
      "metadata": {
        "id": "5i0rI2FMl0Rd"
      },
      "outputs": [],
      "source": []
    }
  ],
  "metadata": {
    "colab": {
      "machine_shape": "hm",
      "name": "dominik_day_12_13_mapping.ipynb",
      "provenance": []
    },
    "gpuClass": "standard",
    "kernelspec": {
      "display_name": "Python 3.10.4 ('cortexia3')",
      "language": "python",
      "name": "python3"
    },
    "language_info": {
      "codemirror_mode": {
        "name": "ipython",
        "version": 3
      },
      "file_extension": ".py",
      "mimetype": "text/x-python",
      "name": "python",
      "nbconvert_exporter": "python",
      "pygments_lexer": "ipython3",
      "version": "3.10.5"
    },
    "vscode": {
      "interpreter": {
        "hash": "393eaa007fcd2c7a4c179b44934792a94932bcce71862c954e102a685fb04132"
      }
    }
  },
  "nbformat": 4,
  "nbformat_minor": 0
}
