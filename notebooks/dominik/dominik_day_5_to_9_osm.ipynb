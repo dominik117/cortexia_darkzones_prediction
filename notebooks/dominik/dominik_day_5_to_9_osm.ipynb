{
  "cells": [
    {
      "cell_type": "code",
      "execution_count": 2,
      "metadata": {
        "colab": {
          "base_uri": "https://localhost:8080/"
        },
        "id": "hl7w6-dQqDug",
        "outputId": "cd650202-4a88-4408-9731-dbc1e948e25c"
      },
      "outputs": [],
      "source": [
        "# Load datasets if working on Google Colab\n",
        "import sys\n",
        "IN_COLAB = 'google.colab' in sys.modules\n",
        "\n",
        "if IN_COLAB:\n",
        "    from pydrive.auth import GoogleAuth\n",
        "    from pydrive.drive import GoogleDrive\n",
        "    from google.colab import auth\n",
        "    from oauth2client.client import GoogleCredentials\n",
        "\n",
        "    auth.authenticate_user()\n",
        "    gauth = GoogleAuth()\n",
        "    gauth.credentials = GoogleCredentials.get_application_default()\n",
        "    drive = GoogleDrive(gauth)\n",
        "\n",
        "    file_id = '...'\n",
        "    downloaded = drive.CreateFile({'id':file_id})\n",
        "    downloaded.FetchMetadata(fetch_all=True)\n",
        "    downloaded.GetContentFile(downloaded.metadata['title'])\n",
        "\n",
        "    f = open(\"V2data_6mounts2022.csv.zip\", \"wb\")\n",
        "    f.write(downloaded.content.getbuffer())\n",
        "    f.close()\n",
        "\n",
        "    !unzip V2data_6mounts2022.csv.zip"
      ]
    },
    {
      "cell_type": "code",
      "execution_count": 1,
      "metadata": {
        "id": "g-fT2Ow_RM4b"
      },
      "outputs": [],
      "source": [
        "import pandas as pd\n",
        "import numpy as np\n",
        "import sklearn\n",
        "import matplotlib.pyplot as plt\n",
        "import seaborn as sns\n",
        "import urllib.request\n",
        "import json \n",
        "import time\n",
        "import sys\n",
        "\n",
        "from sklearn.model_selection import train_test_split\n",
        "from sklearn.metrics import confusion_matrix, classification_report, f1_score\n",
        "from sklearn.preprocessing import StandardScaler, OneHotEncoder, MinMaxScaler\n",
        "from sklearn.compose import ColumnTransformer\n",
        "from sklearn.pipeline import Pipeline\n",
        "from sklearn.impute import SimpleImputer, KNNImputer\n",
        "from sklearn.linear_model import LinearRegression\n",
        "\n",
        "from datetime import datetime, date\n",
        "import calendar\n",
        "\n",
        "import plotly.express as px\n",
        "import plotly.graph_objects as go\n",
        "\n",
        "import osmnx as ox\n",
        "import folium\n",
        "\n",
        "sns.set_style('whitegrid')\n",
        "pd.set_option('display.max_columns', None)\n",
        "pd.set_option('display.max_rows', 300)"
      ]
    },
    {
      "cell_type": "markdown",
      "metadata": {
        "id": "hQaIlaszqDuo"
      },
      "source": [
        "# Dataset Import"
      ]
    },
    {
      "cell_type": "markdown",
      "metadata": {
        "id": "B9Sz2zeGqDuq"
      },
      "source": [
        "### Import both the old and the new datasets recieved"
      ]
    },
    {
      "cell_type": "code",
      "execution_count": 4,
      "metadata": {
        "id": "6pHwDoOZqDur"
      },
      "outputs": [],
      "source": [
        "# Assing url deppending if working on Google Colab or outside of it\n",
        "IN_COLAB = 'google.colab' in sys.modules\n",
        "\n",
        "if IN_COLAB:\n",
        "    df_main_url = '/content/data.csv'\n",
        "    df_old_url = '/content/output/all_in_one.csv'\n",
        "else: \n",
        "    df_main_url = '../../data/datav2.csv'\n",
        "    df_old_url = '../../Information/output/all_in_one.csv'"
      ]
    },
    {
      "cell_type": "code",
      "execution_count": 5,
      "metadata": {
        "colab": {
          "base_uri": "https://localhost:8080/"
        },
        "id": "wlt1L9Q8RPQh",
        "outputId": "15252e71-4dcc-412b-f671-91b39b006129"
      },
      "outputs": [
        {
          "name": "stdout",
          "output_type": "stream",
          "text": [
            "To merge the old dataframe, change merge_old_df to True. [NOT WORKING FOR THE MOMENT\n"
          ]
        }
      ],
      "source": [
        "merge_old_df = False\n",
        "\n",
        "df_main = pd.read_csv(df_main_url, dtype = {'place.id': object})\n",
        "\n",
        "if merge_old_df:\n",
        "    df_old = pd.read_csv(df_old_url)\n",
        "else:\n",
        "    print(\"To merge the old dataframe, change merge_old_df to True. [NOT WORKING FOR THE MOMENT\")"
      ]
    },
    {
      "cell_type": "markdown",
      "metadata": {
        "id": "kPVCXegnqDuu"
      },
      "source": [
        "### Drop unneeded columns"
      ]
    },
    {
      "cell_type": "code",
      "execution_count": 6,
      "metadata": {
        "id": "3-MqOqkcqDuv"
      },
      "outputs": [],
      "source": [
        "not_needed_columns = ['value.Vehicle_Mode', 'speed', '_id',]\n",
        "df_main.drop(not_needed_columns, axis=1, inplace=True, errors='ignore')\n",
        "\n",
        "if 'df_old' in locals():  # Only run if the old DF was created\n",
        "    df_old.drop(not_needed_columns, axis=1, inplace=True, errors='ignore')"
      ]
    },
    {
      "cell_type": "markdown",
      "metadata": {
        "id": "DRONjwwDqDuw"
      },
      "source": [
        "### Rename columns to naming convention used"
      ]
    },
    {
      "cell_type": "code",
      "execution_count": 7,
      "metadata": {
        "id": "QP75a36OqDux"
      },
      "outputs": [],
      "source": [
        "df_main.rename(columns = {'suitcase.id':'suitcase_id', 'date.utc':'date_utc', \n",
        "                    'edge.id':'edge_id', 'edge.osmid':'edge_osmid', \n",
        "                    'place.id':'place_id', 'osm.highway':'osm_highway'}, inplace=True, errors='ignore')\n",
        "\n",
        "if 'df_old' in locals():  # Only run if the old DF was created\n",
        "    df_old.rename(columns = {'osm_id':'edge_osmid', 'osm_type':'osm_highway'}, inplace=True, errors='ignore')"
      ]
    },
    {
      "cell_type": "markdown",
      "metadata": {
        "id": "RSdR2kSnqDuy"
      },
      "source": [
        "### Merge the two DataFrames and rearrange columns"
      ]
    },
    {
      "cell_type": "code",
      "execution_count": 8,
      "metadata": {
        "id": "MEGyAwSEqDuz"
      },
      "outputs": [],
      "source": [
        "if 'df_old' in locals():  # Only run if the old DF was created\n",
        "    df_merged = pd.concat([df_old, df_main], axis=0)\n",
        "    # Remove columns at the tail and add them to a variable, then insert where it makes more sense\n",
        "    df_merged.insert(7, 'place_id', df_merged.pop('place_id'))\n",
        "    df_merged.insert(15, '10', df_merged.pop('10'))\n",
        "    df_merged.insert(16, '13', df_merged.pop('13'))\n",
        "    df_merged.insert(19, '19', df_merged.pop('19'))\n",
        "    df_merged.insert(20, '21', df_merged.pop('21'))"
      ]
    },
    {
      "cell_type": "markdown",
      "metadata": {
        "id": "PpKEo5DQqDuz"
      },
      "source": [
        "### Make a copy of the dataframe to work with"
      ]
    },
    {
      "cell_type": "code",
      "execution_count": 9,
      "metadata": {
        "id": "v4vg37B3qDu0"
      },
      "outputs": [],
      "source": [
        "df = df_merged.copy() if 'df_old' in locals() else df_main.copy()\n",
        "# df_test = df[~df['place.id'].isna()]"
      ]
    },
    {
      "cell_type": "markdown",
      "metadata": {
        "id": "qT30PkZQqDu0"
      },
      "source": [
        "# Data Cleaning"
      ]
    },
    {
      "cell_type": "markdown",
      "metadata": {
        "id": "HZat61yKqDu1"
      },
      "source": [
        "### Basic data cleaning"
      ]
    },
    {
      "cell_type": "code",
      "execution_count": 10,
      "metadata": {
        "id": "TDSjcp0-qDu1"
      },
      "outputs": [],
      "source": [
        "# List of the litter categories columns\n",
        "litter_columns = []\n",
        "for item in df.columns.to_list():\n",
        "    if item.isdigit(): litter_columns.append(item) \n",
        "\n",
        "def clean_df(df_arg, mapping):\n",
        "    df = df_arg\n",
        "\n",
        "    # Drop empty rows\n",
        "    df = df.dropna(subset=[mapping]).copy()\n",
        "\n",
        "    # Drop place_id for now, it's only present in 4% of the data\n",
        "    #   and it has the same use as edge_id, but with different naming convention\n",
        "    df.drop('place_id', axis=1, inplace=True)\n",
        "\n",
        "    # Convert to datetime and remove the time\n",
        "    df['date_utc'] = pd.to_datetime(df['date_utc']).dt.date\n",
        "\n",
        "    # Fill NaNs with 0 and convert litter columns to integer\n",
        "    df[litter_columns] = df[litter_columns].fillna(0)\n",
        "    df[litter_columns] = df[litter_columns].astype(np.int64) \n",
        "\n",
        "    # Clean and sort edge_id\n",
        "    # df['edge_id'] = df['edge_id'].apply(lambda x: tuple(x[1:-1].split(', ')[0:2]))\n",
        "    # df['edge_id'] = df['edge_id'].apply(lambda x: sorted(x))  # --> sort it so order doesn't matter\n",
        "    # df['edge_id'] = df['edge_id'].apply(lambda x: (', ').join(x))  # --> make it a string\n",
        "    # We might not sort and modify the syntax of the edge_id anymore, since it is needed to compare with the OSM geojson file\n",
        "\n",
        "    # Add a sum of all the litter\n",
        "    df['total_litter'] = df[litter_columns].sum(axis=1)\n",
        "\n",
        "    return df"
      ]
    },
    {
      "cell_type": "code",
      "execution_count": 11,
      "metadata": {
        "id": "TWQcgkXlqDu2"
      },
      "outputs": [],
      "source": [
        "df = clean_df(df, 'edge_id')"
      ]
    },
    {
      "cell_type": "markdown",
      "metadata": {
        "id": "mZgukM84qDu2"
      },
      "source": [
        "# Data Aggregation"
      ]
    },
    {
      "cell_type": "markdown",
      "metadata": {
        "id": "GDr_3ha78Cpq"
      },
      "source": [
        "## Aggregate on date and edge"
      ]
    },
    {
      "cell_type": "code",
      "execution_count": 12,
      "metadata": {
        "id": "brmF7RmLqDu3"
      },
      "outputs": [],
      "source": [
        "# Aggregate based on unique edge_id, date_utc and suitcase_id\n",
        "aggregation_type = 'sum'\n",
        "\n",
        "to_agg = {'edge_osmid' : 'first', 'osm_highway' : 'first', 'total_litter' : aggregation_type}\n",
        "\n",
        "for litter in litter_columns:\n",
        "    to_agg[litter] = aggregation_type\n",
        "\n",
        "df = df.groupby(['date_utc', 'edge_id'], as_index=False).agg(to_agg)"
      ]
    },
    {
      "cell_type": "markdown",
      "metadata": {
        "id": "78pTg8mFqDu3"
      },
      "source": [
        "### Small function to prove if there needs to be aggregation or everything is aggregated"
      ]
    },
    {
      "cell_type": "code",
      "execution_count": 13,
      "metadata": {
        "colab": {
          "base_uri": "https://localhost:8080/"
        },
        "id": "RU13F7WYqDu4",
        "outputId": "d9a0eb6e-a764-42e7-fca8-de3a20382657"
      },
      "outputs": [
        {
          "name": "stdout",
          "output_type": "stream",
          "text": [
            "To check if the Dataframe needs to be aggregated, change the variable 'chack_agg' to True\n",
            "Warning: this function takes 2 to 4 minutes to run\n"
          ]
        }
      ],
      "source": [
        "# TODO: Change from iterrows to itertuples\n",
        "\n",
        "check_agg = False\n",
        "\n",
        "this_date = ''\n",
        "day_edges = []\n",
        "log = []\n",
        "\n",
        "if check_agg:\n",
        "    for index, row in df.iterrows():\n",
        "        if row['date_utc'] != this_date:\n",
        "            this_date = row['date_utc']  # Set the day we will look into for the next iterations\n",
        "            day_edges = []  # Reset day_edges since it's a new day\n",
        "        \n",
        "        if row['edge_id'] not in day_edges:\n",
        "            day_edges.append(row['edge_id'])\n",
        "        else:  # This means this edge is repeating in a single day, we want to log this\n",
        "            log.append([index, this_date, row['edge_id']])\n",
        "    print(f\"There are {len(log)} rows that need to be aggregated\")\n",
        "else:\n",
        "    print(\"To check if the Dataframe needs to be aggregated, change the variable 'chack_agg' to True\")\n",
        "    print(\"Warning: this function takes 2 to 4 minutes to run\")"
      ]
    },
    {
      "cell_type": "markdown",
      "metadata": {
        "id": "j0INyDbJqDu4"
      },
      "source": [
        "# Feauture Creation"
      ]
    },
    {
      "cell_type": "markdown",
      "metadata": {
        "id": "R7QesIVtqDu5"
      },
      "source": [
        "## Splitting the date"
      ]
    },
    {
      "cell_type": "code",
      "execution_count": 14,
      "metadata": {
        "id": "a2a-1UdFqDu5"
      },
      "outputs": [],
      "source": [
        "# Splitting date to year, month and day to make it a feauture for modeling\n",
        "df['Year'] = pd.DatetimeIndex(df['date_utc']).year\n",
        "df['month'] = pd.DatetimeIndex(df['date_utc']).month\n",
        "df['day'] = pd.DatetimeIndex(df['date_utc']).day\n",
        "\n",
        "# Converting it to object so it's treated as a categorical data when making the pipelines\n",
        "df['Year'] = df['Year'].astype(object)\n",
        "df['month'] = df['month'].astype(object)\n",
        "df['day'] = df['day'].astype(object)"
      ]
    },
    {
      "cell_type": "markdown",
      "metadata": {
        "id": "cdQfPWMoqDu5"
      },
      "source": [
        "## Adding weekday"
      ]
    },
    {
      "cell_type": "code",
      "execution_count": 15,
      "metadata": {
        "id": "WX68ZzsaqDu5"
      },
      "outputs": [],
      "source": [
        "weekdays = ('Monday', 'Tuesday', 'Wednesday', 'Thursday', 'Friday', 'Saturday', 'Sunday')\n",
        "df['weekday'] = pd.to_datetime(df['date_utc']).dt.date.apply(lambda x: x.weekday())\n",
        "df['weekday'] = df['weekday'].apply(lambda x: weekdays[x])"
      ]
    },
    {
      "cell_type": "markdown",
      "metadata": {
        "id": "OIIBB2riqDu6"
      },
      "source": [
        "## Adding weather features"
      ]
    },
    {
      "cell_type": "markdown",
      "metadata": {
        "id": "jBj61bsUqDu7"
      },
      "source": [
        "#### Read the data"
      ]
    },
    {
      "cell_type": "code",
      "execution_count": 16,
      "metadata": {
        "id": "PLx3awJBqDu7"
      },
      "outputs": [],
      "source": [
        "# Assing url deppending if working on Google Colab or outside of it\n",
        "IN_COLAB = 'google.colab' in sys.modules\n",
        "if IN_COLAB:\n",
        "    df_weather = pd.read_csv(\"https://raw.githubusercontent.com/dominik117/data-science-toolkit/main/data/weather_basel_2021-2022.csv\")\n",
        "else: \n",
        "    df_weather = pd.read_csv(\"../src/data/weather_basel_2021-2022.csv\")\n",
        "# Data obtained from https://www.meteoblue.com/en/weather/archive/export/basel_switzerland_2661604"
      ]
    },
    {
      "cell_type": "markdown",
      "metadata": {
        "id": "_qoadh1oqDu7"
      },
      "source": [
        "#### Clean the weather data"
      ]
    },
    {
      "cell_type": "code",
      "execution_count": 17,
      "metadata": {
        "id": "0qBVnwXeqDu7"
      },
      "outputs": [],
      "source": [
        "### Rename columns\n",
        "weather_columns = {'location':'date_utc', 'Basel':'temperature_max', 'Basel.1':'temperature_min', 'Basel.2':'temperature_mean',\n",
        "                'Basel.3':'precipitation', 'Basel.4':'snowfall', 'Basel.5':'humidity_max', 'Basel.6':'humidity_min', \n",
        "                'Basel.7':'humidity_mean', 'Basel.8':'cloud_coverage', 'Basel.9':'wind_speed_max',\n",
        "                'Basel.10':'wind_speed_min', 'Basel.11':'wind_speed_mean'}\n",
        "df_weather.rename(columns = weather_columns, inplace = True)\n",
        "\n",
        "### Drop unneeded columns\n",
        "df_weather.drop(['Basel.12'], axis=1, inplace=True)\n",
        "\n",
        "### Drop first rows with metadata\n",
        "df_weather = df_weather.iloc[9:].copy()\n",
        "\n",
        "### Normalize date column\n",
        "df_weather['date_utc'] = pd.to_datetime(df_weather['date_utc']).dt.date\n",
        "\n",
        "### Convert all columns (except date) to float, and round them\n",
        "weather_date = df_weather.pop('date_utc') # Pop date so it doesn't get converted\n",
        "df_weather = df_weather.apply(pd.to_numeric)\n",
        "df_weather = df_weather.round(decimals = 1)\n",
        "df_weather.insert(0, 'date_utc', weather_date) # Reassign date to df"
      ]
    },
    {
      "cell_type": "markdown",
      "metadata": {
        "id": "WwbpmrRHqDu8"
      },
      "source": [
        "#### Merge weather data with main data"
      ]
    },
    {
      "cell_type": "code",
      "execution_count": 18,
      "metadata": {
        "id": "aZYU_CvqqDu8"
      },
      "outputs": [],
      "source": [
        "### Merge weather dataframe with current dataframe\n",
        "df = pd.merge(df, df_weather, how=\"left\", on=\"date_utc\")"
      ]
    },
    {
      "cell_type": "markdown",
      "metadata": {
        "id": "OVoqTuuE1k0t"
      },
      "source": [
        "## Add Latitude and Longitude"
      ]
    },
    {
      "cell_type": "markdown",
      "metadata": {
        "id": "77TpHv881k0t"
      },
      "source": [
        "#### Make the dataframe with edge_id and it's latitudes based on geojson file"
      ]
    },
    {
      "cell_type": "code",
      "execution_count": 19,
      "metadata": {
        "id": "c7EFh53v1k0t"
      },
      "outputs": [],
      "source": [
        "add_coordinates = True\n",
        "\n",
        "if add_coordinates:\n",
        "    if IN_COLAB:\n",
        "        with urllib.request.urlopen('https://raw.githubusercontent.com/dominik117/data-science-toolkit/main/data/edges.geojson') as url:\n",
        "            data = json.loads(url.read().decode())\n",
        "    else:\n",
        "        with open('../references/edges.geojson') as f:\n",
        "            data = json.load(f)\n",
        "\n",
        "    # Get the features key, the others have nothing of importance\n",
        "    df_edges = data['features']\n",
        "    df_edges = pd.DataFrame(df_edges)\n",
        "\n",
        "    # Explode properties dictionary\n",
        "    df_edges = pd.concat([df_edges.drop(['properties'], axis=1), df_edges['properties'].apply(pd.Series)], axis=1)\n",
        "\n",
        "    # Rename edge column to match main dataframe\n",
        "    df_edges.rename(columns = {'id':'edge_id'}, inplace = True)\n",
        "\n",
        "    # Rearrange BBOX (lat_north, lat_south, lon_east, lon_west)\n",
        "    def sort_bbox(x):\n",
        "        lat = sorted([x[1], x[3]], key=float, reverse=True)\n",
        "        lon = sorted([x[0], x[2]], key=float, reverse=True)\n",
        "        return lat + lon\n",
        "    df_edges['bbox'] = df_edges['bbox'].apply(sort_bbox)\n",
        "\n",
        "    # Make dataframe only with edge_id and bbox(exploded)\n",
        "    df_coordinates = df_edges[['edge_id', 'bbox']].copy()\n",
        "\n",
        "    # Make columns with lat_north, lat_south, lon_east, lon_west from bbox\n",
        "    bbox_exploded = pd.DataFrame(df_coordinates[\"bbox\"].to_list(), columns=['lat_north', 'lat_south', 'lon_east', 'lon_west'])\n",
        "    df_coordinates = pd.concat([df_coordinates, bbox_exploded], axis=1)\n",
        "    df_coordinates.drop(['bbox'], axis=1, inplace=True)\n",
        "\n",
        "    # Merge coordinates to main dataframe\n",
        "    df = pd.merge(df, df_coordinates, how=\"left\", on=\"edge_id\")\n",
        "else:\n",
        "    print(\"To add coordinates change the add_coordinates variable to true\")"
      ]
    },
    {
      "cell_type": "markdown",
      "metadata": {
        "id": "jeGXS6GGMS_U"
      },
      "source": [
        "## Add length of edge (street segment)"
      ]
    },
    {
      "cell_type": "markdown",
      "metadata": {
        "id": "QM9RIsh0MS_U"
      },
      "source": [
        "### Formula to get distance between two points on Earth"
      ]
    },
    {
      "cell_type": "code",
      "execution_count": 20,
      "metadata": {
        "colab": {
          "base_uri": "https://localhost:8080/"
        },
        "id": "iH47dROmMS_V",
        "outputId": "a3a6a05e-c3cd-489d-f09f-7f73d8769072"
      },
      "outputs": [],
      "source": [
        "from math import atan, cos, radians, sin, tan, asin, sqrt\n",
        "\n",
        "def haversine_distance(lat1, lon1, lat2, lon2):\n",
        "    # convert decimal degrees to radians \n",
        "    lon1, lat1, lon2, lat2 = map(radians, [lon1, lat1, lon2, lat2])\n",
        "\n",
        "    # haversine formula \n",
        "    dlon = lon2 - lon1 \n",
        "    dlat = lat2 - lat1 \n",
        "    a = sin(dlat/2)**2 + cos(lat1) * cos(lat2) * sin(dlon/2)**2\n",
        "    c = 2 * asin(sqrt(a)) \n",
        "    EQUATORIAL_RADIUS = 6378 # Radius of earth in kilometers\n",
        "    return c * EQUATORIAL_RADIUS\n",
        "\n",
        "def lamberts_ellipsoidal_distance(lat1: float, lon1: float, lat2: float, lon2: float) -> float:\n",
        "    # Radius of Earth (meters)\n",
        "    AXIS_A = 6378137.0\n",
        "    AXIS_B = 6356752.314245\n",
        "    EQUATORIAL_RADIUS = 6378137\n",
        "\n",
        "    # Equation Parameters\n",
        "    flattening = (AXIS_A - AXIS_B) / AXIS_A\n",
        "    # Parametric latitudes\n",
        "    b_lat1 = atan((1 - flattening) * tan(radians(lat1)))\n",
        "    b_lat2 = atan((1 - flattening) * tan(radians(lat2)))\n",
        "\n",
        "    # Compute central angle between two points\n",
        "    # using haversine theta. sigma =  haversine_distance / equatorial radius\n",
        "    sigma = haversine_distance(lat1, lon1, lat2, lon2) / EQUATORIAL_RADIUS\n",
        "\n",
        "    # Intermediate P and Q values\n",
        "    P_value = (b_lat1 + b_lat2) / 2\n",
        "    Q_value = (b_lat2 - b_lat1) / 2\n",
        "\n",
        "    # Intermediate X value\n",
        "    # X = (sigma - sin(sigma)) * sin^2Pcos^2Q / cos^2(sigma/2)\n",
        "    X_numerator = (sin(P_value) ** 2) * (cos(Q_value) ** 2)\n",
        "    X_demonimator = cos(sigma / 2) ** 2\n",
        "    X_value = (sigma - sin(sigma)) * (X_numerator / X_demonimator)\n",
        "\n",
        "    # Intermediate Y value\n",
        "    # Y = (sigma + sin(sigma)) * cos^2Psin^2Q / sin^2(sigma/2)\n",
        "    Y_numerator = (cos(P_value) ** 2) * (sin(Q_value) ** 2)\n",
        "    Y_denominator = sin(sigma / 2) ** 2\n",
        "    Y_value = (sigma + sin(sigma)) * (Y_numerator / Y_denominator)\n",
        "\n",
        "    distance = abs(EQUATORIAL_RADIUS * (sigma - ((flattening / 2) * (X_value + Y_value))))\n",
        "\n",
        "    return int(distance)"
      ]
    },
    {
      "cell_type": "code",
      "execution_count": 21,
      "metadata": {
        "id": "l0aifLjnMS_W"
      },
      "outputs": [],
      "source": [
        "df['edge_length'] = df.apply(lambda x: lamberts_ellipsoidal_distance(x.lat_north, x.lon_east, x.lat_south, x.lon_west), axis=1)"
      ]
    },
    {
      "cell_type": "markdown",
      "metadata": {
        "id": "_aWNf98U1k0u"
      },
      "source": [
        "## Add features from Open Street Maps (OSM)"
      ]
    },
    {
      "cell_type": "markdown",
      "metadata": {
        "id": "nAYVh8Bu1k0u"
      },
      "source": [
        "#### Make the datasets with points of interest"
      ]
    },
    {
      "cell_type": "code",
      "execution_count": 22,
      "metadata": {
        "id": "XRvfwJmL1k0u"
      },
      "outputs": [],
      "source": [
        "add_points_of_interest = True\n",
        "\n",
        "# Since we need longitude and latitude to add OSM features, turn it on when adding points of interest if off\n",
        "if add_coordinates is False and add_points_of_interest:\n",
        "    add_points_of_interest = True\n",
        "    add_coordinates = True\n",
        "    print(\"WARNING: add_coordinates was turned on since it's needed to aggregate points of interest\")\n",
        "    print(f\"add_coordinates = {add_coordinates},  add_points_of_interest = {add_points_of_interest}\")"
      ]
    },
    {
      "cell_type": "code",
      "execution_count": 23,
      "metadata": {
        "colab": {
          "base_uri": "https://localhost:8080/"
        },
        "id": "Z8ikNgx21k0u",
        "outputId": "579d0f13-1e1c-4b54-a22d-e964739d5472"
      },
      "outputs": [
        {
          "name": "stderr",
          "output_type": "stream",
          "text": [
            "/Users/bacher/opt/anaconda3/envs/cortexia/lib/python3.10/site-packages/osmnx/geometries.py:805: ShapelyDeprecationWarning: Iteration over multi-part geometries is deprecated and will be removed in Shapely 2.0. Use the `geoms` property to access the constituent parts of a multi-part geometry.\n",
            "  for merged_outer_linestring in list(merged_outer_linestrings):\n",
            "/Users/bacher/opt/anaconda3/envs/cortexia/lib/python3.10/site-packages/osmnx/geometries.py:805: ShapelyDeprecationWarning: __len__ for multi-part geometries is deprecated and will be removed in Shapely 2.0. Check the length of the `geoms` property instead to get the  number of parts of a multi-part geometry.\n",
            "  for merged_outer_linestring in list(merged_outer_linestrings):\n"
          ]
        }
      ],
      "source": [
        "# Extraction of the features on the dictionary from OSM\n",
        "\n",
        "basel = 'Basel, Basel, Switzerland'\n",
        "# Features dictionary at https://wiki.openstreetmap.org/wiki/Map_features\n",
        "\n",
        "tags = {'amenity': ['vending_machine', 'bench', 'bar', 'fast_food', 'ice_cream', 'kindergarten', 'school', 'hospital', 'cinema', \n",
        "                    'fountain', 'dog_toilet', 'recycling', 'waste_basket', 'waste_disposal', 'childcare', 'marketplace',\n",
        "                    'bus_station', 'fuel', 'taxi', 'parking', 'atm', 'clinic', 'nightclub', 'toilets'\n",
        "                    ]}\n",
        "amenity = ox.geometries_from_place(basel, tags=tags)\n",
        "\n",
        "# tags = {'building': ['hotel', 'kiosk', 'commercial', 'retail', 'supermarket']}\n",
        "# building = ox.geometries_from_place(basel, tags=tags)\n",
        "\n",
        "# tags = {'leisure': ['dog_park', 'park']}\n",
        "# leisure = ox.geometries_from_place(basel, tags=tags)"
      ]
    },
    {
      "cell_type": "markdown",
      "metadata": {
        "id": "gseOabWX1k0v"
      },
      "source": [
        "#### Make dataframe with points of interest and their coordinates"
      ]
    },
    {
      "cell_type": "code",
      "execution_count": 24,
      "metadata": {
        "id": "jThVZsFACh30"
      },
      "outputs": [],
      "source": [
        "# All this code will return a dataframe with the type of amenity and it's coordinates\n",
        "\n",
        "df_osm = pd.DataFrame(amenity)  # <-- Convert to DF\n",
        "df_osm = df_osm[['amenity', 'geometry']].copy()  # <-- Select the only needed columns\n",
        "df_osm['osm_id'] = df_osm.index.to_numpy()  # <-- Detach the index and assign it to a normal column\n",
        "df_osm.reset_index(drop=True, inplace=True)  # <-- Drop index\n",
        "\n",
        "# Explode index since it contains two indices\n",
        "osm_id_exploded = pd.DataFrame(df_osm[\"osm_id\"].to_list(), columns=['type', 'osm'])  \n",
        "df_osm = pd.concat([df_osm, osm_id_exploded], axis=1) \n",
        "\n",
        "# Fix osm_id column, then drop it for the moment, we don't need it\n",
        "df_osm.drop(['osm_id'], axis=1, inplace=True)\n",
        "df_osm.columns = df_osm.columns.str.replace('osm', 'osm_id')\n",
        "df_osm = df_osm.drop(df_osm[df_osm['type'] == 'relation'].index)  # <-- Drop Multipoligon points\n",
        "df_osm = df_osm.drop(df_osm[df_osm['type'] == 'way'].index)  # <-- Drop Multipoligon points\n",
        "df_osm.drop(['osm_id'], axis=1, inplace=True)  # <-- Drop it for the moment\n",
        "\n",
        "#### Clean the coordinates from the GeoPandas geometry format to latitude and longitude columns\n",
        "df_osm['lon'] = df_osm[df_osm['type'] == \"node\"]['geometry'].apply(lambda p: p.x)\n",
        "df_osm['lat'] = df_osm[df_osm['type'] == \"node\"]['geometry'].apply(lambda p: p.y)\n",
        "df_osm.drop(['geometry', 'type'], axis=1, inplace=True)"
      ]
    },
    {
      "cell_type": "markdown",
      "metadata": {
        "id": "rjpfSwH11k0v"
      },
      "source": [
        "#### Merge the amenity based on coordinates with the corresponding coordinates from the edge_id"
      ]
    },
    {
      "cell_type": "code",
      "execution_count": 25,
      "metadata": {
        "id": "PM0y6MZ-1k0w"
      },
      "outputs": [],
      "source": [
        "# This code will identify the amenities that exist on each edge_id, not all edge_id will have amenities\n",
        "\n",
        "if add_points_of_interest:\n",
        "    # Since the same edge_id always has the same coordiantes, we reduce the dataframe to one with only the edge_id with it's corresponding coordinates\n",
        "    df_edges_coordinates = df[['edge_id', 'lat_north', 'lat_south', 'lon_east', 'lon_west']].copy()\n",
        "    df_edges_coordinates = df_edges_coordinates.drop_duplicates(subset='edge_id', keep='first')\n",
        "\n",
        "    # Make a list of the edges that have an amenity to them based on lat,lon conditional\n",
        "    def is_between(a, x, b):\n",
        "        return min(a, b) < x < max(a, b)\n",
        "\n",
        "    edges_dict = []\n",
        "    for edges_row in df_edges_coordinates.itertuples():\n",
        "        for osm_row in df_osm.itertuples():\n",
        "            if is_between(edges_row.lat_south, osm_row.lat, edges_row.lat_north) and is_between(edges_row.lon_west, osm_row.lon, edges_row.lon_east):\n",
        "                edges_dict.append([edges_row.edge_id, osm_row.amenity])\n",
        "\n",
        "    # Group by edge_id and get the value counts per amenity\n",
        "    df_edges_dict = pd.DataFrame(edges_dict, columns = ['edge_id', 'amenity'])\n",
        "    df_edges_dict = df_edges_dict.groupby('edge_id')['amenity'].value_counts().unstack(fill_value=0).reset_index()\n",
        "\n",
        "    ### Merge df with counts per amenity with main DF on edge_id\n",
        "    df = pd.merge(df, df_edges_dict, how=\"left\", on=\"edge_id\")\n",
        "    osm_columns = list(df_edges_dict.columns[1:])\n",
        "    df[osm_columns] = df[osm_columns].fillna(value=0)  # <-- Fill missing values, since not all edges have amenities\n",
        "    df[osm_columns] = df[osm_columns].astype(int)\n",
        "else:\n",
        "    print(\"To add a count of points of interest from OSM, change add_points_of_interest variable to True\")"
      ]
    },
    {
      "cell_type": "markdown",
      "metadata": {},
      "source": [
        "# Quick EDA"
      ]
    },
    {
      "cell_type": "code",
      "execution_count": 66,
      "metadata": {},
      "outputs": [],
      "source": [
        "columns_df_litters = ['edge_id', 'date_utc', 'month', 'day', 'weekday', 'total_litter']\n",
        "columns_df_litters.extend(litter_columns)\n",
        "df_litters = df[columns_df_litters].copy()\n",
        "aggregation_type = 'sum'\n",
        "to_agg = {'total_litter' : aggregation_type}\n",
        "for litter in litter_columns:\n",
        "    to_agg[litter] = aggregation_type\n",
        "df_litters_agg = df_litters.groupby(['weekday'], as_index=False).agg(to_agg)"
      ]
    },
    {
      "cell_type": "code",
      "execution_count": 69,
      "metadata": {},
      "outputs": [],
      "source": [
        "sum_of_litters = df[litter_columns].sum(axis=0)"
      ]
    },
    {
      "cell_type": "markdown",
      "metadata": {
        "id": "jtNE5zSz1k0w"
      },
      "source": [
        "# Classification Models"
      ]
    },
    {
      "cell_type": "markdown",
      "metadata": {
        "id": "18OlS5JwGHfg"
      },
      "source": [
        "## Make the classification output"
      ]
    },
    {
      "cell_type": "code",
      "execution_count": 55,
      "metadata": {
        "colab": {
          "base_uri": "https://localhost:8080/"
        },
        "id": "DQa83wfrFLx5",
        "outputId": "2e6c4177-2271-4e40-ee18-7ac626bbc8c4"
      },
      "outputs": [
        {
          "data": {
            "text/plain": [
              "0    357032\n",
              "1    241775\n",
              "Name: total_litter_ratio, dtype: int64"
            ]
          },
          "execution_count": 55,
          "metadata": {},
          "output_type": "execute_result"
        }
      ],
      "source": [
        "#### We want half to be clean half dirty for the moment\n",
        "df['total_litter_ratio'] = [1 if x>10 else 0 for x in df['total_litter']]\n",
        "df['total_litter_ratio'].value_counts()"
      ]
    },
    {
      "cell_type": "markdown",
      "metadata": {
        "id": "AttzPSWcqDu-"
      },
      "source": [
        "## Train / Test and Pipelines for Classification Models"
      ]
    },
    {
      "cell_type": "code",
      "execution_count": 27,
      "metadata": {
        "colab": {
          "base_uri": "https://localhost:8080/"
        },
        "id": "jmxVR0iBZ514",
        "outputId": "4a8aeb90-6bfd-4e83-ea5c-93bbb2a5dd25"
      },
      "outputs": [
        {
          "name": "stdout",
          "output_type": "stream",
          "text": [
            "(538926, 44) (59881, 44)\n"
          ]
        },
        {
          "data": {
            "text/plain": [
              "Index(['edge_id', 'osm_highway', 'Year', 'month', 'day', 'weekday',\n",
              "       'temperature_max', 'temperature_min', 'temperature_mean',\n",
              "       'precipitation', 'snowfall', 'humidity_max', 'humidity_min',\n",
              "       'humidity_mean', 'cloud_coverage', 'wind_speed_max', 'wind_speed_min',\n",
              "       'wind_speed_mean', 'lat_north', 'lat_south', 'lon_east', 'lon_west',\n",
              "       'edge_length', 'atm', 'bar', 'bench', 'childcare', 'cinema', 'clinic',\n",
              "       'fast_food', 'fountain', 'fuel', 'ice_cream', 'kindergarten',\n",
              "       'marketplace', 'nightclub', 'parking', 'recycling', 'school', 'taxi',\n",
              "       'toilets', 'vending_machine', 'waste_basket', 'waste_disposal'],\n",
              "      dtype='object')"
            ]
          },
          "execution_count": 27,
          "metadata": {},
          "output_type": "execute_result"
        }
      ],
      "source": [
        "columns_to_drop = ['total_litter_ratio', 'date_utc', 'edge_osmid', 'total_litter']\n",
        "columns_to_drop.extend(litter_columns)\n",
        "#columns_to_drop.extend(osm_columns)\n",
        "\n",
        "X = df.drop(columns=columns_to_drop)\n",
        "y = df['total_litter_ratio']\n",
        "\n",
        "X_train, X_test, y_train, y_test = train_test_split(X, y, test_size=0.1, random_state=42)\n",
        "print(X_train.shape, X_test.shape)\n",
        "X_train.columns"
      ]
    },
    {
      "cell_type": "code",
      "execution_count": 28,
      "metadata": {
        "colab": {
          "base_uri": "https://localhost:8080/"
        },
        "id": "WxhAPqNcqDu-",
        "outputId": "eda113b8-9cbf-4629-97c3-1622ff81393e"
      },
      "outputs": [
        {
          "name": "stdout",
          "output_type": "stream",
          "text": [
            "Categorical features: ['edge_id', 'osm_highway', 'Year', 'month', 'day', 'weekday']\n",
            "Numeric features: ['temperature_max', 'temperature_min', 'temperature_mean', 'precipitation', 'snowfall', 'humidity_max', 'humidity_min', 'humidity_mean', 'cloud_coverage', 'wind_speed_max', 'wind_speed_min', 'wind_speed_mean', 'lat_north', 'lat_south', 'lon_east', 'lon_west', 'edge_length', 'atm', 'bar', 'bench', 'childcare', 'cinema', 'clinic', 'fast_food', 'fountain', 'fuel', 'ice_cream', 'kindergarten', 'marketplace', 'nightclub', 'parking', 'recycling', 'school', 'taxi', 'toilets', 'vending_machine', 'waste_basket', 'waste_disposal']\n"
          ]
        }
      ],
      "source": [
        "categorical_features = X_train.select_dtypes(include=['object', 'category']).columns.tolist()\n",
        "numeric_features = X_train.select_dtypes(include=['int', 'float']).columns.tolist()\n",
        "print(f\"Categorical features: {categorical_features}\")\n",
        "print(f\"Numeric features: {numeric_features}\")"
      ]
    },
    {
      "cell_type": "code",
      "execution_count": 29,
      "metadata": {
        "id": "4ALTeOkQqDu-"
      },
      "outputs": [],
      "source": [
        "categorical_transformer = Pipeline(steps=[(\"onehot\", OneHotEncoder(handle_unknown=\"ignore\"))\n",
        "                                          ])\n",
        "numeric_transformer = Pipeline(steps=[(\"scaler\", StandardScaler())\n",
        "                                      ])\n",
        "preprocessor = ColumnTransformer(transformers=[(\"num\", numeric_transformer, numeric_features),\n",
        "                                               (\"cat\", categorical_transformer, categorical_features)\n",
        "                                               ])"
      ]
    },
    {
      "cell_type": "markdown",
      "metadata": {
        "id": "fuUxn5wfRjOG"
      },
      "source": [
        "## Models and predictions"
      ]
    },
    {
      "cell_type": "code",
      "execution_count": 30,
      "metadata": {
        "id": "Wo7aU_7GSBI8"
      },
      "outputs": [],
      "source": [
        "classification_scores = {}"
      ]
    },
    {
      "cell_type": "markdown",
      "metadata": {
        "id": "6qQhAoE2qDu_"
      },
      "source": [
        "### Logistic Regression"
      ]
    },
    {
      "cell_type": "code",
      "execution_count": 31,
      "metadata": {
        "id": "AnxFu2YXqDu_"
      },
      "outputs": [],
      "source": [
        "from sklearn.linear_model import LogisticRegression\n",
        "\n",
        "model_logistic_r = LogisticRegression(random_state=7, solver='liblinear')\n",
        "\n",
        "pipeline_logistic_r = Pipeline(steps=[(\"pre_process\", preprocessor), \n",
        "                              (\"model\", model_logistic_r)\n",
        "                              ])"
      ]
    },
    {
      "cell_type": "code",
      "execution_count": 32,
      "metadata": {
        "colab": {
          "base_uri": "https://localhost:8080/"
        },
        "id": "yyH_ro-VqDu_",
        "outputId": "75f400c0-cfab-4526-b0ac-5b63e69bb312"
      },
      "outputs": [
        {
          "name": "stdout",
          "output_type": "stream",
          "text": [
            "--- 4.113759617010753 minutes ---\n"
          ]
        }
      ],
      "source": [
        "start_time = time.time()  # <-- Just to count how long the model takes to predict\n",
        "\n",
        "pipeline_logistic_r.fit(X_train, y_train)\n",
        "y_pred_logistic_r = pipeline_logistic_r.predict(X_test)\n",
        "\n",
        "print(f\"--- {(time.time() - start_time)/60} minutes ---\")"
      ]
    },
    {
      "cell_type": "code",
      "execution_count": 33,
      "metadata": {
        "colab": {
          "base_uri": "https://localhost:8080/"
        },
        "id": "dkqxJuDFqDu_",
        "outputId": "04f5c1bc-d83a-44c1-876d-b6d725f740a4"
      },
      "outputs": [
        {
          "name": "stdout",
          "output_type": "stream",
          "text": [
            "              precision    recall  f1-score   support\n",
            "\n",
            "           0       0.80      0.85      0.82     35700\n",
            "           1       0.75      0.68      0.72     24181\n",
            "\n",
            "    accuracy                           0.78     59881\n",
            "   macro avg       0.77      0.77      0.77     59881\n",
            "weighted avg       0.78      0.78      0.78     59881\n",
            "\n"
          ]
        }
      ],
      "source": [
        "# Prediction scores\n",
        "class_labels = pipeline_logistic_r.named_steps['model'].classes_\n",
        "\n",
        "print(classification_report(y_test, y_pred_logistic_r))\n",
        "\n",
        "pd.DataFrame(confusion_matrix(y_test, y_pred_logistic_r), columns=class_labels, index=class_labels)\n",
        "\n",
        "# Add scores to dictionary\n",
        "classification_scores['logistic_r'] = round(f1_score(y_test, y_pred_logistic_r, average='weighted'), 3)"
      ]
    },
    {
      "cell_type": "markdown",
      "metadata": {
        "id": "TxbupJ3hSJfX"
      },
      "source": [
        "### SVC"
      ]
    },
    {
      "cell_type": "code",
      "execution_count": 34,
      "metadata": {
        "id": "C2blv0a_SOlm"
      },
      "outputs": [],
      "source": [
        "from sklearn.svm import LinearSVC\n",
        "\n",
        "model_svc = LinearSVC(random_state=42)\n",
        "\n",
        "pipeline_svc = Pipeline([(\"pre_process\", preprocessor), \n",
        "                         (\"model\", model_svc)])"
      ]
    },
    {
      "cell_type": "code",
      "execution_count": 35,
      "metadata": {
        "colab": {
          "base_uri": "https://localhost:8080/"
        },
        "id": "IZV6Z3b7SYmA",
        "outputId": "059412af-f170-44cc-da76-e8b267dda861"
      },
      "outputs": [
        {
          "name": "stderr",
          "output_type": "stream",
          "text": [
            "/usr/local/lib/python3.7/dist-packages/sklearn/svm/_base.py:1208: ConvergenceWarning: Liblinear failed to converge, increase the number of iterations.\n",
            "  ConvergenceWarning,\n"
          ]
        },
        {
          "name": "stdout",
          "output_type": "stream",
          "text": [
            "--- 4.308692884445191 minutes ---\n"
          ]
        }
      ],
      "source": [
        "start_time = time.time()  # <-- Just to count how long the model takes to predict\n",
        "\n",
        "pipeline_svc.fit(X_train, y_train)\n",
        "y_pred_svc = pipeline_svc.predict(X_test)\n",
        "\n",
        "print(f\"--- {(time.time() - start_time)/60} minutes ---\")"
      ]
    },
    {
      "cell_type": "code",
      "execution_count": 36,
      "metadata": {
        "colab": {
          "base_uri": "https://localhost:8080/"
        },
        "id": "rgeATAsHS7mh",
        "outputId": "2d5bdf66-8b21-47e9-fffb-e654d79a1fd8"
      },
      "outputs": [
        {
          "name": "stdout",
          "output_type": "stream",
          "text": [
            "              precision    recall  f1-score   support\n",
            "\n",
            "           0       0.80      0.84      0.82     35700\n",
            "           1       0.75      0.69      0.72     24181\n",
            "\n",
            "    accuracy                           0.78     59881\n",
            "   macro avg       0.77      0.76      0.77     59881\n",
            "weighted avg       0.78      0.78      0.78     59881\n",
            "\n"
          ]
        }
      ],
      "source": [
        "# Prediction scores\n",
        "class_labels = pipeline_svc.named_steps['model'].classes_\n",
        "\n",
        "print(classification_report(y_test, y_pred_svc))\n",
        "\n",
        "pd.DataFrame(confusion_matrix(y_test, y_pred_svc), columns=class_labels, index=class_labels)\n",
        "\n",
        "# Add scores to dictionary\n",
        "classification_scores['svc'] = round(f1_score(y_test, y_pred_svc, average='weighted'), 3)"
      ]
    },
    {
      "cell_type": "markdown",
      "metadata": {
        "id": "qvhss31KWoDA"
      },
      "source": [
        "## Models Summary"
      ]
    },
    {
      "cell_type": "code",
      "execution_count": 43,
      "metadata": {
        "colab": {
          "base_uri": "https://localhost:8080/",
          "height": 112
        },
        "id": "kMF-4_buXBG4",
        "outputId": "c34d025a-3a13-4ee4-f32b-43a8e11879f0"
      },
      "outputs": [
        {
          "data": {
            "text/html": [
              "\n",
              "  <div id=\"df-7b5b0d35-3fd5-478f-9c17-3e75defe81cb\">\n",
              "    <div class=\"colab-df-container\">\n",
              "      <div>\n",
              "<style scoped>\n",
              "    .dataframe tbody tr th:only-of-type {\n",
              "        vertical-align: middle;\n",
              "    }\n",
              "\n",
              "    .dataframe tbody tr th {\n",
              "        vertical-align: top;\n",
              "    }\n",
              "\n",
              "    .dataframe thead th {\n",
              "        text-align: right;\n",
              "    }\n",
              "</style>\n",
              "<table border=\"1\" class=\"dataframe\">\n",
              "  <thead>\n",
              "    <tr style=\"text-align: right;\">\n",
              "      <th></th>\n",
              "      <th>Model</th>\n",
              "      <th>F1-Score</th>\n",
              "    </tr>\n",
              "  </thead>\n",
              "  <tbody>\n",
              "    <tr>\n",
              "      <th>0</th>\n",
              "      <td>logistic_r</td>\n",
              "      <td>0.779</td>\n",
              "    </tr>\n",
              "    <tr>\n",
              "      <th>1</th>\n",
              "      <td>svc</td>\n",
              "      <td>0.778</td>\n",
              "    </tr>\n",
              "  </tbody>\n",
              "</table>\n",
              "</div>\n",
              "      <button class=\"colab-df-convert\" onclick=\"convertToInteractive('df-7b5b0d35-3fd5-478f-9c17-3e75defe81cb')\"\n",
              "              title=\"Convert this dataframe to an interactive table.\"\n",
              "              style=\"display:none;\">\n",
              "        \n",
              "  <svg xmlns=\"http://www.w3.org/2000/svg\" height=\"24px\"viewBox=\"0 0 24 24\"\n",
              "       width=\"24px\">\n",
              "    <path d=\"M0 0h24v24H0V0z\" fill=\"none\"/>\n",
              "    <path d=\"M18.56 5.44l.94 2.06.94-2.06 2.06-.94-2.06-.94-.94-2.06-.94 2.06-2.06.94zm-11 1L8.5 8.5l.94-2.06 2.06-.94-2.06-.94L8.5 2.5l-.94 2.06-2.06.94zm10 10l.94 2.06.94-2.06 2.06-.94-2.06-.94-.94-2.06-.94 2.06-2.06.94z\"/><path d=\"M17.41 7.96l-1.37-1.37c-.4-.4-.92-.59-1.43-.59-.52 0-1.04.2-1.43.59L10.3 9.45l-7.72 7.72c-.78.78-.78 2.05 0 2.83L4 21.41c.39.39.9.59 1.41.59.51 0 1.02-.2 1.41-.59l7.78-7.78 2.81-2.81c.8-.78.8-2.07 0-2.86zM5.41 20L4 18.59l7.72-7.72 1.47 1.35L5.41 20z\"/>\n",
              "  </svg>\n",
              "      </button>\n",
              "      \n",
              "  <style>\n",
              "    .colab-df-container {\n",
              "      display:flex;\n",
              "      flex-wrap:wrap;\n",
              "      gap: 12px;\n",
              "    }\n",
              "\n",
              "    .colab-df-convert {\n",
              "      background-color: #E8F0FE;\n",
              "      border: none;\n",
              "      border-radius: 50%;\n",
              "      cursor: pointer;\n",
              "      display: none;\n",
              "      fill: #1967D2;\n",
              "      height: 32px;\n",
              "      padding: 0 0 0 0;\n",
              "      width: 32px;\n",
              "    }\n",
              "\n",
              "    .colab-df-convert:hover {\n",
              "      background-color: #E2EBFA;\n",
              "      box-shadow: 0px 1px 2px rgba(60, 64, 67, 0.3), 0px 1px 3px 1px rgba(60, 64, 67, 0.15);\n",
              "      fill: #174EA6;\n",
              "    }\n",
              "\n",
              "    [theme=dark] .colab-df-convert {\n",
              "      background-color: #3B4455;\n",
              "      fill: #D2E3FC;\n",
              "    }\n",
              "\n",
              "    [theme=dark] .colab-df-convert:hover {\n",
              "      background-color: #434B5C;\n",
              "      box-shadow: 0px 1px 3px 1px rgba(0, 0, 0, 0.15);\n",
              "      filter: drop-shadow(0px 1px 2px rgba(0, 0, 0, 0.3));\n",
              "      fill: #FFFFFF;\n",
              "    }\n",
              "  </style>\n",
              "\n",
              "      <script>\n",
              "        const buttonEl =\n",
              "          document.querySelector('#df-7b5b0d35-3fd5-478f-9c17-3e75defe81cb button.colab-df-convert');\n",
              "        buttonEl.style.display =\n",
              "          google.colab.kernel.accessAllowed ? 'block' : 'none';\n",
              "\n",
              "        async function convertToInteractive(key) {\n",
              "          const element = document.querySelector('#df-7b5b0d35-3fd5-478f-9c17-3e75defe81cb');\n",
              "          const dataTable =\n",
              "            await google.colab.kernel.invokeFunction('convertToInteractive',\n",
              "                                                     [key], {});\n",
              "          if (!dataTable) return;\n",
              "\n",
              "          const docLinkHtml = 'Like what you see? Visit the ' +\n",
              "            '<a target=\"_blank\" href=https://colab.research.google.com/notebooks/data_table.ipynb>data table notebook</a>'\n",
              "            + ' to learn more about interactive tables.';\n",
              "          element.innerHTML = '';\n",
              "          dataTable['output_type'] = 'display_data';\n",
              "          await google.colab.output.renderOutput(dataTable, element);\n",
              "          const docLink = document.createElement('div');\n",
              "          docLink.innerHTML = docLinkHtml;\n",
              "          element.appendChild(docLink);\n",
              "        }\n",
              "      </script>\n",
              "    </div>\n",
              "  </div>\n",
              "  "
            ],
            "text/plain": [
              "        Model  F1-Score\n",
              "0  logistic_r     0.779\n",
              "1         svc     0.778"
            ]
          },
          "execution_count": 43,
          "metadata": {},
          "output_type": "execute_result"
        }
      ],
      "source": [
        "classification_result = pd.DataFrame({\n",
        "    \"Model\" : classification_scores.keys(),\n",
        "    'F1-Score': classification_scores.values()})\n",
        "classification_result"
      ]
    },
    {
      "cell_type": "markdown",
      "metadata": {
        "id": "we82oeTqMS_j"
      },
      "source": [
        "## XGBoost and Feature Importance"
      ]
    },
    {
      "cell_type": "code",
      "execution_count": 44,
      "metadata": {
        "id": "IDpOSpj4MS_j"
      },
      "outputs": [],
      "source": [
        "from xgboost import XGBClassifier\n",
        "\n",
        "categorical_transformer_xgb = Pipeline(steps=[(\"onehot\", OneHotEncoder(handle_unknown=\"ignore\"))\n",
        "                                          ])\n",
        "numeric_transformer_xgb = Pipeline(steps=[(\"knn_imputer\", KNNImputer(n_neighbors=5))\n",
        "                                      ])\n",
        "preprocessor_xgb = ColumnTransformer(transformers=[(\"num\", numeric_transformer_xgb, numeric_features),\n",
        "                                               (\"cat\", categorical_transformer_xgb, categorical_features)\n",
        "                                               ])\n",
        "\n",
        "xgb = XGBClassifier(random_state=42)\n",
        "\n",
        "pipeline_xgb = Pipeline([(\"pre_process\", preprocessor_xgb),\n",
        "                         (\"model\", xgb)])"
      ]
    },
    {
      "cell_type": "code",
      "execution_count": 46,
      "metadata": {
        "colab": {
          "base_uri": "https://localhost:8080/"
        },
        "id": "Q-e-AWLZMS_j",
        "outputId": "fcbe6a33-3c83-4e09-ef6e-6fe8d7366b5f"
      },
      "outputs": [
        {
          "name": "stdout",
          "output_type": "stream",
          "text": [
            "--- 1.010558044910431 minutes ---\n"
          ]
        }
      ],
      "source": [
        "start_time = time.time()  # <-- Just to count how long the model takes to predict\n",
        "\n",
        "pipeline_xgb.fit(X_train, y_train)\n",
        "y_pred_xgb = pipeline_xgb.predict(X_test)\n",
        "\n",
        "print(f\"--- {(time.time() - start_time)/60} minutes ---\")"
      ]
    },
    {
      "cell_type": "code",
      "execution_count": 47,
      "metadata": {
        "colab": {
          "base_uri": "https://localhost:8080/",
          "height": 268
        },
        "id": "7KFWHB28MS_k",
        "outputId": "bb44ea22-3a71-4f6a-fb68-4aeba69128af"
      },
      "outputs": [
        {
          "name": "stdout",
          "output_type": "stream",
          "text": [
            "              precision    recall  f1-score   support\n",
            "\n",
            "           0       0.74      0.84      0.79     35700\n",
            "           1       0.71      0.56      0.63     24181\n",
            "\n",
            "    accuracy                           0.73     59881\n",
            "   macro avg       0.72      0.70      0.71     59881\n",
            "weighted avg       0.73      0.73      0.72     59881\n",
            "\n"
          ]
        },
        {
          "data": {
            "text/html": [
              "\n",
              "  <div id=\"df-30641e22-7cce-4c64-b5da-91400a37f9da\">\n",
              "    <div class=\"colab-df-container\">\n",
              "      <div>\n",
              "<style scoped>\n",
              "    .dataframe tbody tr th:only-of-type {\n",
              "        vertical-align: middle;\n",
              "    }\n",
              "\n",
              "    .dataframe tbody tr th {\n",
              "        vertical-align: top;\n",
              "    }\n",
              "\n",
              "    .dataframe thead th {\n",
              "        text-align: right;\n",
              "    }\n",
              "</style>\n",
              "<table border=\"1\" class=\"dataframe\">\n",
              "  <thead>\n",
              "    <tr style=\"text-align: right;\">\n",
              "      <th></th>\n",
              "      <th>0</th>\n",
              "      <th>1</th>\n",
              "    </tr>\n",
              "  </thead>\n",
              "  <tbody>\n",
              "    <tr>\n",
              "      <th>0</th>\n",
              "      <td>30044</td>\n",
              "      <td>5656</td>\n",
              "    </tr>\n",
              "    <tr>\n",
              "      <th>1</th>\n",
              "      <td>10550</td>\n",
              "      <td>13631</td>\n",
              "    </tr>\n",
              "  </tbody>\n",
              "</table>\n",
              "</div>\n",
              "      <button class=\"colab-df-convert\" onclick=\"convertToInteractive('df-30641e22-7cce-4c64-b5da-91400a37f9da')\"\n",
              "              title=\"Convert this dataframe to an interactive table.\"\n",
              "              style=\"display:none;\">\n",
              "        \n",
              "  <svg xmlns=\"http://www.w3.org/2000/svg\" height=\"24px\"viewBox=\"0 0 24 24\"\n",
              "       width=\"24px\">\n",
              "    <path d=\"M0 0h24v24H0V0z\" fill=\"none\"/>\n",
              "    <path d=\"M18.56 5.44l.94 2.06.94-2.06 2.06-.94-2.06-.94-.94-2.06-.94 2.06-2.06.94zm-11 1L8.5 8.5l.94-2.06 2.06-.94-2.06-.94L8.5 2.5l-.94 2.06-2.06.94zm10 10l.94 2.06.94-2.06 2.06-.94-2.06-.94-.94-2.06-.94 2.06-2.06.94z\"/><path d=\"M17.41 7.96l-1.37-1.37c-.4-.4-.92-.59-1.43-.59-.52 0-1.04.2-1.43.59L10.3 9.45l-7.72 7.72c-.78.78-.78 2.05 0 2.83L4 21.41c.39.39.9.59 1.41.59.51 0 1.02-.2 1.41-.59l7.78-7.78 2.81-2.81c.8-.78.8-2.07 0-2.86zM5.41 20L4 18.59l7.72-7.72 1.47 1.35L5.41 20z\"/>\n",
              "  </svg>\n",
              "      </button>\n",
              "      \n",
              "  <style>\n",
              "    .colab-df-container {\n",
              "      display:flex;\n",
              "      flex-wrap:wrap;\n",
              "      gap: 12px;\n",
              "    }\n",
              "\n",
              "    .colab-df-convert {\n",
              "      background-color: #E8F0FE;\n",
              "      border: none;\n",
              "      border-radius: 50%;\n",
              "      cursor: pointer;\n",
              "      display: none;\n",
              "      fill: #1967D2;\n",
              "      height: 32px;\n",
              "      padding: 0 0 0 0;\n",
              "      width: 32px;\n",
              "    }\n",
              "\n",
              "    .colab-df-convert:hover {\n",
              "      background-color: #E2EBFA;\n",
              "      box-shadow: 0px 1px 2px rgba(60, 64, 67, 0.3), 0px 1px 3px 1px rgba(60, 64, 67, 0.15);\n",
              "      fill: #174EA6;\n",
              "    }\n",
              "\n",
              "    [theme=dark] .colab-df-convert {\n",
              "      background-color: #3B4455;\n",
              "      fill: #D2E3FC;\n",
              "    }\n",
              "\n",
              "    [theme=dark] .colab-df-convert:hover {\n",
              "      background-color: #434B5C;\n",
              "      box-shadow: 0px 1px 3px 1px rgba(0, 0, 0, 0.15);\n",
              "      filter: drop-shadow(0px 1px 2px rgba(0, 0, 0, 0.3));\n",
              "      fill: #FFFFFF;\n",
              "    }\n",
              "  </style>\n",
              "\n",
              "      <script>\n",
              "        const buttonEl =\n",
              "          document.querySelector('#df-30641e22-7cce-4c64-b5da-91400a37f9da button.colab-df-convert');\n",
              "        buttonEl.style.display =\n",
              "          google.colab.kernel.accessAllowed ? 'block' : 'none';\n",
              "\n",
              "        async function convertToInteractive(key) {\n",
              "          const element = document.querySelector('#df-30641e22-7cce-4c64-b5da-91400a37f9da');\n",
              "          const dataTable =\n",
              "            await google.colab.kernel.invokeFunction('convertToInteractive',\n",
              "                                                     [key], {});\n",
              "          if (!dataTable) return;\n",
              "\n",
              "          const docLinkHtml = 'Like what you see? Visit the ' +\n",
              "            '<a target=\"_blank\" href=https://colab.research.google.com/notebooks/data_table.ipynb>data table notebook</a>'\n",
              "            + ' to learn more about interactive tables.';\n",
              "          element.innerHTML = '';\n",
              "          dataTable['output_type'] = 'display_data';\n",
              "          await google.colab.output.renderOutput(dataTable, element);\n",
              "          const docLink = document.createElement('div');\n",
              "          docLink.innerHTML = docLinkHtml;\n",
              "          element.appendChild(docLink);\n",
              "        }\n",
              "      </script>\n",
              "    </div>\n",
              "  </div>\n",
              "  "
            ],
            "text/plain": [
              "       0      1\n",
              "0  30044   5656\n",
              "1  10550  13631"
            ]
          },
          "execution_count": 47,
          "metadata": {},
          "output_type": "execute_result"
        }
      ],
      "source": [
        "class_labels = pipeline_xgb.named_steps['model'].classes_\n",
        "\n",
        "print(classification_report(y_test, y_pred_xgb))\n",
        "\n",
        "pd.DataFrame(confusion_matrix(y_test, y_pred_xgb),\n",
        "             columns=class_labels, index=class_labels)"
      ]
    },
    {
      "cell_type": "code",
      "execution_count": 56,
      "metadata": {
        "colab": {
          "base_uri": "https://localhost:8080/",
          "height": 292
        },
        "id": "hZzrSq4sMS_k",
        "outputId": "7ae0788a-8353-4024-cb2a-fc70261424ee"
      },
      "outputs": [
        {
          "name": "stderr",
          "output_type": "stream",
          "text": [
            "/usr/local/lib/python3.7/dist-packages/sklearn/utils/deprecation.py:87: FutureWarning: Function get_feature_names is deprecated; get_feature_names is deprecated in 1.0 and will be removed in 1.2. Please use get_feature_names_out instead.\n",
            "  warnings.warn(msg, category=FutureWarning)\n"
          ]
        },
        {
          "data": {
            "text/html": [
              "\n",
              "  <div id=\"df-e38b1217-02b7-41ff-84b1-06903f7ca650\">\n",
              "    <div class=\"colab-df-container\">\n",
              "      <div>\n",
              "<style scoped>\n",
              "    .dataframe tbody tr th:only-of-type {\n",
              "        vertical-align: middle;\n",
              "    }\n",
              "\n",
              "    .dataframe tbody tr th {\n",
              "        vertical-align: top;\n",
              "    }\n",
              "\n",
              "    .dataframe thead th {\n",
              "        text-align: right;\n",
              "    }\n",
              "</style>\n",
              "<table border=\"1\" class=\"dataframe\">\n",
              "  <thead>\n",
              "    <tr style=\"text-align: right;\">\n",
              "      <th></th>\n",
              "      <th>importance</th>\n",
              "    </tr>\n",
              "    <tr>\n",
              "      <th>feature</th>\n",
              "      <th></th>\n",
              "    </tr>\n",
              "  </thead>\n",
              "  <tbody>\n",
              "    <tr>\n",
              "      <th>temperature_min</th>\n",
              "      <td>0.111</td>\n",
              "    </tr>\n",
              "    <tr>\n",
              "      <th>edge_length</th>\n",
              "      <td>0.097</td>\n",
              "    </tr>\n",
              "    <tr>\n",
              "      <th>temperature_mean</th>\n",
              "      <td>0.052</td>\n",
              "    </tr>\n",
              "    <tr>\n",
              "      <th>wind_speed_mean</th>\n",
              "      <td>0.045</td>\n",
              "    </tr>\n",
              "    <tr>\n",
              "      <th>vending_machine</th>\n",
              "      <td>0.030</td>\n",
              "    </tr>\n",
              "  </tbody>\n",
              "</table>\n",
              "</div>\n",
              "      <button class=\"colab-df-convert\" onclick=\"convertToInteractive('df-e38b1217-02b7-41ff-84b1-06903f7ca650')\"\n",
              "              title=\"Convert this dataframe to an interactive table.\"\n",
              "              style=\"display:none;\">\n",
              "        \n",
              "  <svg xmlns=\"http://www.w3.org/2000/svg\" height=\"24px\"viewBox=\"0 0 24 24\"\n",
              "       width=\"24px\">\n",
              "    <path d=\"M0 0h24v24H0V0z\" fill=\"none\"/>\n",
              "    <path d=\"M18.56 5.44l.94 2.06.94-2.06 2.06-.94-2.06-.94-.94-2.06-.94 2.06-2.06.94zm-11 1L8.5 8.5l.94-2.06 2.06-.94-2.06-.94L8.5 2.5l-.94 2.06-2.06.94zm10 10l.94 2.06.94-2.06 2.06-.94-2.06-.94-.94-2.06-.94 2.06-2.06.94z\"/><path d=\"M17.41 7.96l-1.37-1.37c-.4-.4-.92-.59-1.43-.59-.52 0-1.04.2-1.43.59L10.3 9.45l-7.72 7.72c-.78.78-.78 2.05 0 2.83L4 21.41c.39.39.9.59 1.41.59.51 0 1.02-.2 1.41-.59l7.78-7.78 2.81-2.81c.8-.78.8-2.07 0-2.86zM5.41 20L4 18.59l7.72-7.72 1.47 1.35L5.41 20z\"/>\n",
              "  </svg>\n",
              "      </button>\n",
              "      \n",
              "  <style>\n",
              "    .colab-df-container {\n",
              "      display:flex;\n",
              "      flex-wrap:wrap;\n",
              "      gap: 12px;\n",
              "    }\n",
              "\n",
              "    .colab-df-convert {\n",
              "      background-color: #E8F0FE;\n",
              "      border: none;\n",
              "      border-radius: 50%;\n",
              "      cursor: pointer;\n",
              "      display: none;\n",
              "      fill: #1967D2;\n",
              "      height: 32px;\n",
              "      padding: 0 0 0 0;\n",
              "      width: 32px;\n",
              "    }\n",
              "\n",
              "    .colab-df-convert:hover {\n",
              "      background-color: #E2EBFA;\n",
              "      box-shadow: 0px 1px 2px rgba(60, 64, 67, 0.3), 0px 1px 3px 1px rgba(60, 64, 67, 0.15);\n",
              "      fill: #174EA6;\n",
              "    }\n",
              "\n",
              "    [theme=dark] .colab-df-convert {\n",
              "      background-color: #3B4455;\n",
              "      fill: #D2E3FC;\n",
              "    }\n",
              "\n",
              "    [theme=dark] .colab-df-convert:hover {\n",
              "      background-color: #434B5C;\n",
              "      box-shadow: 0px 1px 3px 1px rgba(0, 0, 0, 0.15);\n",
              "      filter: drop-shadow(0px 1px 2px rgba(0, 0, 0, 0.3));\n",
              "      fill: #FFFFFF;\n",
              "    }\n",
              "  </style>\n",
              "\n",
              "      <script>\n",
              "        const buttonEl =\n",
              "          document.querySelector('#df-e38b1217-02b7-41ff-84b1-06903f7ca650 button.colab-df-convert');\n",
              "        buttonEl.style.display =\n",
              "          google.colab.kernel.accessAllowed ? 'block' : 'none';\n",
              "\n",
              "        async function convertToInteractive(key) {\n",
              "          const element = document.querySelector('#df-e38b1217-02b7-41ff-84b1-06903f7ca650');\n",
              "          const dataTable =\n",
              "            await google.colab.kernel.invokeFunction('convertToInteractive',\n",
              "                                                     [key], {});\n",
              "          if (!dataTable) return;\n",
              "\n",
              "          const docLinkHtml = 'Like what you see? Visit the ' +\n",
              "            '<a target=\"_blank\" href=https://colab.research.google.com/notebooks/data_table.ipynb>data table notebook</a>'\n",
              "            + ' to learn more about interactive tables.';\n",
              "          element.innerHTML = '';\n",
              "          dataTable['output_type'] = 'display_data';\n",
              "          await google.colab.output.renderOutput(dataTable, element);\n",
              "          const docLink = document.createElement('div');\n",
              "          docLink.innerHTML = docLinkHtml;\n",
              "          element.appendChild(docLink);\n",
              "        }\n",
              "      </script>\n",
              "    </div>\n",
              "  </div>\n",
              "  "
            ],
            "text/plain": [
              "                  importance\n",
              "feature                     \n",
              "temperature_min        0.111\n",
              "edge_length            0.097\n",
              "temperature_mean       0.052\n",
              "wind_speed_mean        0.045\n",
              "vending_machine        0.030"
            ]
          },
          "execution_count": 56,
          "metadata": {},
          "output_type": "execute_result"
        }
      ],
      "source": [
        "xgb_model = pipeline_xgb['model']\n",
        "num_features = list(pipeline_xgb['pre_process'].transformers_[0][2])\n",
        "cat_features = list(pipeline_xgb['pre_process'].transformers_[1][1]['onehot'].get_feature_names(categorical_features))\n",
        "feature_cols = num_features + cat_features\n",
        "xgb_importances = pd.DataFrame({\"feature\": feature_cols, \"importance\": np.round(xgb_model.feature_importances_, 3)})\n",
        "xgb_importances = xgb_importances[~xgb_importances['feature'].isin(cat_features)]\n",
        "xgb_importances = xgb_importances.sort_values(\"importance\", ascending=False).set_index(\"feature\")\n",
        "xgb_importances.head(5)\n"
      ]
    },
    {
      "cell_type": "markdown",
      "metadata": {
        "id": "q4ev6ys51k0z"
      },
      "source": [
        "# Regression Models"
      ]
    },
    {
      "cell_type": "markdown",
      "metadata": {
        "id": "PLt1PeCO6WU5"
      },
      "source": [
        "## Train / Test and Pipelines for Regression Models"
      ]
    },
    {
      "cell_type": "code",
      "execution_count": 56,
      "metadata": {
        "colab": {
          "base_uri": "https://localhost:8080/",
          "height": 197
        },
        "id": "Gm0sHDQm1k0z",
        "outputId": "e8fd6b12-ce04-43ed-b3f4-b2c45d2a3907"
      },
      "outputs": [
        {
          "name": "stdout",
          "output_type": "stream",
          "text": [
            "(538926, 16) (59881, 16)\n"
          ]
        },
        {
          "data": {
            "text/html": [
              "<div>\n",
              "<style scoped>\n",
              "    .dataframe tbody tr th:only-of-type {\n",
              "        vertical-align: middle;\n",
              "    }\n",
              "\n",
              "    .dataframe tbody tr th {\n",
              "        vertical-align: top;\n",
              "    }\n",
              "\n",
              "    .dataframe thead th {\n",
              "        text-align: right;\n",
              "    }\n",
              "</style>\n",
              "<table border=\"1\" class=\"dataframe\">\n",
              "  <thead>\n",
              "    <tr style=\"text-align: right;\">\n",
              "      <th></th>\n",
              "      <th>edge_id</th>\n",
              "      <th>osm_highway</th>\n",
              "      <th>Year</th>\n",
              "      <th>month</th>\n",
              "      <th>day</th>\n",
              "      <th>weekday</th>\n",
              "      <th>precipitation</th>\n",
              "      <th>snowfall</th>\n",
              "      <th>humidity_max</th>\n",
              "      <th>humidity_min</th>\n",
              "      <th>humidity_mean</th>\n",
              "      <th>cloud_coverage</th>\n",
              "      <th>wind_speed_max</th>\n",
              "      <th>wind_speed_min</th>\n",
              "      <th>wind_speed_mean</th>\n",
              "      <th>edge_length</th>\n",
              "    </tr>\n",
              "  </thead>\n",
              "  <tbody>\n",
              "    <tr>\n",
              "      <th>334934</th>\n",
              "      <td>(273223783, 273223789, 0)</td>\n",
              "      <td>residential</td>\n",
              "      <td>2022</td>\n",
              "      <td>4</td>\n",
              "      <td>12</td>\n",
              "      <td>Tuesday</td>\n",
              "      <td>0.0</td>\n",
              "      <td>0.0</td>\n",
              "      <td>66.0</td>\n",
              "      <td>31.0</td>\n",
              "      <td>46.2</td>\n",
              "      <td>39.2</td>\n",
              "      <td>18.2</td>\n",
              "      <td>6.0</td>\n",
              "      <td>13.9</td>\n",
              "      <td>201</td>\n",
              "    </tr>\n",
              "  </tbody>\n",
              "</table>\n",
              "</div>"
            ],
            "text/plain": [
              "                          edge_id  osm_highway  Year month day  weekday  \\\n",
              "334934  (273223783, 273223789, 0)  residential  2022     4  12  Tuesday   \n",
              "\n",
              "        precipitation  snowfall  humidity_max  humidity_min  humidity_mean  \\\n",
              "334934            0.0       0.0          66.0          31.0           46.2   \n",
              "\n",
              "        cloud_coverage  wind_speed_max  wind_speed_min  wind_speed_mean  \\\n",
              "334934            39.2            18.2             6.0             13.9   \n",
              "\n",
              "        edge_length  \n",
              "334934          201  "
            ]
          },
          "execution_count": 56,
          "metadata": {},
          "output_type": "execute_result"
        }
      ],
      "source": [
        "columns_to_drop = ['total_litter_ratio', 'date_utc', 'edge_osmid', 'total_litter', 'lat_north', 'lat_south', 'lon_east', 'lon_west','temperature_max', 'temperature_min', 'temperature_mean']\n",
        "\n",
        "columns_to_drop.extend(litter_columns)\n",
        "columns_to_drop.extend(osm_columns)\n",
        "\n",
        "X = df.drop(columns=columns_to_drop)\n",
        "y = df['total_litter']\n",
        "\n",
        "X_train, X_test, y_train, y_test = train_test_split(X, y, test_size=0.1, random_state=42)\n",
        "\n",
        "print(X_train.shape, X_test.shape)\n",
        "X_train.head(1)"
      ]
    },
    {
      "cell_type": "code",
      "execution_count": 57,
      "metadata": {
        "colab": {
          "base_uri": "https://localhost:8080/"
        },
        "id": "U0kUWbkR1k00",
        "outputId": "c47c8c52-1285-4c9f-b55d-687e2cce48a5"
      },
      "outputs": [
        {
          "name": "stdout",
          "output_type": "stream",
          "text": [
            "Categorical features: ['edge_id', 'osm_highway', 'Year', 'month', 'day', 'weekday']\n",
            "Numeric features: ['precipitation', 'snowfall', 'humidity_max', 'humidity_min', 'humidity_mean', 'cloud_coverage', 'wind_speed_max', 'wind_speed_min', 'wind_speed_mean', 'edge_length']\n"
          ]
        }
      ],
      "source": [
        "categorical_features = X_train.select_dtypes(include=['object', 'category']).columns.tolist()\n",
        "numeric_features = X_train.select_dtypes(include=['int', 'float']).columns.tolist()\n",
        "print(f\"Categorical features: {categorical_features}\")\n",
        "print(f\"Numeric features: {numeric_features}\")"
      ]
    },
    {
      "cell_type": "code",
      "execution_count": 58,
      "metadata": {
        "id": "INT3kPZx1k00"
      },
      "outputs": [],
      "source": [
        "categorical_transformer = Pipeline(steps=[(\"onehot\", OneHotEncoder(handle_unknown=\"ignore\"))\n",
        "                                          ])\n",
        "numeric_transformer = Pipeline(steps=[(\"scaler\", StandardScaler())\n",
        "                                      ])\n",
        "preprocessor = ColumnTransformer(transformers=[(\"num\", numeric_transformer, numeric_features),\n",
        "                                               (\"cat\", categorical_transformer, categorical_features)\n",
        "                                               ])"
      ]
    },
    {
      "cell_type": "markdown",
      "metadata": {
        "id": "b5ONpZ7xaKen"
      },
      "source": [
        "## Models and Predictions"
      ]
    },
    {
      "cell_type": "code",
      "execution_count": 59,
      "metadata": {
        "id": "Bdo9lTZPjQid"
      },
      "outputs": [],
      "source": [
        "regression_scores = {}"
      ]
    },
    {
      "cell_type": "markdown",
      "metadata": {
        "id": "wbPReJMN5644"
      },
      "source": [
        "### Linear Regression"
      ]
    },
    {
      "cell_type": "code",
      "execution_count": 53,
      "metadata": {
        "id": "rAey1bEH1k00"
      },
      "outputs": [],
      "source": [
        "model_linear_r =  LinearRegression()\n",
        "\n",
        "pipeline_linear_r = Pipeline(steps=[(\"pre_process\", preprocessor), \n",
        "                              (\"model\", model_linear_r)\n",
        "                              ])"
      ]
    },
    {
      "cell_type": "code",
      "execution_count": 54,
      "metadata": {
        "colab": {
          "base_uri": "https://localhost:8080/"
        },
        "id": "SeLpw9bw1k00",
        "outputId": "f1f7aa8c-8e0e-4729-b557-d63b7e77774c"
      },
      "outputs": [
        {
          "name": "stdout",
          "output_type": "stream",
          "text": [
            "--- 0.6465527057647705 minutes ---\n"
          ]
        }
      ],
      "source": [
        "start_time = time.time()  # <-- Just to count how long the model takes to predict\n",
        "\n",
        "pipeline_linear_r.fit(X_train, y_train)\n",
        "y_pred_linear_r = pipeline_linear_r.predict(X_test)\n",
        "\n",
        "print(f\"--- {(time.time() - start_time)/60} minutes ---\")"
      ]
    },
    {
      "cell_type": "code",
      "execution_count": 55,
      "metadata": {
        "colab": {
          "base_uri": "https://localhost:8080/"
        },
        "id": "8n-wy0mH1k01",
        "outputId": "ac882c78-71d7-44f1-8956-5fc738676fd5"
      },
      "outputs": [
        {
          "name": "stdout",
          "output_type": "stream",
          "text": [
            "MAE 32.68097113239258\n",
            "MSE 6890.85798237662\n",
            "RMSE 83.01119191034797\n",
            "R2 Score 0.28299151720442406\n"
          ]
        }
      ],
      "source": [
        "from sklearn import metrics\n",
        "\n",
        "print('MAE', metrics.mean_absolute_error(y_test, y_pred_linear_r))\n",
        "print('MSE', metrics.mean_squared_error(y_test, y_pred_linear_r))\n",
        "print('RMSE', np.sqrt(metrics.mean_squared_error(y_test, y_pred_linear_r)))\n",
        "print('R2 Score', metrics.r2_score(y_test, y_pred_linear_r))\n",
        "\n",
        "# Add scores to dictionary\n",
        "regression_scores['linear_r'] = round(metrics.r2_score(y_test, y_pred_linear_r), 3)"
      ]
    },
    {
      "cell_type": "markdown",
      "metadata": {
        "id": "dkPV1zee4H3q"
      },
      "source": [
        "### Poisson Regression"
      ]
    },
    {
      "cell_type": "code",
      "execution_count": 60,
      "metadata": {
        "id": "g6TDXo0_1k01"
      },
      "outputs": [],
      "source": [
        "from sklearn import linear_model\n",
        "\n",
        "model_poisson = linear_model.PoissonRegressor()\n",
        "\n",
        "pipeline_poisson = Pipeline(steps=[\n",
        "                              (\"pre_process\", preprocessor),\n",
        "                              (\"poisson_model\", model_poisson)\n",
        "                              ])"
      ]
    },
    {
      "cell_type": "code",
      "execution_count": 61,
      "metadata": {
        "id": "_nEZm-ePMS_p"
      },
      "outputs": [],
      "source": [
        "from sklearn.model_selection import GridSearchCV\n",
        "from sklearn import linear_model\n",
        "from sklearn.metrics import confusion_matrix, classification_report\n",
        "\n",
        "grid_search_poisson = {'poisson_model__alpha' : [1e-10],\n",
        "                       'poisson_model__max_iter' : [1000],\n",
        "                        }\n",
        "\n",
        "model_poisson = GridSearchCV(estimator=pipeline_poisson, param_grid=grid_search_poisson,\n",
        "                             scoring='neg_mean_poisson_deviance', verbose=5, n_jobs=-1)"
      ]
    },
    {
      "cell_type": "code",
      "execution_count": 62,
      "metadata": {
        "colab": {
          "base_uri": "https://localhost:8080/"
        },
        "id": "ty1QRkNCiekx",
        "outputId": "73cb4151-8409-49bf-ac11-a1edfcd4dad0"
      },
      "outputs": [
        {
          "name": "stdout",
          "output_type": "stream",
          "text": [
            "Fitting 5 folds for each of 1 candidates, totalling 5 fits\n"
          ]
        },
        {
          "name": "stderr",
          "output_type": "stream",
          "text": [
            "/Users/bacher/opt/anaconda3/envs/cortexia/lib/python3.10/site-packages/sklearn/linear_model/_glm/glm.py:294: ConvergenceWarning: lbfgs failed to converge (status=1):\n",
            "STOP: TOTAL NO. of ITERATIONS REACHED LIMIT.\n",
            "\n",
            "Increase the number of iterations (max_iter) or scale the data as shown in:\n",
            "    https://scikit-learn.org/stable/modules/preprocessing.html\n",
            "  self.n_iter_ = _check_optimize_result(\"lbfgs\", opt_res)\n",
            "/Users/bacher/opt/anaconda3/envs/cortexia/lib/python3.10/site-packages/sklearn/linear_model/_glm/glm.py:294: ConvergenceWarning: lbfgs failed to converge (status=1):\n",
            "STOP: TOTAL NO. of ITERATIONS REACHED LIMIT.\n",
            "\n",
            "Increase the number of iterations (max_iter) or scale the data as shown in:\n",
            "    https://scikit-learn.org/stable/modules/preprocessing.html\n",
            "  self.n_iter_ = _check_optimize_result(\"lbfgs\", opt_res)\n",
            "/Users/bacher/opt/anaconda3/envs/cortexia/lib/python3.10/site-packages/sklearn/linear_model/_glm/glm.py:294: ConvergenceWarning: lbfgs failed to converge (status=1):\n",
            "STOP: TOTAL NO. of ITERATIONS REACHED LIMIT.\n",
            "\n",
            "Increase the number of iterations (max_iter) or scale the data as shown in:\n",
            "    https://scikit-learn.org/stable/modules/preprocessing.html\n",
            "  self.n_iter_ = _check_optimize_result(\"lbfgs\", opt_res)\n"
          ]
        },
        {
          "name": "stdout",
          "output_type": "stream",
          "text": [
            "[CV 2/5] END poisson_model__alpha=1e-10, poisson_model__max_iter=1000;, score=-34.722 total time= 2.2min\n",
            "[CV 1/5] END poisson_model__alpha=1e-10, poisson_model__max_iter=1000;, score=-35.363 total time= 2.2min\n"
          ]
        },
        {
          "name": "stderr",
          "output_type": "stream",
          "text": [
            "/Users/bacher/opt/anaconda3/envs/cortexia/lib/python3.10/site-packages/sklearn/linear_model/_glm/glm.py:294: ConvergenceWarning: lbfgs failed to converge (status=1):\n",
            "STOP: TOTAL NO. of ITERATIONS REACHED LIMIT.\n",
            "\n",
            "Increase the number of iterations (max_iter) or scale the data as shown in:\n",
            "    https://scikit-learn.org/stable/modules/preprocessing.html\n",
            "  self.n_iter_ = _check_optimize_result(\"lbfgs\", opt_res)\n"
          ]
        },
        {
          "name": "stdout",
          "output_type": "stream",
          "text": [
            "[CV 3/5] END poisson_model__alpha=1e-10, poisson_model__max_iter=1000;, score=-35.725 total time= 2.2min\n",
            "[CV 4/5] END poisson_model__alpha=1e-10, poisson_model__max_iter=1000;, score=-35.707 total time= 2.2min\n"
          ]
        },
        {
          "name": "stderr",
          "output_type": "stream",
          "text": [
            "/Users/bacher/opt/anaconda3/envs/cortexia/lib/python3.10/site-packages/sklearn/linear_model/_glm/glm.py:294: ConvergenceWarning: lbfgs failed to converge (status=1):\n",
            "STOP: TOTAL NO. of ITERATIONS REACHED LIMIT.\n",
            "\n",
            "Increase the number of iterations (max_iter) or scale the data as shown in:\n",
            "    https://scikit-learn.org/stable/modules/preprocessing.html\n",
            "  self.n_iter_ = _check_optimize_result(\"lbfgs\", opt_res)\n"
          ]
        },
        {
          "name": "stdout",
          "output_type": "stream",
          "text": [
            "[CV 5/5] END poisson_model__alpha=1e-10, poisson_model__max_iter=1000;, score=-36.683 total time= 2.2min\n"
          ]
        },
        {
          "name": "stderr",
          "output_type": "stream",
          "text": [
            "/Users/bacher/opt/anaconda3/envs/cortexia/lib/python3.10/site-packages/sklearn/linear_model/_glm/glm.py:294: ConvergenceWarning: lbfgs failed to converge (status=1):\n",
            "STOP: TOTAL NO. of ITERATIONS REACHED LIMIT.\n",
            "\n",
            "Increase the number of iterations (max_iter) or scale the data as shown in:\n",
            "    https://scikit-learn.org/stable/modules/preprocessing.html\n",
            "  self.n_iter_ = _check_optimize_result(\"lbfgs\", opt_res)\n"
          ]
        },
        {
          "name": "stdout",
          "output_type": "stream",
          "text": [
            "--- 3.6699963172276813 minutes ---\n"
          ]
        }
      ],
      "source": [
        "start_time = time.time()  # <-- Just to count how long the model takes to predict\n",
        "\n",
        "model_poisson.fit(X_train,y_train)\n",
        "predictionforest = model_poisson.best_estimator_.predict(X_test)\n",
        "\n",
        "print(f\"--- {(time.time() - start_time)/60} minutes ---\")"
      ]
    },
    {
      "cell_type": "code",
      "execution_count": 61,
      "metadata": {
        "colab": {
          "base_uri": "https://localhost:8080/"
        },
        "id": "KS4Lx5eL1k02",
        "outputId": "a9af3618-39eb-496c-ffec-1095e39726d0"
      },
      "outputs": [
        {
          "name": "stdout",
          "output_type": "stream",
          "text": [
            "\n"
          ]
        }
      ],
      "source": [
        "best_model_poisson = model_poisson.best_estimator_\n",
        "y_pred_poisson = best_model_poisson.predict(X_test)\n",
        "y_pred_poisson = y_pred_poisson.astype(int)\n",
        "print()"
      ]
    },
    {
      "cell_type": "code",
      "execution_count": 62,
      "metadata": {
        "colab": {
          "base_uri": "https://localhost:8080/"
        },
        "id": "2ZqzCRkyMS_q",
        "outputId": "d90049e6-5632-4c3f-d467-26ce87ddd95d"
      },
      "outputs": [
        {
          "name": "stdout",
          "output_type": "stream",
          "text": [
            "MAE 25.103672283362002\n",
            "MSE 5902.256224845944\n",
            "RMSE 76.82614284763973\n",
            "R2 Score 0.38585764041708615\n",
            "D2 Score 0.6089607957836356\n"
          ]
        }
      ],
      "source": [
        "from sklearn import metrics\n",
        "\n",
        "print('MAE', metrics.mean_absolute_error(y_test, y_pred_poisson))\n",
        "print('MSE', metrics.mean_squared_error(y_test, y_pred_poisson))\n",
        "print('RMSE', np.sqrt(metrics.mean_squared_error(y_test, y_pred_poisson)))\n",
        "print('R2 Score', metrics.r2_score(y_test, y_pred_poisson))\n",
        "print('D2 Score', best_model_poisson.score(X_test, y_test))\n",
        "\n",
        "# Add scores to dictionary\n",
        "regression_scores['poisson'] = round(best_model_poisson.score(X_test, y_test), 3)"
      ]
    },
    {
      "cell_type": "markdown",
      "metadata": {
        "id": "oXPwdRrt6Kcd"
      },
      "source": [
        "### Random Forest"
      ]
    },
    {
      "cell_type": "code",
      "execution_count": 63,
      "metadata": {
        "id": "AdOsQC4x3If4"
      },
      "outputs": [],
      "source": [
        "# TODO: Add grid and parameter tunning\n",
        "\n",
        "from sklearn.ensemble import RandomForestRegressor\n",
        "\n",
        "rfr_model =  RandomForestRegressor(n_estimators=20,\n",
        "                             max_depth=10,\n",
        "                             criterion='mse',\n",
        "                            )\n",
        "\n",
        "pipeline_rfr = Pipeline(steps=[(\"pre_process\", preprocessor), \n",
        "                               (\"model\", rfr_model)\n",
        "                              ])"
      ]
    },
    {
      "cell_type": "code",
      "execution_count": 64,
      "metadata": {
        "colab": {
          "base_uri": "https://localhost:8080/"
        },
        "id": "5IFCtqo6KD_K",
        "outputId": "7629b32e-4f30-47d5-903f-0608bcc6754f"
      },
      "outputs": [
        {
          "name": "stderr",
          "output_type": "stream",
          "text": [
            "/usr/local/lib/python3.7/dist-packages/sklearn/ensemble/_forest.py:400: FutureWarning: Criterion 'mse' was deprecated in v1.0 and will be removed in version 1.2. Use `criterion='squared_error'` which is equivalent.\n",
            "  FutureWarning,\n"
          ]
        },
        {
          "name": "stdout",
          "output_type": "stream",
          "text": [
            "--- 1.9101166685422262 minutes ---\n"
          ]
        }
      ],
      "source": [
        "start_time = time.time()  # <-- Just to count how long the model takes to predict\n",
        "\n",
        "pipeline_rfr.fit(X_train, y_train)\n",
        "pred_rfr = pipeline_rfr.predict(X_test)\n",
        "\n",
        "print(f\"--- {(time.time() - start_time)/60} minutes ---\")"
      ]
    },
    {
      "cell_type": "code",
      "execution_count": 65,
      "metadata": {
        "colab": {
          "base_uri": "https://localhost:8080/"
        },
        "id": "JKBN4Xtt3IdE",
        "outputId": "64c97300-92f7-4c96-d35c-c088da52fcfc"
      },
      "outputs": [
        {
          "name": "stdout",
          "output_type": "stream",
          "text": [
            "MAE 32.67003320057788\n",
            "MSE 7988.979951550463\n",
            "RMSE 89.3810939267945\n",
            "R2 Score 0.16872958218043888\n"
          ]
        }
      ],
      "source": [
        "from sklearn import metrics\n",
        "\n",
        "print('MAE', metrics.mean_absolute_error(y_test, pred_rfr))\n",
        "print('MSE', metrics.mean_squared_error(y_test, pred_rfr))\n",
        "print('RMSE', np.sqrt(metrics.mean_squared_error(y_test, pred_rfr)))\n",
        "print('R2 Score', metrics.r2_score(y_test, pred_rfr))"
      ]
    }
  ],
  "metadata": {
    "colab": {
      "machine_shape": "hm",
      "name": "dominik_day_5_to_9_osm.ipynb",
      "provenance": []
    },
    "gpuClass": "standard",
    "kernelspec": {
      "display_name": "Python 3.10.5 ('cortexia3')",
      "language": "python",
      "name": "python3"
    },
    "language_info": {
      "codemirror_mode": {
        "name": "ipython",
        "version": 3
      },
      "file_extension": ".py",
      "mimetype": "text/x-python",
      "name": "python",
      "nbconvert_exporter": "python",
      "pygments_lexer": "ipython3",
      "version": "3.10.5"
    },
    "vscode": {
      "interpreter": {
        "hash": "393eaa007fcd2c7a4c179b44934792a94932bcce71862c954e102a685fb04132"
      }
    }
  },
  "nbformat": 4,
  "nbformat_minor": 0
}
